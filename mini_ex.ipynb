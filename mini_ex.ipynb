{
 "cells": [
  {
   "cell_type": "code",
   "execution_count": 3,
   "metadata": {},
   "outputs": [],
   "source": [
    "import numpy as np"
   ]
  },
  {
   "cell_type": "code",
   "execution_count": 4,
   "metadata": {},
   "outputs": [
    {
     "name": "stdout",
     "output_type": "stream",
     "text": [
      "['Thanh Hoang' 'Lan Huong' 'Quoc Bao' 'Minh Tri' 'Kieu Chinh']\n",
      "[7.5 8.  9.5 4.5 6. ]\n"
     ]
    }
   ],
   "source": [
    "ten = np.array(['Thanh Hoang','Lan Huong','Quoc Bao','Minh Tri','Kieu Chinh'])\n",
    "diem = np.array([7.5,8.0,9.5,4.5,6.0])\n",
    "print(ten)\n",
    "print(diem)"
   ]
  },
  {
   "cell_type": "code",
   "execution_count": 16,
   "metadata": {},
   "outputs": [
    {
     "name": "stdout",
     "output_type": "stream",
     "text": [
      "Max diem: 9.5\n",
      "Min diem: 4.5\n",
      "Cac hoc sinh co diem lon nhat la: ['Quoc Bao']\n",
      "Cac hoc sinh co diem nho nhat la: ['Minh Tri']\n",
      "4\n",
      "4\n"
     ]
    }
   ],
   "source": [
    "# cho biet diem lon nhat, diem nho nhat, diem trung binh cac diem\n",
    "diem_max,diem_min = np.amax(diem),np.amin(diem)\n",
    "print('Max diem:',diem_max)\n",
    "print('Min diem:',diem_min)\n",
    "\n",
    "# cho biet ten cac hoc sinh co diem lon nhat\n",
    "index = np.where(diem==diem_max)\n",
    "print('Cac hoc sinh co diem lon nhat la:',ten[index])\n",
    "\n",
    "# cho biet ten cac hoc sinh co diem nho nhat\n",
    "print('Cac hoc sinh co diem nho nhat la:',ten[np.where(diem==diem_min)])\n",
    "\n",
    "# cho biet co bao nhieu hoc sinh co diem >=5\n",
    "n1 = np.where(diem>=5)\n",
    "print(len(n1[0]))\n",
    "#\n",
    "ten_1 = ten[n1]\n",
    "print(ten_1.shape[0])\n",
    "# cho biet co bao nhieu hoc sinh co diem <5\n",
    "# cho biet ten cac hoc sinh co diem > diem trung binh cac diem"
   ]
  },
  {
   "cell_type": "code",
   "execution_count": null,
   "metadata": {},
   "outputs": [],
   "source": []
  }
 ],
 "metadata": {
  "kernelspec": {
   "display_name": "Python 3",
   "language": "python",
   "name": "python3"
  },
  "language_info": {
   "codemirror_mode": {
    "name": "ipython",
    "version": 3
   },
   "file_extension": ".py",
   "mimetype": "text/x-python",
   "name": "python",
   "nbconvert_exporter": "python",
   "pygments_lexer": "ipython3",
   "version": "3.6.8"
  }
 },
 "nbformat": 4,
 "nbformat_minor": 2
}
