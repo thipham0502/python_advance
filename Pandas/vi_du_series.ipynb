{
 "cells": [
  {
   "cell_type": "code",
   "execution_count": 1,
   "metadata": {},
   "outputs": [],
   "source": [
    "import numpy as np\n",
    "import pandas as pd"
   ]
  },
  {
   "cell_type": "code",
   "execution_count": 3,
   "metadata": {},
   "outputs": [
    {
     "name": "stdout",
     "output_type": "stream",
     "text": [
      "(6,)\n",
      "0    Elephant\n",
      "1       Tiger\n",
      "2         Dog\n",
      "3         Cat\n",
      "4       Camel\n",
      "5       Snake\n",
      "dtype: object\n"
     ]
    }
   ],
   "source": [
    "animals = pd.Series(['Elephant','Tiger','Dog','Cat','Camel','Snake'])\n",
    "print(animals.shape)\n",
    "print(animals)"
   ]
  },
  {
   "cell_type": "code",
   "execution_count": 4,
   "metadata": {},
   "outputs": [
    {
     "name": "stdout",
     "output_type": "stream",
     "text": [
      "Snake\n"
     ]
    }
   ],
   "source": [
    "print(animals[5])"
   ]
  },
  {
   "cell_type": "code",
   "execution_count": 5,
   "metadata": {},
   "outputs": [
    {
     "name": "stdout",
     "output_type": "stream",
     "text": [
      "T01     Tao\n",
      "L01      Le\n",
      "C03     Cam\n",
      "Q07    Quit\n",
      "dtype: object\n"
     ]
    }
   ],
   "source": [
    "fruits = pd.Series(['Tao','Le','Cam','Quit'], index=['T01','L01','C03','Q07'])\n",
    "print(fruits)"
   ]
  },
  {
   "cell_type": "code",
   "execution_count": 6,
   "metadata": {},
   "outputs": [
    {
     "name": "stdout",
     "output_type": "stream",
     "text": [
      "T01     Tao\n",
      "L01      Le\n",
      "C03     Cam\n",
      "Q07    Quit\n",
      "dtype: object\n"
     ]
    }
   ],
   "source": [
    "fruits = pd.Series({'T01':'Tao','L01':'Le','C03':'Cam','Q07':'Quit'})\n",
    "print(fruits)"
   ]
  },
  {
   "cell_type": "code",
   "execution_count": 7,
   "metadata": {},
   "outputs": [
    {
     "name": "stdout",
     "output_type": "stream",
     "text": [
      "0      0\n",
      "1      1\n",
      "2      2\n",
      "3      3\n",
      "4      4\n",
      "5      5\n",
      "6      6\n",
      "7      7\n",
      "8      8\n",
      "9      9\n",
      "10    10\n",
      "11    11\n",
      "12    12\n",
      "13    13\n",
      "14    14\n",
      "15    15\n",
      "16    16\n",
      "17    17\n",
      "18    18\n",
      "19    19\n",
      "dtype: int32\n"
     ]
    }
   ],
   "source": [
    "x = pd.Series(np.arange(20))\n",
    "print(x)"
   ]
  },
  {
   "cell_type": "code",
   "execution_count": 8,
   "metadata": {},
   "outputs": [
    {
     "name": "stdout",
     "output_type": "stream",
     "text": [
      "200      Red\n",
      "201    Green\n",
      "202     Blue\n",
      "203    White\n",
      "204    Black\n",
      "dtype: object\n"
     ]
    }
   ],
   "source": [
    "x = pd.Series(['Red','Green','Blue','White','Black'], index=[200,201,202,203,204]) # index = 200,201, ...\n",
    "print(x)"
   ]
  },
  {
   "cell_type": "code",
   "execution_count": 9,
   "metadata": {},
   "outputs": [
    {
     "name": "stdout",
     "output_type": "stream",
     "text": [
      "200      Red\n",
      "201    Green\n",
      "202     Blue\n",
      "203    White\n",
      "204    Black\n",
      "dtype: object\n"
     ]
    }
   ],
   "source": [
    "x = pd.Series(['Red','Green','Blue','White','Black'], index=np.arange(200,205,1)) # index = 200,201, ...\n",
    "print(x)"
   ]
  },
  {
   "cell_type": "code",
   "execution_count": 11,
   "metadata": {},
   "outputs": [
    {
     "name": "stdout",
     "output_type": "stream",
     "text": [
      "200       Red\n",
      "201     Green\n",
      "202      Blue\n",
      "203     White\n",
      "204     Black\n",
      "205    Yellow\n",
      "206    Orange\n",
      "dtype: object\n"
     ]
    }
   ],
   "source": [
    "my_list = ['Red','Green','Blue','White','Black','Yellow','Orange']\n",
    "x = pd.Series(my_list,index=np.arange(200,200+len(my_list),1))\n",
    "print(x)"
   ]
  },
  {
   "cell_type": "code",
   "execution_count": 12,
   "metadata": {},
   "outputs": [
    {
     "name": "stdout",
     "output_type": "stream",
     "text": [
      "7\n"
     ]
    }
   ],
   "source": [
    "print(len(x))"
   ]
  },
  {
   "cell_type": "code",
   "execution_count": 13,
   "metadata": {},
   "outputs": [
    {
     "name": "stdout",
     "output_type": "stream",
     "text": [
      "200       Red\n",
      "201     Green\n",
      "202      Blue\n",
      "203     White\n",
      "204     Black\n",
      "205    YELLOW\n",
      "206    Orange\n",
      "dtype: object\n"
     ]
    }
   ],
   "source": [
    "x[205] = x[205].upper()\n",
    "print(x)"
   ]
  },
  {
   "cell_type": "code",
   "execution_count": 15,
   "metadata": {},
   "outputs": [
    {
     "name": "stdout",
     "output_type": "stream",
     "text": [
      "200       RED\n",
      "201     GREEN\n",
      "202      BLUE\n",
      "203     WHITE\n",
      "204     BLACK\n",
      "205    YELLOW\n",
      "206    ORANGE\n",
      "dtype: object\n"
     ]
    }
   ],
   "source": [
    "x = x.map(lambda i: i.upper())\n",
    "print(x)"
   ]
  },
  {
   "cell_type": "code",
   "execution_count": 19,
   "metadata": {},
   "outputs": [
    {
     "name": "stdout",
     "output_type": "stream",
     "text": [
      "200       RED\n",
      "201     BROWN\n",
      "202      BLUE\n",
      "203     WHITE\n",
      "204     BLACK\n",
      "205    YELLOW\n",
      "206    ORANGE\n",
      "1       BROWN\n",
      "800     BROWN\n",
      "dtype: object\n"
     ]
    }
   ],
   "source": [
    "x[800] = 'BROWN'\n",
    "print(x)"
   ]
  },
  {
   "cell_type": "code",
   "execution_count": 22,
   "metadata": {},
   "outputs": [
    {
     "name": "stdout",
     "output_type": "stream",
     "text": [
      "0    0\n",
      "1    1\n",
      "2    2\n",
      "3    3\n",
      "4    4\n",
      "5    5\n",
      "6    6\n",
      "7    7\n",
      "8    8\n",
      "9    9\n",
      "dtype: int32\n"
     ]
    }
   ],
   "source": [
    "x = pd.Series(np.arange(1000))\n",
    "print(x.head(10))"
   ]
  },
  {
   "cell_type": "code",
   "execution_count": 23,
   "metadata": {},
   "outputs": [
    {
     "name": "stdout",
     "output_type": "stream",
     "text": [
      "990    990\n",
      "991    991\n",
      "992    992\n",
      "993    993\n",
      "994    994\n",
      "995    995\n",
      "996    996\n",
      "997    997\n",
      "998    998\n",
      "999    999\n",
      "dtype: int32\n"
     ]
    }
   ],
   "source": [
    "print(x.tail(10))"
   ]
  },
  {
   "cell_type": "code",
   "execution_count": 24,
   "metadata": {},
   "outputs": [
    {
     "name": "stdout",
     "output_type": "stream",
     "text": [
      "0    5\n",
      "1    7\n",
      "2    9\n",
      "dtype: int64\n"
     ]
    }
   ],
   "source": [
    "x = pd.Series([1,2,3])\n",
    "y = pd.Series([4,5,6])\n",
    "z = x+y\n",
    "print(z)"
   ]
  },
  {
   "cell_type": "code",
   "execution_count": 25,
   "metadata": {},
   "outputs": [
    {
     "name": "stdout",
     "output_type": "stream",
     "text": [
      "0    1\n",
      "1    2\n",
      "2    3\n",
      "0    4\n",
      "1    5\n",
      "2    6\n",
      "dtype: int64\n"
     ]
    }
   ],
   "source": [
    "z = x.append(y)\n",
    "print(z)"
   ]
  },
  {
   "cell_type": "code",
   "execution_count": 26,
   "metadata": {},
   "outputs": [
    {
     "name": "stdout",
     "output_type": "stream",
     "text": [
      "0    1\n",
      "0    4\n",
      "dtype: int64\n"
     ]
    }
   ],
   "source": [
    "print(z[0])"
   ]
  },
  {
   "cell_type": "code",
   "execution_count": 27,
   "metadata": {},
   "outputs": [
    {
     "name": "stdout",
     "output_type": "stream",
     "text": [
      "0    1\n",
      "1    2\n",
      "2    3\n",
      "3    4\n",
      "4    5\n",
      "5    6\n",
      "dtype: int64\n"
     ]
    }
   ],
   "source": [
    "t = pd.Series(z.values)\n",
    "print(t)"
   ]
  },
  {
   "cell_type": "code",
   "execution_count": 31,
   "metadata": {},
   "outputs": [],
   "source": [
    "x = pd.Series([21,12,19,48,21,32])"
   ]
  },
  {
   "cell_type": "code",
   "execution_count": 32,
   "metadata": {},
   "outputs": [
    {
     "name": "stdout",
     "output_type": "stream",
     "text": [
      "6\n",
      "25.5\n"
     ]
    }
   ],
   "source": [
    "print(x.count())\n",
    "print(x.mean())"
   ]
  },
  {
   "cell_type": "code",
   "execution_count": 33,
   "metadata": {},
   "outputs": [
    {
     "name": "stdout",
     "output_type": "stream",
     "text": [
      "21.0\n"
     ]
    }
   ],
   "source": [
    "print(x.median())"
   ]
  },
  {
   "cell_type": "code",
   "execution_count": 34,
   "metadata": {},
   "outputs": [
    {
     "name": "stdout",
     "output_type": "stream",
     "text": [
      "0    21\n",
      "dtype: int64\n"
     ]
    }
   ],
   "source": [
    "print(x.mode())"
   ]
  },
  {
   "cell_type": "code",
   "execution_count": 36,
   "metadata": {},
   "outputs": [
    {
     "name": "stdout",
     "output_type": "stream",
     "text": [
      "154441728\n"
     ]
    }
   ],
   "source": [
    "print(x.prod())"
   ]
  },
  {
   "cell_type": "code",
   "execution_count": 37,
   "metadata": {},
   "outputs": [
    {
     "name": "stdout",
     "output_type": "stream",
     "text": [
      "154441728\n"
     ]
    }
   ],
   "source": [
    "t = 1\n",
    "for num in x:\n",
    "    t=t*num\n",
    "print(t)    "
   ]
  },
  {
   "cell_type": "code",
   "execution_count": 38,
   "metadata": {},
   "outputs": [
    {
     "name": "stdout",
     "output_type": "stream",
     "text": [
      "0    21\n",
      "1    12\n",
      "2    19\n",
      "3    48\n",
      "4    21\n",
      "5    32\n",
      "dtype: int64\n",
      "0     21\n",
      "1     33\n",
      "2     52\n",
      "3    100\n",
      "4    121\n",
      "5    153\n",
      "dtype: int64\n"
     ]
    }
   ],
   "source": [
    "print(x)\n",
    "print(x.cumsum())"
   ]
  },
  {
   "cell_type": "code",
   "execution_count": 40,
   "metadata": {},
   "outputs": [
    {
     "name": "stdout",
     "output_type": "stream",
     "text": [
      "0    1.0\n",
      "1    2.0\n",
      "2    3.0\n",
      "3    NaN\n",
      "4    NaN\n",
      "dtype: float64\n"
     ]
    }
   ],
   "source": [
    "x = pd.Series([1,2,3,np.NaN,np.NaN])\n",
    "print(x)"
   ]
  },
  {
   "cell_type": "code",
   "execution_count": 41,
   "metadata": {},
   "outputs": [
    {
     "name": "stdout",
     "output_type": "stream",
     "text": [
      "3\n"
     ]
    }
   ],
   "source": [
    "print(x.count())"
   ]
  },
  {
   "cell_type": "code",
   "execution_count": 43,
   "metadata": {},
   "outputs": [
    {
     "name": "stdout",
     "output_type": "stream",
     "text": [
      "2\n"
     ]
    }
   ],
   "source": [
    "print(len(x)-x.count())"
   ]
  },
  {
   "cell_type": "code",
   "execution_count": 45,
   "metadata": {},
   "outputs": [
    {
     "name": "stdout",
     "output_type": "stream",
     "text": [
      "count     6.000000\n",
      "mean     25.500000\n",
      "std      12.755391\n",
      "min      12.000000\n",
      "25%      19.500000\n",
      "50%      21.000000\n",
      "75%      29.250000\n",
      "max      48.000000\n",
      "dtype: float64\n"
     ]
    }
   ],
   "source": [
    "x = pd.Series([21,12,19,48,21,32])\n",
    "print(x.describe())"
   ]
  },
  {
   "cell_type": "code",
   "execution_count": 46,
   "metadata": {},
   "outputs": [
    {
     "name": "stdout",
     "output_type": "stream",
     "text": [
      "1.25\n"
     ]
    }
   ],
   "source": [
    "n = (len(x)-1)*25/100\n",
    "print(n)"
   ]
  },
  {
   "cell_type": "code",
   "execution_count": 47,
   "metadata": {},
   "outputs": [
    {
     "name": "stdout",
     "output_type": "stream",
     "text": [
      "19.5\n"
     ]
    }
   ],
   "source": [
    "n_ = 19 + (21-19)*0.25\n",
    "print(n_)"
   ]
  },
  {
   "cell_type": "code",
   "execution_count": 48,
   "metadata": {},
   "outputs": [
    {
     "name": "stdout",
     "output_type": "stream",
     "text": [
      "19.5\n"
     ]
    }
   ],
   "source": [
    "print(x.quantile(0.25))"
   ]
  },
  {
   "cell_type": "code",
   "execution_count": 49,
   "metadata": {},
   "outputs": [
    {
     "name": "stdout",
     "output_type": "stream",
     "text": [
      "29.25\n"
     ]
    }
   ],
   "source": [
    "print(x.quantile(0.75))\n"
   ]
  },
  {
   "cell_type": "code",
   "execution_count": 50,
   "metadata": {},
   "outputs": [
    {
     "name": "stdout",
     "output_type": "stream",
     "text": [
      "20.0\n"
     ]
    }
   ],
   "source": [
    "print(x.quantile(30/100))"
   ]
  },
  {
   "cell_type": "code",
   "execution_count": null,
   "metadata": {},
   "outputs": [],
   "source": []
  }
 ],
 "metadata": {
  "kernelspec": {
   "display_name": "Python 3",
   "language": "python",
   "name": "python3"
  },
  "language_info": {
   "codemirror_mode": {
    "name": "ipython",
    "version": 3
   },
   "file_extension": ".py",
   "mimetype": "text/x-python",
   "name": "python",
   "nbconvert_exporter": "python",
   "pygments_lexer": "ipython3",
   "version": "3.6.8"
  }
 },
 "nbformat": 4,
 "nbformat_minor": 2
}
