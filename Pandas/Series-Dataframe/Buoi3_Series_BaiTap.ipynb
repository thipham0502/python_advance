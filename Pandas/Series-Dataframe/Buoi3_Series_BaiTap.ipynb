{
 "cells": [
  {
   "cell_type": "code",
   "execution_count": 1,
   "metadata": {},
   "outputs": [],
   "source": [
    "import numpy as np\n",
    "import pandas as pd"
   ]
  },
  {
   "cell_type": "code",
   "execution_count": 8,
   "metadata": {},
   "outputs": [],
   "source": [
    "def read_txt(fileName):\n",
    "    f = open(fileName)\n",
    "    data = f.read()\n",
    "    data = data.split(',')\n",
    "    data = [int(item) for item in data]\n",
    "    f.close()\n",
    "    return data"
   ]
  },
  {
   "cell_type": "code",
   "execution_count": 11,
   "metadata": {},
   "outputs": [
    {
     "name": "stdout",
     "output_type": "stream",
     "text": [
      "1015\n",
      "0    74\n",
      "1    74\n",
      "2    72\n",
      "3    72\n",
      "4    73\n",
      "5    69\n",
      "6    69\n",
      "7    71\n",
      "8    76\n",
      "9    71\n",
      "dtype: int64\n",
      "1005    75\n",
      "1006    69\n",
      "1007    75\n",
      "1008    72\n",
      "1009    75\n",
      "1010    73\n",
      "1011    74\n",
      "1012    75\n",
      "1013    75\n",
      "1014    73\n",
      "dtype: int64\n"
     ]
    }
   ],
   "source": [
    "series_heights = pd.Series(read_txt('vi_du_04/heights_1.txt'))\n",
    "print(series_heights.size)\n",
    "print(series_heights.head(10))\n",
    "print(series_heights.tail(10))"
   ]
  },
  {
   "cell_type": "code",
   "execution_count": 12,
   "metadata": {},
   "outputs": [
    {
     "name": "stdout",
     "output_type": "stream",
     "text": [
      "1015\n",
      "0    180\n",
      "1    215\n",
      "2    210\n",
      "3    210\n",
      "4    188\n",
      "5    176\n",
      "6    209\n",
      "7    200\n",
      "8    231\n",
      "9    180\n",
      "dtype: int64\n",
      "1005    230\n",
      "1006    190\n",
      "1007    220\n",
      "1008    180\n",
      "1009    205\n",
      "1010    190\n",
      "1011    180\n",
      "1012    205\n",
      "1013    190\n",
      "1014    195\n",
      "dtype: int64\n"
     ]
    }
   ],
   "source": [
    "series_weights = pd.Series(read_txt('vi_du_04/weights_1.txt'))\n",
    "print(series_weights.size)\n",
    "print(series_weights.head(10))\n",
    "print(series_weights.tail(10))"
   ]
  },
  {
   "cell_type": "code",
   "execution_count": 16,
   "metadata": {},
   "outputs": [
    {
     "name": "stdout",
     "output_type": "stream",
     "text": [
      "0    1.8796\n",
      "1    1.8796\n",
      "2    1.8288\n",
      "3    1.8288\n",
      "4    1.8542\n",
      "dtype: float64\n",
      "1010    1.8542\n",
      "1011    1.8796\n",
      "1012    1.9050\n",
      "1013    1.9050\n",
      "1014    1.8542\n",
      "dtype: float64\n"
     ]
    }
   ],
   "source": [
    "# Convert inch to m:  * 0.0254\n",
    "series_heights_m = series_heights * 0.0254\n",
    "print(series_heights_m.head(5))\n",
    "print(series_heights_m.tail(5))"
   ]
  },
  {
   "cell_type": "code",
   "execution_count": 15,
   "metadata": {},
   "outputs": [
    {
     "name": "stdout",
     "output_type": "stream",
     "text": [
      "0    81.646560\n",
      "1    97.522280\n",
      "2    95.254320\n",
      "3    95.254320\n",
      "4    85.275296\n",
      "dtype: float64\n",
      "1010    86.18248\n",
      "1011    81.64656\n",
      "1012    92.98636\n",
      "1013    86.18248\n",
      "1014    88.45044\n",
      "dtype: float64\n"
     ]
    }
   ],
   "source": [
    "# Convert pound to kg:  * 0.453592\n",
    "series_weights_kg = series_weights * 0.453592\n",
    "print(series_weights_kg.head(5))\n",
    "print(series_weights_kg.tail(5))"
   ]
  },
  {
   "cell_type": "code",
   "execution_count": 19,
   "metadata": {},
   "outputs": [
    {
     "name": "stdout",
     "output_type": "stream",
     "text": [
      "0    23.110376\n",
      "1    27.604061\n",
      "2    28.480805\n",
      "3    28.480805\n",
      "4    24.803335\n",
      "dtype: float64\n"
     ]
    }
   ],
   "source": [
    "# Tính BMI\n",
    "series_bmi = series_weights_kg / (series_heights_m ** 2)\n",
    "print(series_bmi.head(5))"
   ]
  },
  {
   "cell_type": "code",
   "execution_count": 21,
   "metadata": {},
   "outputs": [
    {
     "name": "stdout",
     "output_type": "stream",
     "text": [
      "13     20.542557\n",
      "89     20.542557\n",
      "159    20.692820\n",
      "271    20.692820\n",
      "279    20.343432\n",
      "357    20.343432\n",
      "499    20.692820\n",
      "658    20.158835\n",
      "742    19.498447\n",
      "793    20.692820\n",
      "906    20.920522\n",
      "dtype: float64\n"
     ]
    }
   ],
   "source": [
    "# Tìm các BMI < 21\n",
    "series_bmi_21 = series_bmi[series_bmi < 21]\n",
    "print(series_bmi_21)"
   ]
  },
  {
   "cell_type": "code",
   "execution_count": null,
   "metadata": {},
   "outputs": [],
   "source": []
  }
 ],
 "metadata": {
  "kernelspec": {
   "display_name": "Python 3",
   "language": "python",
   "name": "python3"
  },
  "language_info": {
   "codemirror_mode": {
    "name": "ipython",
    "version": 3
   },
   "file_extension": ".py",
   "mimetype": "text/x-python",
   "name": "python",
   "nbconvert_exporter": "python",
   "pygments_lexer": "ipython3",
   "version": "3.6.8"
  }
 },
 "nbformat": 4,
 "nbformat_minor": 2
}
