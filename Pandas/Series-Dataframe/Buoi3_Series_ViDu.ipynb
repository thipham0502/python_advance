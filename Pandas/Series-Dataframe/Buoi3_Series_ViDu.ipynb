{
 "cells": [
  {
   "cell_type": "code",
   "execution_count": 1,
   "metadata": {},
   "outputs": [],
   "source": [
    "import numpy as np\n",
    "import pandas as pd"
   ]
  },
  {
   "cell_type": "code",
   "execution_count": 2,
   "metadata": {},
   "outputs": [
    {
     "name": "stdout",
     "output_type": "stream",
     "text": [
      "(6,)\n",
      "0    Elephant\n",
      "1       Tiger\n",
      "2         Dog\n",
      "3         Cat\n",
      "4       Camel\n",
      "5       Snake\n",
      "dtype: object\n"
     ]
    }
   ],
   "source": [
    "animals = pd.Series(['Elephant','Tiger','Dog','Cat','Camel','Snake'])\n",
    "print(animals.shape)\n",
    "print(animals)"
   ]
  },
  {
   "cell_type": "code",
   "execution_count": 3,
   "metadata": {},
   "outputs": [
    {
     "name": "stdout",
     "output_type": "stream",
     "text": [
      "Snake\n"
     ]
    }
   ],
   "source": [
    "print(animals[5])"
   ]
  },
  {
   "cell_type": "code",
   "execution_count": 4,
   "metadata": {},
   "outputs": [
    {
     "name": "stdout",
     "output_type": "stream",
     "text": [
      "T01     Tao\n",
      "L01      Le\n",
      "C03     Cam\n",
      "Q07    Quit\n",
      "dtype: object\n"
     ]
    }
   ],
   "source": [
    "fruits = pd.Series(['Tao','Le','Cam','Quit'], index=['T01','L01','C03','Q07'])\n",
    "print(fruits)"
   ]
  },
  {
   "cell_type": "code",
   "execution_count": 5,
   "metadata": {},
   "outputs": [
    {
     "name": "stdout",
     "output_type": "stream",
     "text": [
      "T01     Tao\n",
      "L01      Le\n",
      "C03     Cam\n",
      "Q07    Quit\n",
      "dtype: object\n"
     ]
    }
   ],
   "source": [
    "fruits = pd.Series({'T01':'Tao','L01':'Le','C03':'Cam','Q07':'Quit'})\n",
    "print(fruits)"
   ]
  },
  {
   "cell_type": "code",
   "execution_count": 6,
   "metadata": {},
   "outputs": [
    {
     "name": "stdout",
     "output_type": "stream",
     "text": [
      "0      0\n",
      "1      1\n",
      "2      2\n",
      "3      3\n",
      "4      4\n",
      "5      5\n",
      "6      6\n",
      "7      7\n",
      "8      8\n",
      "9      9\n",
      "10    10\n",
      "11    11\n",
      "12    12\n",
      "13    13\n",
      "14    14\n",
      "15    15\n",
      "16    16\n",
      "17    17\n",
      "18    18\n",
      "19    19\n",
      "dtype: int32\n"
     ]
    }
   ],
   "source": [
    "x = pd.Series(np.arange(20))\n",
    "print(x)"
   ]
  },
  {
   "cell_type": "code",
   "execution_count": 7,
   "metadata": {},
   "outputs": [
    {
     "name": "stdout",
     "output_type": "stream",
     "text": [
      "200      Red\n",
      "201    Green\n",
      "202     Blue\n",
      "203    White\n",
      "204    Black\n",
      "dtype: object\n"
     ]
    }
   ],
   "source": [
    "x = pd.Series(['Red','Green','Blue','White','Black'], index=[200,201,202,203,204]) # index = 200,201, ...\n",
    "print(x)"
   ]
  },
  {
   "cell_type": "code",
   "execution_count": 8,
   "metadata": {},
   "outputs": [
    {
     "name": "stdout",
     "output_type": "stream",
     "text": [
      "200      Red\n",
      "201    Green\n",
      "202     Blue\n",
      "203    White\n",
      "204    Black\n",
      "dtype: object\n"
     ]
    }
   ],
   "source": [
    "x = pd.Series(['Red','Green','Blue','White','Black'], index=np.arange(200,205,1)) # index = 200,201, ...\n",
    "print(x)"
   ]
  },
  {
   "cell_type": "code",
   "execution_count": 9,
   "metadata": {},
   "outputs": [
    {
     "name": "stdout",
     "output_type": "stream",
     "text": [
      "200       Red\n",
      "201     Green\n",
      "202      Blue\n",
      "203     White\n",
      "204     Black\n",
      "205    Yellow\n",
      "206    Orange\n",
      "dtype: object\n"
     ]
    }
   ],
   "source": [
    "my_list = ['Red','Green','Blue','White','Black','Yellow','Orange']\n",
    "x = pd.Series(my_list,index=np.arange(200,200+len(my_list),1))\n",
    "print(x)"
   ]
  },
  {
   "cell_type": "code",
   "execution_count": null,
   "metadata": {},
   "outputs": [],
   "source": []
  }
 ],
 "metadata": {
  "kernelspec": {
   "display_name": "Python 3",
   "language": "python",
   "name": "python3"
  },
  "language_info": {
   "codemirror_mode": {
    "name": "ipython",
    "version": 3
   },
   "file_extension": ".py",
   "mimetype": "text/x-python",
   "name": "python",
   "nbconvert_exporter": "python",
   "pygments_lexer": "ipython3",
   "version": "3.7.3"
  }
 },
 "nbformat": 4,
 "nbformat_minor": 2
}
