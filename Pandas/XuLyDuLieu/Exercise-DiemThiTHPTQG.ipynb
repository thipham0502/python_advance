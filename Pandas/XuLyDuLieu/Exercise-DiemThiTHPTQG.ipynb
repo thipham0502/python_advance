{
 "cells": [
  {
   "cell_type": "markdown",
   "metadata": {},
   "source": [
    "## Làm việc với tập tin Điểm thi THPTQG"
   ]
  },
  {
   "cell_type": "code",
   "execution_count": 1,
   "metadata": {},
   "outputs": [],
   "source": [
    "import pandas as pd\n",
    "import numpy as np"
   ]
  },
  {
   "cell_type": "code",
   "execution_count": 2,
   "metadata": {},
   "outputs": [
    {
     "name": "stdout",
     "output_type": "stream",
     "text": [
      "(34826, 6)\n",
      "  SOBAODANH         HO_TEN   NGAY_SINH         TEN_CUMTHI GIOI_TINH  \\\n",
      "0  18000001  DƯƠNG VIỆT AN  12/03/1998  Sở GDĐT Bắc Giang       Nam   \n",
      "1  18000002      ĐỖ VĂN AN   9/12/1998  Sở GDĐT Bắc Giang       Nam   \n",
      "2  18000003     ĐỖ XUÂN AN  12/08/1997  Sở GDĐT Bắc Giang       Nam   \n",
      "3  18000004   ĐẶNG PHÚC AN  19/03/1998  Sở GDĐT Bắc Giang        Nữ   \n",
      "4  18000005    ĐẶNG VĂN AN  25/10/1998  Sở GDĐT Bắc Giang       Nam   \n",
      "\n",
      "                                            DIEM_THI  \n",
      "0  Toán:   2.00   Ngữ văn:   5.50   Lịch sử:   3....  \n",
      "1  Toán:   5.50   Ngữ văn:   5.25   Địa lí:   5.5...  \n",
      "2  Toán:   4.50   Ngữ văn:   5.50   Địa lí:   3.7...  \n",
      "3  Toán:   3.00   Ngữ văn:   6.00   Địa lí:   5.5...  \n",
      "4  Toán:   2.25   Ngữ văn:   4.75   Địa lí:   5.2...  \n"
     ]
    }
   ],
   "source": [
    "df = pd.read_csv('Diemthi_thpt_quocgia_2016.csv')\n",
    "print(df.shape)\n",
    "print(df.head())"
   ]
  },
  {
   "cell_type": "code",
   "execution_count": 3,
   "metadata": {},
   "outputs": [
    {
     "name": "stdout",
     "output_type": "stream",
     "text": [
      "Toán:   2.00   Ngữ văn:   5.50   Lịch sử:   3.00   Địa lí:   5.00\n",
      "['Toán:', ' 2.00', ' Ngữ văn:', ' 5.50', ' Lịch sử:', ' 3.00', ' Địa lí:', ' 5.00']\n"
     ]
    }
   ],
   "source": [
    "# Lấy 1 dòng điểm làm nháp\n",
    "chuoi_test = df.iloc[0]['DIEM_THI']\n",
    "print(chuoi_test)\n",
    "\n",
    "# Tách chuỗi\n",
    "lst_chuoi_test = chuoi_test.split(' ' * 2)\n",
    "print(lst_chuoi_test)"
   ]
  },
  {
   "cell_type": "code",
   "execution_count": 4,
   "metadata": {},
   "outputs": [
    {
     "name": "stdout",
     "output_type": "stream",
     "text": [
      "['Toán', 'Ngữ văn', 'Lịch sử', 'Địa lí']\n",
      "[2.0, 5.5, 3.0, 5.0]\n"
     ]
    }
   ],
   "source": [
    "# Chuyển đổi chuỗi test thành 2 list: Môn, Điểm\n",
    "lst_mon = []\n",
    "lst_diem = []\n",
    "\n",
    "for i in range(0,len(lst_chuoi_test),2):\n",
    "    lst_mon.append(lst_chuoi_test[i].strip().strip(':'))\n",
    "    lst_diem.append(float(lst_chuoi_test[i+1].strip()))\n",
    "\n",
    "print(lst_mon)\n",
    "print(lst_diem)"
   ]
  },
  {
   "cell_type": "code",
   "execution_count": 5,
   "metadata": {},
   "outputs": [
    {
     "data": {
      "text/html": [
       "<div>\n",
       "<style scoped>\n",
       "    .dataframe tbody tr th:only-of-type {\n",
       "        vertical-align: middle;\n",
       "    }\n",
       "\n",
       "    .dataframe tbody tr th {\n",
       "        vertical-align: top;\n",
       "    }\n",
       "\n",
       "    .dataframe thead th {\n",
       "        text-align: right;\n",
       "    }\n",
       "</style>\n",
       "<table border=\"1\" class=\"dataframe\">\n",
       "  <thead>\n",
       "    <tr style=\"text-align: right;\">\n",
       "      <th></th>\n",
       "      <th>Mon</th>\n",
       "      <th>Diem</th>\n",
       "    </tr>\n",
       "  </thead>\n",
       "  <tbody>\n",
       "    <tr>\n",
       "      <th>0</th>\n",
       "      <td>Toán</td>\n",
       "      <td>2.0</td>\n",
       "    </tr>\n",
       "    <tr>\n",
       "      <th>1</th>\n",
       "      <td>Ngữ văn</td>\n",
       "      <td>5.5</td>\n",
       "    </tr>\n",
       "    <tr>\n",
       "      <th>2</th>\n",
       "      <td>Lịch sử</td>\n",
       "      <td>3.0</td>\n",
       "    </tr>\n",
       "    <tr>\n",
       "      <th>3</th>\n",
       "      <td>Địa lí</td>\n",
       "      <td>5.0</td>\n",
       "    </tr>\n",
       "  </tbody>\n",
       "</table>\n",
       "</div>"
      ],
      "text/plain": [
       "       Mon  Diem\n",
       "0     Toán   2.0\n",
       "1  Ngữ văn   5.5\n",
       "2  Lịch sử   3.0\n",
       "3   Địa lí   5.0"
      ]
     },
     "execution_count": 5,
     "metadata": {},
     "output_type": "execute_result"
    }
   ],
   "source": [
    "# Tạo dataframe có 2 cột: Môn, Điểm\n",
    "df_Diem = pd.DataFrame({'Mon':lst_mon,'Diem':lst_diem})\n",
    "df_Diem"
   ]
  },
  {
   "cell_type": "code",
   "execution_count": 6,
   "metadata": {},
   "outputs": [],
   "source": [
    "# Viết hàm gom gọn\n",
    "def tach_diem(chuoi_diem):\n",
    "    chuoi_diem = chuoi_diem.split(' '*2)\n",
    "    lst_mon = []\n",
    "    lst_diem = []\n",
    "    for i in range(0,len(chuoi_diem),2):\n",
    "        lst_mon.append(chuoi_diem[i].strip().strip(':'))\n",
    "        lst_diem.append(float(chuoi_diem[i+1].strip()))\n",
    "    return pd.DataFrame({'Mon':lst_mon,'Diem':lst_diem})"
   ]
  },
  {
   "cell_type": "code",
   "execution_count": 11,
   "metadata": {},
   "outputs": [
    {
     "name": "stdout",
     "output_type": "stream",
     "text": [
      "3.875\n"
     ]
    }
   ],
   "source": [
    "# Tính điểm trung bình của thí sinh đầu tiên:\n",
    "df_Diem = tach_diem(df.iloc[0]['DIEM_THI'])\n",
    "dtb = df_Diem['Diem'].mean()\n",
    "print(dtb)"
   ]
  },
  {
   "cell_type": "code",
   "execution_count": null,
   "metadata": {},
   "outputs": [],
   "source": [
    "# Thêm 1 cột điểm trung bình vào df_Diem\n",
    "## Cách 1: dùng map\n",
    "df['Diem_TB'] = df['DIEM_THI'].map(lambda x: tach_diem(x)['Diem'].mean())\n",
    "df.head()\n",
    "\n",
    "## Cách 2: dùng for (dữ liệu quá lớn ko đủ RAM để chạy)\n",
    "# for i in range(df.shape[0]):\n",
    "#     chuoi_diem = df.iloc[i]['DIEM_THI']\n",
    "#     dtb = tach_diem(chuoi_diem)['Diem'].mean()\n",
    "#     df.iloc[i]['Diem_TB'] = dtb"
   ]
  },
  {
   "cell_type": "code",
   "execution_count": null,
   "metadata": {},
   "outputs": [],
   "source": [
    "# Tạo 1 cột lưu chuỗi điểm đã split\n",
    "df['Ket_qua_hoc_tap'] = df['DIEM_THI'].str.split(' '*2)\n",
    "df.head(5)"
   ]
  },
  {
   "cell_type": "code",
   "execution_count": null,
   "metadata": {},
   "outputs": [],
   "source": [
    "# Cho biết các thí sinh có điểm TB >= 5\n",
    "dieu_kien = df['Diem_TB'] >= 5\n",
    "print(dieu_kien.head(10))\n",
    "dtb_lon_hon_9 = df[dieu_kien]\n",
    "dtb_lon_hon_9.head(10)"
   ]
  },
  {
   "cell_type": "code",
   "execution_count": null,
   "metadata": {},
   "outputs": [],
   "source": [
    "# Cho biết các thí sinh Nam có điểm TB >= 5\n",
    "dieu_kien_1 = (df['Diem_TB'] >= 5) & (df['GIOI_TINH'] == 'Nam')\n",
    "print(dieu_kien_1.head(10))\n",
    "nam_dtb_lon_hon_5 = df[dieu_kien_1]\n",
    "nam_dtb_lon_hon_5.head(10)"
   ]
  },
  {
   "cell_type": "code",
   "execution_count": null,
   "metadata": {},
   "outputs": [],
   "source": []
  }
 ],
 "metadata": {
  "kernelspec": {
   "display_name": "Python 3",
   "language": "python",
   "name": "python3"
  },
  "language_info": {
   "codemirror_mode": {
    "name": "ipython",
    "version": 3
   },
   "file_extension": ".py",
   "mimetype": "text/x-python",
   "name": "python",
   "nbconvert_exporter": "python",
   "pygments_lexer": "ipython3",
   "version": "3.6.8"
  }
 },
 "nbformat": 4,
 "nbformat_minor": 2
}
