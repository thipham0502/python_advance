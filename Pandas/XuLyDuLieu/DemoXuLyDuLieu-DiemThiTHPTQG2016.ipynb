{
 "cells": [
  {
   "cell_type": "code",
   "execution_count": 1,
   "metadata": {},
   "outputs": [],
   "source": [
    "import pandas as pd"
   ]
  },
  {
   "cell_type": "code",
   "execution_count": 2,
   "metadata": {},
   "outputs": [
    {
     "name": "stdout",
     "output_type": "stream",
     "text": [
      "(34826, 6)\n",
      "  SOBAODANH         HO_TEN   NGAY_SINH         TEN_CUMTHI GIOI_TINH  \\\n",
      "0  18000001  DƯƠNG VIỆT AN  12/03/1998  Sở GDĐT Bắc Giang       Nam   \n",
      "1  18000002      ĐỖ VĂN AN   9/12/1998  Sở GDĐT Bắc Giang       Nam   \n",
      "2  18000003     ĐỖ XUÂN AN  12/08/1997  Sở GDĐT Bắc Giang       Nam   \n",
      "3  18000004   ĐẶNG PHÚC AN  19/03/1998  Sở GDĐT Bắc Giang        Nữ   \n",
      "4  18000005    ĐẶNG VĂN AN  25/10/1998  Sở GDĐT Bắc Giang       Nam   \n",
      "\n",
      "                                            DIEM_THI  \n",
      "0  Toán:   2.00   Ngữ văn:   5.50   Lịch sử:   3....  \n",
      "1  Toán:   5.50   Ngữ văn:   5.25   Địa lí:   5.5...  \n",
      "2  Toán:   4.50   Ngữ văn:   5.50   Địa lí:   3.7...  \n",
      "3  Toán:   3.00   Ngữ văn:   6.00   Địa lí:   5.5...  \n",
      "4  Toán:   2.25   Ngữ văn:   4.75   Địa lí:   5.2...  \n"
     ]
    }
   ],
   "source": [
    "df = pd.read_csv('Diemthi_thpt_quocgia_2016.csv')\n",
    "print(df.shape)\n",
    "print(df.head())"
   ]
  },
  {
   "cell_type": "code",
   "execution_count": 3,
   "metadata": {},
   "outputs": [
    {
     "name": "stdout",
     "output_type": "stream",
     "text": [
      "Toán:   2.00   Ngữ văn:   5.50   Lịch sử:   3.00   Địa lí:   5.00\n"
     ]
    }
   ],
   "source": [
    "chuoi = df.iloc[0]['DIEM_THI']\n",
    "print(chuoi)"
   ]
  },
  {
   "cell_type": "code",
   "execution_count": 4,
   "metadata": {},
   "outputs": [
    {
     "name": "stdout",
     "output_type": "stream",
     "text": [
      "['Toán:', ' 2.00', ' Ngữ văn:', ' 5.50', ' Lịch sử:', ' 3.00', ' Địa lí:', ' 5.00']\n"
     ]
    }
   ],
   "source": [
    "chuoi = chuoi.split(' '*2)\n",
    "print(chuoi)"
   ]
  },
  {
   "cell_type": "code",
   "execution_count": 6,
   "metadata": {},
   "outputs": [
    {
     "name": "stdout",
     "output_type": "stream",
     "text": [
      "['Toán:', ' Ngữ văn:', ' Lịch sử:', ' Địa lí:']\n",
      "[' 2.00', ' 5.50', ' 3.00', ' 5.00']\n"
     ]
    }
   ],
   "source": [
    "mon = []\n",
    "diem = []\n",
    "for i in range(0,len(chuoi),2):\n",
    "    mon.append(chuoi[i])\n",
    "    diem.append(chuoi[i+1])\n",
    "print(mon)    \n",
    "print(diem)"
   ]
  },
  {
   "cell_type": "code",
   "execution_count": 8,
   "metadata": {},
   "outputs": [
    {
     "name": "stdout",
     "output_type": "stream",
     "text": [
      "         mon   diem\n",
      "0      Toán:   2.00\n",
      "1   Ngữ văn:   5.50\n",
      "2   Lịch sử:   3.00\n",
      "3    Địa lí:   5.00\n"
     ]
    }
   ],
   "source": [
    "df_ = pd.DataFrame({'mon':mon, 'diem':diem})\n",
    "print(df_)"
   ]
  },
  {
   "cell_type": "code",
   "execution_count": 3,
   "metadata": {},
   "outputs": [],
   "source": [
    "def tach_diem(chuoi):\n",
    "    chuoi = chuoi.split(' '*2)\n",
    "    mon = []\n",
    "    diem = []\n",
    "    for i in range(0,len(chuoi),2):\n",
    "        mon.append(chuoi[i].strip(':'))\n",
    "        diem.append(float(chuoi[i+1]))\n",
    "    return pd.DataFrame({'mon':mon, 'diem':diem})    "
   ]
  },
  {
   "cell_type": "code",
   "execution_count": 20,
   "metadata": {},
   "outputs": [
    {
     "name": "stdout",
     "output_type": "stream",
     "text": [
      "Toán:   2.00   Ngữ văn:   5.50   Lịch sử:   3.00   Địa lí:   5.00\n",
      "        mon  diem\n",
      "0      Toán   2.0\n",
      "1   Ngữ văn   5.5\n",
      "2   Lịch sử   3.0\n",
      "3    Địa lí   5.0\n"
     ]
    }
   ],
   "source": [
    "# test ham tach_diem\n",
    "chuoi = df.iloc[0]['DIEM_THI']\n",
    "print(tach_diem(chuoi))"
   ]
  },
  {
   "cell_type": "code",
   "execution_count": 15,
   "metadata": {},
   "outputs": [
    {
     "name": "stdout",
     "output_type": "stream",
     "text": [
      "3.875\n"
     ]
    }
   ],
   "source": [
    "# tinh diem trung binh\n",
    "dtb = tach_diem(chuoi)['diem'].mean()\n",
    "print(dtb)"
   ]
  },
  {
   "cell_type": "code",
   "execution_count": 4,
   "metadata": {},
   "outputs": [],
   "source": [
    "df['diem_trung_binh'] = df['DIEM_THI'].map(lambda x: tach_diem(x)['diem'].mean())"
   ]
  },
  {
   "cell_type": "code",
   "execution_count": 24,
   "metadata": {
    "collapsed": true
   },
   "outputs": [
    {
     "name": "stdout",
     "output_type": "stream",
     "text": [
      "  SOBAODANH         HO_TEN   NGAY_SINH         TEN_CUMTHI GIOI_TINH  \\\n",
      "0  18000001  DƯƠNG VIỆT AN  12/03/1998  Sở GDĐT Bắc Giang       Nam   \n",
      "1  18000002      ĐỖ VĂN AN   9/12/1998  Sở GDĐT Bắc Giang       Nam   \n",
      "2  18000003     ĐỖ XUÂN AN  12/08/1997  Sở GDĐT Bắc Giang       Nam   \n",
      "3  18000004   ĐẶNG PHÚC AN  19/03/1998  Sở GDĐT Bắc Giang        Nữ   \n",
      "4  18000005    ĐẶNG VĂN AN  25/10/1998  Sở GDĐT Bắc Giang       Nam   \n",
      "\n",
      "                                            DIEM_THI  diem_trung_binh  \n",
      "0  Toán:   2.00   Ngữ văn:   5.50   Lịch sử:   3....           3.8750  \n",
      "1  Toán:   5.50   Ngữ văn:   5.25   Địa lí:   5.5...           4.9825  \n",
      "2  Toán:   4.50   Ngữ văn:   5.50   Địa lí:   3.7...           4.0000  \n",
      "3  Toán:   3.00   Ngữ văn:   6.00   Địa lí:   5.5...           4.0000  \n",
      "4  Toán:   2.25   Ngữ văn:   4.75   Địa lí:   5.2...           3.5625  \n"
     ]
    }
   ],
   "source": [
    "print(df.head())"
   ]
  },
  {
   "cell_type": "code",
   "execution_count": 25,
   "metadata": {},
   "outputs": [],
   "source": [
    "df['ket_qua_hoc_tap'] = df['DIEM_THI'].str.split(' '*2)"
   ]
  },
  {
   "cell_type": "code",
   "execution_count": 26,
   "metadata": {
    "collapsed": true
   },
   "outputs": [
    {
     "name": "stdout",
     "output_type": "stream",
     "text": [
      "  SOBAODANH         HO_TEN   NGAY_SINH         TEN_CUMTHI GIOI_TINH  \\\n",
      "0  18000001  DƯƠNG VIỆT AN  12/03/1998  Sở GDĐT Bắc Giang       Nam   \n",
      "1  18000002      ĐỖ VĂN AN   9/12/1998  Sở GDĐT Bắc Giang       Nam   \n",
      "2  18000003     ĐỖ XUÂN AN  12/08/1997  Sở GDĐT Bắc Giang       Nam   \n",
      "3  18000004   ĐẶNG PHÚC AN  19/03/1998  Sở GDĐT Bắc Giang        Nữ   \n",
      "4  18000005    ĐẶNG VĂN AN  25/10/1998  Sở GDĐT Bắc Giang       Nam   \n",
      "\n",
      "                                            DIEM_THI  diem_trung_binh  \\\n",
      "0  Toán:   2.00   Ngữ văn:   5.50   Lịch sử:   3....           3.8750   \n",
      "1  Toán:   5.50   Ngữ văn:   5.25   Địa lí:   5.5...           4.9825   \n",
      "2  Toán:   4.50   Ngữ văn:   5.50   Địa lí:   3.7...           4.0000   \n",
      "3  Toán:   3.00   Ngữ văn:   6.00   Địa lí:   5.5...           4.0000   \n",
      "4  Toán:   2.25   Ngữ văn:   4.75   Địa lí:   5.2...           3.5625   \n",
      "\n",
      "                                     ket_qua_hoc_tap  \n",
      "0  [Toán:,  2.00,  Ngữ văn:,  5.50,  Lịch sử:,  3...  \n",
      "1  [Toán:,  5.50,  Ngữ văn:,  5.25,  Địa lí:,  5....  \n",
      "2  [Toán:,  4.50,  Ngữ văn:,  5.50,  Địa lí:,  3....  \n",
      "3  [Toán:,  3.00,  Ngữ văn:,  6.00,  Địa lí:,  5....  \n",
      "4  [Toán:,  2.25,  Ngữ văn:,  4.75,  Địa lí:,  5....  \n"
     ]
    }
   ],
   "source": [
    "print(df.head())"
   ]
  },
  {
   "cell_type": "code",
   "execution_count": null,
   "metadata": {},
   "outputs": [],
   "source": [
    "for i in range(df.shape[0]):\n",
    "    chuoi = df.iloc[i]['DIEM_THI']\n",
    "    dtb = tach_diem(chuoi)['diem'].mean()\n",
    "    df.iloc[i]['dtb'] = dtb\n"
   ]
  },
  {
   "cell_type": "code",
   "execution_count": null,
   "metadata": {},
   "outputs": [],
   "source": [
    "print(df.head())"
   ]
  },
  {
   "cell_type": "code",
   "execution_count": null,
   "metadata": {},
   "outputs": [],
   "source": []
  }
 ],
 "metadata": {
  "kernelspec": {
   "display_name": "Python 3",
   "language": "python",
   "name": "python3"
  },
  "language_info": {
   "codemirror_mode": {
    "name": "ipython",
    "version": 3
   },
   "file_extension": ".py",
   "mimetype": "text/x-python",
   "name": "python",
   "nbconvert_exporter": "python",
   "pygments_lexer": "ipython3",
   "version": "3.7.3"
  }
 },
 "nbformat": 4,
 "nbformat_minor": 2
}
