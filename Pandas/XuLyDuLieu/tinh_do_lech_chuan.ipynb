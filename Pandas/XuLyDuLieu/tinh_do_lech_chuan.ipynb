{
 "cells": [
  {
   "cell_type": "code",
   "execution_count": 1,
   "metadata": {},
   "outputs": [],
   "source": [
    "import numpy as np\n",
    "import math"
   ]
  },
  {
   "cell_type": "code",
   "execution_count": 2,
   "metadata": {},
   "outputs": [
    {
     "name": "stdout",
     "output_type": "stream",
     "text": [
      "[10  8 10  8  8  4]\n"
     ]
    }
   ],
   "source": [
    "a = np.array([10,8,10,8,8,4])\n",
    "print(a)"
   ]
  },
  {
   "cell_type": "code",
   "execution_count": 3,
   "metadata": {},
   "outputs": [
    {
     "name": "stdout",
     "output_type": "stream",
     "text": [
      "2.0\n"
     ]
    }
   ],
   "source": [
    "print(np.std(a))"
   ]
  },
  {
   "cell_type": "code",
   "execution_count": 4,
   "metadata": {},
   "outputs": [
    {
     "name": "stdout",
     "output_type": "stream",
     "text": [
      "n =  8.0\n",
      "v =  4.0\n",
      "s =  2.0\n"
     ]
    }
   ],
   "source": [
    "# tinh trung binh\n",
    "n = a.mean()\n",
    "print(\"n = \",n)\n",
    "# tinh phuong sai\n",
    "v =  sum([(point-n)**2 for point in a])/(len(a))\n",
    "print(\"v = \",v)\n",
    "# tinh do lech chuan\n",
    "s = math.sqrt(v)\n",
    "print(\"s = \",s)"
   ]
  },
  {
   "cell_type": "code",
   "execution_count": 4,
   "metadata": {},
   "outputs": [
    {
     "name": "stdout",
     "output_type": "stream",
     "text": [
      "s =  2.0\n"
     ]
    }
   ],
   "source": [
    "# tinh do lech chuan bang ham std\n",
    "s = np.std(a)\n",
    "print(\"s = \",s)"
   ]
  },
  {
   "cell_type": "code",
   "execution_count": null,
   "metadata": {},
   "outputs": [],
   "source": []
  }
 ],
 "metadata": {
  "kernelspec": {
   "display_name": "Python 3",
   "language": "python",
   "name": "python3"
  },
  "language_info": {
   "codemirror_mode": {
    "name": "ipython",
    "version": 3
   },
   "file_extension": ".py",
   "mimetype": "text/x-python",
   "name": "python",
   "nbconvert_exporter": "python",
   "pygments_lexer": "ipython3",
   "version": "3.6.8"
  }
 },
 "nbformat": 4,
 "nbformat_minor": 2
}
