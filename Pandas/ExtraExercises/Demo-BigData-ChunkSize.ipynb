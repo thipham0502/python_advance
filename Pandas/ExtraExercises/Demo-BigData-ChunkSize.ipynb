{
 "cells": [
  {
   "cell_type": "code",
   "execution_count": 1,
   "metadata": {},
   "outputs": [],
   "source": [
    "import numpy as np\n",
    "import pandas as pd"
   ]
  },
  {
   "cell_type": "code",
   "execution_count": 2,
   "metadata": {
    "collapsed": true
   },
   "outputs": [
    {
     "name": "stdout",
     "output_type": "stream",
     "text": [
      "i= 1\n",
      "    masv              ho    ten  gioitinh             ngaysinh  \\\n",
      "0  C0001     Khương Thảo   Loan     False  1999-01-04 00:00:00   \n",
      "1  C0002       Đặng Bạch   Ngọc      True  1999-11-11 00:00:00   \n",
      "2  C0003   Phạm Văn Minh  Thiện      True  1999-11-23 00:00:00   \n",
      "3  C0004  Đinh Thị Thanh   Dung     False  1999-01-19 00:00:00   \n",
      "4  C0005       Trần Mạnh  Thiện      True  1999-08-19 00:00:00   \n",
      "\n",
      "                email     didong          cmnd  hocbong makh  \n",
      "0    ktloan@gmail.com  987314518  586900775484  2000000   CN  \n",
      "1    dbngoc@gmail.com  987587327  274387352269        0   CN  \n",
      "2  pvmthien@gmail.com  987858734  835772714136        0   CN  \n",
      "3   dttdung@gmail.com  987508413  373064334392  1000000   CN  \n",
      "4   tmthien@gmail.com  987579776  233384596844  1000000   CN  \n",
      "i= 2\n",
      "      masv           ho   ten  gioitinh             ngaysinh  \\\n",
      "100  C0101  Khương Thảo  Dung     False  1999-04-05 00:00:00   \n",
      "101  C0102      Mã Thảo    Ly     False  1999-05-11 00:00:00   \n",
      "102  C0103    Vương Văn  Hiệu      True  1999-07-07 00:00:00   \n",
      "103  C0104       Lê Nam   Huy      True  1999-04-14 00:00:00   \n",
      "104  C0105   Hoàng Vĩnh   Tân      True  1999-10-11 00:00:00   \n",
      "\n",
      "                email     didong          cmnd  hocbong makh  \n",
      "100  ktdung@gmail.com  168490255  818383527641        0   CN  \n",
      "101    mtly@gmail.com  913155875  222824361015  3000000   CN  \n",
      "102  vvhieu@gmail.com  913040177  423261991223        0   CN  \n",
      "103   lnhuy@gmail.com  987378557  882696553923  2000000   CN  \n",
      "104   hvtan@gmail.com  168442133  755741396622  3000000   CN  \n",
      "i= 3\n",
      "      masv               ho     ten  gioitinh             ngaysinh  \\\n",
      "200  C0201          Lý Vĩnh    Sang      True  1999-01-29 00:00:00   \n",
      "201  C0202          Lê Thảo     Nga     False  1999-02-25 00:00:00   \n",
      "202  C0203     Khương Thanh  Phương     False  1999-06-01 00:00:00   \n",
      "203  C0204  Khương Văn Minh     Tân      True  1999-08-10 00:00:00   \n",
      "204  C0205          Cao Văn   Phong      True  1999-04-10 00:00:00   \n",
      "\n",
      "                  email     didong          cmnd  hocbong makh  \n",
      "200    lvsang@gmail.com  168458283  116681821024        0   CN  \n",
      "201     ltnga@gmail.com  913399918  622956823559  2000000   CN  \n",
      "202  ktphuong@gmail.com  913257653  813464485434  2000000   CN  \n",
      "203    kvmtan@gmail.com  987186154  680791265074  3000000   CN  \n",
      "204   cvphong@gmail.com  913513318  467601440437  2000000   CN  \n",
      "i= 4\n",
      "      masv             ho    ten  gioitinh             ngaysinh  \\\n",
      "300  C0301  Bạch Văn Minh    Bảo      True  1999-02-16 00:00:00   \n",
      "301  C0302       Đặng Thị  Nhung     False  1999-02-03 00:00:00   \n",
      "302  C0303  Đặng Văn Minh  Phong      True  1999-01-11 00:00:00   \n",
      "303  C0304        Văn Phú    Thu     False  1999-03-19 00:00:00   \n",
      "304  C0305        Lê Ngọc   Ngân     False  1999-09-09 00:00:00   \n",
      "\n",
      "                  email     didong          cmnd  hocbong makh  \n",
      "300    bvmbao@gmail.com  168340188  567057612357        0   CN  \n",
      "301   dtnhung@gmail.com  168434753  865782549233        0   CN  \n",
      "302  dvmphong@gmail.com  168221742  321731414280  1000000   CN  \n",
      "303     vpthu@gmail.com  987617367  431068204211  3000000   CN  \n",
      "304    lnngan@gmail.com  913120844  825417777847        0   CN  \n",
      "i= 5\n",
      "      masv            ho    ten  gioitinh             ngaysinh  \\\n",
      "400  C0401     Bạch Bạch     Mỹ      True  1999-12-14 00:00:00   \n",
      "401  C0402  Đàm Văn Minh  Thiệu      True  1999-06-25 00:00:00   \n",
      "402  C0403      Phạm Văn  Thiện      True  1999-06-17 00:00:00   \n",
      "403  C0404        Mã Phú   Ngân      True  1999-07-15 00:00:00   \n",
      "404  C0405      Trần Văn  Thiện      True  1999-06-04 00:00:00   \n",
      "\n",
      "                  email     didong          cmnd  hocbong makh  \n",
      "400      bbmy@gmail.com  913696887  966406308632  2000000   CN  \n",
      "401  dvmthieu@gmail.com  168547454  269426565563        0   CN  \n",
      "402   pvthien@gmail.com  168528593  495604827305  3000000   CN  \n",
      "403    mpngan@gmail.com  913437123  664955067082  1000000   CN  \n",
      "404   tvthien@gmail.com  168147443  419623773784        0   CN  \n",
      "i= 6\n",
      "      masv              ho   ten  gioitinh             ngaysinh  \\\n",
      "500  T0501   Đàm Thị Thanh  Loan     False  1999-08-31 00:00:00   \n",
      "501  T0502       Bạch Thảo   Mai     False  1999-01-23 00:00:00   \n",
      "502  T0503        Đinh Nam   Mẫn      True  1999-03-05 00:00:00   \n",
      "503  T0504  Đặng Thị Thanh   Lan     False  1999-02-22 00:00:00   \n",
      "504  T0505         Lý Thảo    Ly     False  1999-02-08 00:00:00   \n",
      "\n",
      "                 email     didong          cmnd  hocbong makh  \n",
      "500  dttloan@gmail.com  168817583  143697515719  2000000   TO  \n",
      "501    btmai@gmail.com  168257067  955743181258  2000000   TO  \n",
      "502    dnman@gmail.com  987997679  967675754520  1000000   TO  \n",
      "503   dttlan@gmail.com  168555118  802626736308  3000000   TO  \n",
      "504     ltly@gmail.com  913084722  451631615880  1000000   TO  \n",
      "i= 7\n",
      "      masv                ho    ten  gioitinh             ngaysinh  \\\n",
      "600  V0601           Văn Phú    Thu      True  1999-07-03 00:00:00   \n",
      "601  V0602  Khương Thị Thanh   Thúy     False  1999-06-03 00:00:00   \n",
      "602  V0603         Đinh Thảo  Nhung     False  1999-03-19 00:00:00   \n",
      "603  V0604           Văn Thị   Loan     False  1999-08-18 00:00:00   \n",
      "604  V0605           Lê Minh    Tâm      True  1999-07-14 00:00:00   \n",
      "\n",
      "                 email     didong          cmnd  hocbong makh  \n",
      "600    vpthu@gmail.com  168777791   58182344785  1000000   VL  \n",
      "601  kttthuy@gmail.com  168682471  690435500843  3000000   VL  \n",
      "602  dtnhung@gmail.com  987842567  538878751363  3000000   VL  \n",
      "603   vtloan@gmail.com  168551652  378883241715  2000000   VL  \n",
      "604    lmtam@gmail.com  987838753  482850787650  3000000   VL  \n",
      "i= 8\n",
      "      masv              ho     ten  gioitinh             ngaysinh  \\\n",
      "700  V0701  Thái Thị Thanh     Nga     False  1999-06-29 00:00:00   \n",
      "701  V0702       Đặng Ngọc  Phương     False  1999-11-09 00:00:00   \n",
      "702  V0703     Mã Văn Minh   Thiện      True  1999-02-03 00:00:00   \n",
      "703  V0704    Văn Văn Minh     Huy      True  1999-11-05 00:00:00   \n",
      "704  V0705        Lê Thanh     Tâm      True  1999-11-04 00:00:00   \n",
      "\n",
      "                  email     didong          cmnd  hocbong makh  \n",
      "700    tttnga@gmail.com  913964907  369642708429        0   VL  \n",
      "701  dnphuong@gmail.com  168391113  451055456386  1000000   VL  \n",
      "702  mvmthien@gmail.com  913486618  847328272354  3000000   VL  \n",
      "703    vvmhuy@gmail.com  168986806  113852686429  1000000   VL  \n",
      "704     lttam@gmail.com  913931935  154334638472        0   VL  \n",
      "i= 9\n",
      "      masv             ho   ten  gioitinh             ngaysinh  \\\n",
      "800  V0801         Lý Nam  Hiệu      True  1999-09-11 00:00:00   \n",
      "801  V0802  Bạch Văn Minh  Tuấn      True  1999-11-29 00:00:00   \n",
      "802  V0803        Lâm Nam  Dũng      True  1999-07-09 00:00:00   \n",
      "803  V0804       Mã Thanh   Thu     False  1999-03-23 00:00:00   \n",
      "804  V0805        Lê Minh    Mỹ     False  1999-08-10 00:00:00   \n",
      "\n",
      "                 email     didong          cmnd  hocbong makh  \n",
      "800   lnhieu@gmail.com  987511308  646778140266  1000000   VL  \n",
      "801  bvmtuan@gmail.com  987287373  177162965123  1000000   VL  \n",
      "802   lndung@gmail.com  987894644  431635846437        0   VL  \n",
      "803    mtthu@gmail.com  168077764  441438272178  1000000   VL  \n",
      "804     lmmy@gmail.com  987702846  966965235251        0   VL  \n",
      "i= 10\n",
      "      masv              ho    ten  gioitinh             ngaysinh  \\\n",
      "900  V0901         Lý Thảo  Nhung     False  1999-02-22 00:00:00   \n",
      "901  V0902    Lâm Thị Thảo    Hoa     False  1999-02-09 00:00:00   \n",
      "902  V0903  Phạm Thị Thanh  Trang     False  1999-12-21 00:00:00   \n",
      "903  V0904     Khương Ngọc   Minh     False  1999-06-30 00:00:00   \n",
      "904  V0905          Lý Nam     Vỹ      True  1999-10-21 00:00:00   \n",
      "\n",
      "                  email     didong          cmnd  hocbong makh  \n",
      "900   ltnhung@gmail.com  987647625  263760968063  3000000   VL  \n",
      "901    ltthoa@gmail.com  168227921  611248676848  3000000   VL  \n",
      "902  ptttrang@gmail.com  913627365  143145738474        0   VL  \n",
      "903    knminh@gmail.com  168467058  245183285942        0   VL  \n",
      "904      lnvy@gmail.com  913344825  803625771987  2000000   VL  \n"
     ]
    }
   ],
   "source": [
    "c_size = 100\n",
    "i = 1\n",
    "for df_chunk in pd.read_csv('sinh_vien.csv', chunksize=c_size):\n",
    "    print('i=',i)\n",
    "    print(df_chunk.head())\n",
    "    i+=1"
   ]
  },
  {
   "cell_type": "code",
   "execution_count": 3,
   "metadata": {},
   "outputs": [],
   "source": [
    "c_size = 100\n",
    "data = []\n",
    "for df_chunk in pd.read_csv('sinh_vien.csv', chunksize=c_size):\n",
    "    data.append(df_chunk)"
   ]
  },
  {
   "cell_type": "code",
   "execution_count": 4,
   "metadata": {},
   "outputs": [
    {
     "name": "stdout",
     "output_type": "stream",
     "text": [
      "10\n"
     ]
    }
   ],
   "source": [
    "print(len(data))"
   ]
  },
  {
   "cell_type": "code",
   "execution_count": 5,
   "metadata": {},
   "outputs": [],
   "source": [
    "df = pd.concat(data)"
   ]
  },
  {
   "cell_type": "code",
   "execution_count": 6,
   "metadata": {},
   "outputs": [
    {
     "name": "stdout",
     "output_type": "stream",
     "text": [
      "(1000, 10)\n"
     ]
    }
   ],
   "source": [
    "print(df.shape)"
   ]
  },
  {
   "cell_type": "code",
   "execution_count": 34,
   "metadata": {
    "collapsed": true
   },
   "outputs": [
    {
     "name": "stdout",
     "output_type": "stream",
     "text": [
      "    masv              ho    ten  gioitinh             ngaysinh  \\\n",
      "0  C0001     Khương Thảo   Loan     False  1999-01-04 00:00:00   \n",
      "1  C0002       Đặng Bạch   Ngọc      True  1999-11-11 00:00:00   \n",
      "2  C0003   Phạm Văn Minh  Thiện      True  1999-11-23 00:00:00   \n",
      "3  C0004  Đinh Thị Thanh   Dung     False  1999-01-19 00:00:00   \n",
      "4  C0005       Trần Mạnh  Thiện      True  1999-08-19 00:00:00   \n",
      "\n",
      "                email         didong          cmnd  hocbong makh  \n",
      "0    ktloan@gmail.com  b'0987314518'  586900775484  2000000   CN  \n",
      "1    dbngoc@gmail.com  b'0987587327'  274387352269        0   CN  \n",
      "2  pvmthien@gmail.com  b'0987858734'  835772714136        0   CN  \n",
      "3   dttdung@gmail.com  b'0987508413'  373064334392  1000000   CN  \n",
      "4   tmthien@gmail.com  b'0987579776'  233384596844  1000000   CN  \n"
     ]
    }
   ],
   "source": [
    "print(df.head())"
   ]
  },
  {
   "cell_type": "code",
   "execution_count": 35,
   "metadata": {},
   "outputs": [
    {
     "name": "stdout",
     "output_type": "stream",
     "text": [
      "      masv           ho    ten  gioitinh             ngaysinh  \\\n",
      "995  V0996    Trần Mạnh  Thăng      True  1999-06-21 00:00:00   \n",
      "996  V0997    Trần Vĩnh  Thiện      True  1999-07-23 00:00:00   \n",
      "997  V0998  Khương Thảo   Hạnh     False  1999-08-16 00:00:00   \n",
      "998  V0999    Đinh Ngọc   Ngọc      True  1999-05-25 00:00:00   \n",
      "999  V1000      Lý Mạnh    Bảo      True  1999-06-03 00:00:00   \n",
      "\n",
      "                 email         didong          cmnd  hocbong makh  \n",
      "995  tmthang@gmail.com  b'0987250062'  768656897616  2000000   VL  \n",
      "996  tvthien@gmail.com  b'0987716502'  468267857113  3000000   VL  \n",
      "997   kthanh@gmail.com  b'0913696608'  702859343545        0   VL  \n",
      "998   dnngoc@gmail.com  b'0913689521'  187831202224  3000000   VL  \n",
      "999    lmbao@gmail.com  b'0987656186'  865173188581        0   VL  \n"
     ]
    }
   ],
   "source": [
    "print(df.tail())"
   ]
  }
 ],
 "metadata": {
  "kernelspec": {
   "display_name": "Python 3",
   "language": "python",
   "name": "python3"
  },
  "language_info": {
   "codemirror_mode": {
    "name": "ipython",
    "version": 3
   },
   "file_extension": ".py",
   "mimetype": "text/x-python",
   "name": "python",
   "nbconvert_exporter": "python",
   "pygments_lexer": "ipython3",
   "version": "3.7.3"
  }
 },
 "nbformat": 4,
 "nbformat_minor": 2
}
