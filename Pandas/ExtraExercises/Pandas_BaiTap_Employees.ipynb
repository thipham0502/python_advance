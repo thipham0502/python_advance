{
 "cells": [
  {
   "cell_type": "markdown",
   "metadata": {},
   "source": [
    "## Đọc file chứa thông tin nhân viên và phòng ban"
   ]
  },
  {
   "cell_type": "code",
   "execution_count": 1,
   "metadata": {},
   "outputs": [],
   "source": [
    "import numpy as np\n",
    "import pandas as pd"
   ]
  },
  {
   "cell_type": "code",
   "execution_count": 2,
   "metadata": {},
   "outputs": [
    {
     "name": "stdout",
     "output_type": "stream",
     "text": [
      "(107, 11)\n",
      "   EMPLOYEE_ID FIRST_NAME LAST_NAME     EMAIL  PHONE_NUMBER  \\\n",
      "0          100     Steven      King     SKING  515.123.4567   \n",
      "1          101      Neena   Kochhar  NKOCHHAR  515.123.4568   \n",
      "2          102        Lex   De Haan   LDEHAAN  515.123.4569   \n",
      "3          103  Alexander    Hunold   AHUNOLD  590.423.4567   \n",
      "4          104      Bruce     Ernst    BERNST  590.423.4568   \n",
      "\n",
      "             HIRE_DATE   JOB_ID  SALARY  COMMISSION_PCT  MANAGER_ID  \\\n",
      "0  2003-06-17 00:00:00  AD_PRES   24000             NaN         NaN   \n",
      "1  2005-09-21 00:00:00    AD_VP   17000             NaN       100.0   \n",
      "2  2001-01-13 00:00:00    AD_VP   17000             NaN       100.0   \n",
      "3  2006-01-03 00:00:00  IT_PROG    9000             NaN       102.0   \n",
      "4  2007-05-21 00:00:00  IT_PROG    6000             NaN       103.0   \n",
      "\n",
      "   DEPARTMENT_ID  \n",
      "0           90.0  \n",
      "1           90.0  \n",
      "2           90.0  \n",
      "3           60.0  \n",
      "4           60.0  \n"
     ]
    }
   ],
   "source": [
    "# Đọc file excel employees.xls trong thư mục thuc_hanh_1\n",
    "emps = pd.read_excel('thuc_hanh_1/employees.xls')\n",
    "print(emps.shape)\n",
    "print(emps.head())"
   ]
  },
  {
   "cell_type": "code",
   "execution_count": 3,
   "metadata": {},
   "outputs": [
    {
     "name": "stdout",
     "output_type": "stream",
     "text": [
      "(27, 4)\n",
      "   DEPARTMENT_ID  DEPARTMENT_NAME  MANAGER_ID  LOCATION_ID\n",
      "0             10   Administration       200.0         1700\n",
      "1             20        Marketing       201.0         1800\n",
      "2             30       Purchasing       114.0         1700\n",
      "3             40  Human Resources       203.0         2400\n",
      "4             50         Shipping       121.0         1500\n"
     ]
    }
   ],
   "source": [
    "# Đọc file excel departments.xls trong thư mục thuc_hanh_1\n",
    "deps = pd.read_excel('thuc_hanh_1/departments.xls')\n",
    "print(deps.shape)\n",
    "print(deps.head())"
   ]
  },
  {
   "cell_type": "markdown",
   "metadata": {},
   "source": [
    "## Trực quan"
   ]
  },
  {
   "cell_type": "markdown",
   "metadata": {},
   "source": [
    "### Vẽ biểu đồ biểu diễn tổng lương của mỗi phòng ban"
   ]
  },
  {
   "cell_type": "code",
   "execution_count": 4,
   "metadata": {},
   "outputs": [
    {
     "name": "stdout",
     "output_type": "stream",
     "text": [
      "(106, 12)\n",
      "(107, 12)\n",
      "    EMPLOYEE_ID FIRST_NAME LAST_NAME   EMAIL        PHONE_NUMBER  \\\n",
      "78          178  Kimberely     Grant  KGRANT  011.44.1644.429263   \n",
      "\n",
      "              HIRE_DATE  JOB_ID  SALARY  COMMISSION_PCT  MANAGER_ID  \\\n",
      "78  2007-05-24 00:00:00  SA_REP    7000            0.15       149.0   \n",
      "\n",
      "    DEPARTMENT_ID DEPARTMENT_NAME  \n",
      "78            NaN             NaN  \n"
     ]
    }
   ],
   "source": [
    "### Chuẩn bị data\n",
    "# Kết 2 bảng nhân viên. phòng ban theo mã phòng ban\n",
    "# lấy hết các cột trong bảng nhân viên và chỉ lấy 2 cột là mã phòng và tên phòng trong bảng phòng ban\n",
    "df_NV_PB = pd.merge(emps, deps[['DEPARTMENT_ID','DEPARTMENT_NAME']], on=['DEPARTMENT_ID'])\n",
    "print(df_NV_PB.shape) # Chỉ có 106 dòng trong khi có 107 nhân viên do có 1 nhân viên có mã phòng = NaN (mặc định merge inner)\n",
    "\n",
    "# => Dùng left join\n",
    "df_NV_PB = pd.merge(emps, deps[['DEPARTMENT_ID','DEPARTMENT_NAME']], on=['DEPARTMENT_ID'], how='left')\n",
    "print(df_NV_PB.shape)\n",
    "\n",
    "# Cho biết thông tin ra nhân viên ko có mã phòng\n",
    "print(df_NV_PB[df_NV_PB['DEPARTMENT_ID'].isnull()])"
   ]
  },
  {
   "cell_type": "code",
   "execution_count": 5,
   "metadata": {},
   "outputs": [
    {
     "data": {
      "text/plain": [
       "DEPARTMENT_NAME\n",
       "Accounting           20308\n",
       "Administration        4400\n",
       "Executive            58000\n",
       "Finance              51608\n",
       "Human Resources       6500\n",
       "IT                   28800\n",
       "Marketing            19000\n",
       "Public Relations     10000\n",
       "Purchasing           24900\n",
       "Sales               304500\n",
       "Shipping            156400\n",
       "Name: SALARY, dtype: int64"
      ]
     },
     "execution_count": 5,
     "metadata": {},
     "output_type": "execute_result"
    }
   ],
   "source": [
    "### Tính tổng lương của các phòng\n",
    "df_sum_SAL = df_NV_PB.groupby('DEPARTMENT_NAME')['SALARY'].sum()\n",
    "# Hoặc \n",
    "# df_sum_SAL = df_NV_PB.groupby('DEPARTMENT_NAME').SALARY.sum()\n",
    "df_sum_SAL"
   ]
  },
  {
   "cell_type": "code",
   "execution_count": 6,
   "metadata": {},
   "outputs": [
    {
     "data": {
      "text/plain": [
       "<matplotlib.axes._subplots.AxesSubplot at 0xf599160>"
      ]
     },
     "execution_count": 6,
     "metadata": {},
     "output_type": "execute_result"
    }
   ],
   "source": [
    "### Vẽ biểu đồ cột cho tổng lương tùng phòng ban\n",
    "df_sum_SAL.plot.bar()"
   ]
  },
  {
   "cell_type": "markdown",
   "metadata": {},
   "source": [
    "### Vẽ biểu đồ biểu diễn tổng lương và số nhân viên của mỗi phòng ban"
   ]
  },
  {
   "cell_type": "code",
   "execution_count": 7,
   "metadata": {},
   "outputs": [
    {
     "data": {
      "text/html": [
       "<div>\n",
       "<style scoped>\n",
       "    .dataframe tbody tr th:only-of-type {\n",
       "        vertical-align: middle;\n",
       "    }\n",
       "\n",
       "    .dataframe tbody tr th {\n",
       "        vertical-align: top;\n",
       "    }\n",
       "\n",
       "    .dataframe thead th {\n",
       "        text-align: right;\n",
       "    }\n",
       "</style>\n",
       "<table border=\"1\" class=\"dataframe\">\n",
       "  <thead>\n",
       "    <tr style=\"text-align: right;\">\n",
       "      <th></th>\n",
       "      <th>sum</th>\n",
       "      <th>count</th>\n",
       "    </tr>\n",
       "    <tr>\n",
       "      <th>DEPARTMENT_NAME</th>\n",
       "      <th></th>\n",
       "      <th></th>\n",
       "    </tr>\n",
       "  </thead>\n",
       "  <tbody>\n",
       "    <tr>\n",
       "      <th>Accounting</th>\n",
       "      <td>20308</td>\n",
       "      <td>2</td>\n",
       "    </tr>\n",
       "    <tr>\n",
       "      <th>Administration</th>\n",
       "      <td>4400</td>\n",
       "      <td>1</td>\n",
       "    </tr>\n",
       "    <tr>\n",
       "      <th>Executive</th>\n",
       "      <td>58000</td>\n",
       "      <td>3</td>\n",
       "    </tr>\n",
       "    <tr>\n",
       "      <th>Finance</th>\n",
       "      <td>51608</td>\n",
       "      <td>6</td>\n",
       "    </tr>\n",
       "    <tr>\n",
       "      <th>Human Resources</th>\n",
       "      <td>6500</td>\n",
       "      <td>1</td>\n",
       "    </tr>\n",
       "    <tr>\n",
       "      <th>IT</th>\n",
       "      <td>28800</td>\n",
       "      <td>5</td>\n",
       "    </tr>\n",
       "    <tr>\n",
       "      <th>Marketing</th>\n",
       "      <td>19000</td>\n",
       "      <td>2</td>\n",
       "    </tr>\n",
       "    <tr>\n",
       "      <th>Public Relations</th>\n",
       "      <td>10000</td>\n",
       "      <td>1</td>\n",
       "    </tr>\n",
       "    <tr>\n",
       "      <th>Purchasing</th>\n",
       "      <td>24900</td>\n",
       "      <td>6</td>\n",
       "    </tr>\n",
       "    <tr>\n",
       "      <th>Sales</th>\n",
       "      <td>304500</td>\n",
       "      <td>34</td>\n",
       "    </tr>\n",
       "    <tr>\n",
       "      <th>Shipping</th>\n",
       "      <td>156400</td>\n",
       "      <td>45</td>\n",
       "    </tr>\n",
       "  </tbody>\n",
       "</table>\n",
       "</div>"
      ],
      "text/plain": [
       "                     sum  count\n",
       "DEPARTMENT_NAME                \n",
       "Accounting         20308      2\n",
       "Administration      4400      1\n",
       "Executive          58000      3\n",
       "Finance            51608      6\n",
       "Human Resources     6500      1\n",
       "IT                 28800      5\n",
       "Marketing          19000      2\n",
       "Public Relations   10000      1\n",
       "Purchasing         24900      6\n",
       "Sales             304500     34\n",
       "Shipping          156400     45"
      ]
     },
     "execution_count": 7,
     "metadata": {},
     "output_type": "execute_result"
    }
   ],
   "source": [
    "### Chuẩn bị data\n",
    "# Tính tổng lương và số nhân viên\n",
    "df_sum_count = df_NV_PB.groupby('DEPARTMENT_NAME')['SALARY'].agg(['sum','count'])\n",
    "# agg cho phép thực hiện nhiều phép toán\n",
    "\n",
    "df_sum_count"
   ]
  },
  {
   "cell_type": "code",
   "execution_count": 8,
   "metadata": {},
   "outputs": [
    {
     "data": {
      "text/plain": [
       "<matplotlib.axes._subplots.AxesSubplot at 0x117a8208>"
      ]
     },
     "execution_count": 8,
     "metadata": {},
     "output_type": "execute_result"
    },
    {
     "data": {
      "image/png": "[encoded data removed]",
      "text/plain": [
       "<Figure size 432x288 with 1 Axes>"
      ]
     },
     "metadata": {
      "needs_background": "light"
     },
     "output_type": "display_data"
    }
   ],
   "source": [
    "# df_sum_count.plot.bar() # Khó thấy cột count nhân viên vì tỉ lệ quá nhỏ so với tổng lương\n",
    "\n",
    "# => count * 1000\n",
    "df_sum_count['count_1000'] = df_sum_count['count'] * 1000\n",
    "df_sum_count[['sum','count_1000']].plot.bar()"
   ]
  },
  {
   "cell_type": "markdown",
   "metadata": {},
   "source": [
    "### Vẽ biểu đồ biểu diễn số nhân viên vào làm theo từng năm"
   ]
  },
  {
   "cell_type": "code",
   "execution_count": 10,
   "metadata": {},
   "outputs": [
    {
     "name": "stdout",
     "output_type": "stream",
     "text": [
      "0    2003-06-17 00:00:00\n",
      "1    2005-09-21 00:00:00\n",
      "2    2001-01-13 00:00:00\n",
      "3    2006-01-03 00:00:00\n",
      "4    2007-05-21 00:00:00\n",
      "Name: HIRE_DATE, dtype: object\n"
     ]
    }
   ],
   "source": [
    "### Chuẩn bị data\n",
    "# Lấy thông tin năm (year) từ chuỗi thời gian trong cột 'HIRE_DATE'\n",
    "# -> dùng \n",
    "df_NV_PB['HIRE_YEAR'] = pd.DatetimeIndex(df_NV_PB['HIRE_DATE']).year\n",
    "print(df_NV_PB['HIRE_DATE'].head())"
   ]
  },
  {
   "cell_type": "code",
   "execution_count": 17,
   "metadata": {},
   "outputs": [
    {
     "name": "stdout",
     "output_type": "stream",
     "text": [
      "HIRE_YEAR\n",
      "2001     1\n",
      "2002     7\n",
      "2003     6\n",
      "2004    10\n",
      "2005    29\n",
      "2006    24\n",
      "2007    19\n",
      "2008    11\n",
      "Name: EMPLOYEE_ID, dtype: int64\n"
     ]
    }
   ],
   "source": [
    "### Groupby theo năm vào làm và đếm số nhân viên vào làm trong từng năm\n",
    "df_HireYear = df_NV_PB.groupby('HIRE_YEAR')['EMPLOYEE_ID'].count()\n",
    "\n",
    "print(df_HireYear)"
   ]
  },
  {
   "cell_type": "code",
   "execution_count": 16,
   "metadata": {},
   "outputs": [
    {
     "data": {
      "text/plain": [
       "<matplotlib.axes._subplots.AxesSubplot at 0x124fd358>"
      ]
     },
     "execution_count": 16,
     "metadata": {},
     "output_type": "execute_result"
    },
    {
     "data": {
      "image/png": "[encoded data removed]",
      "text/plain": [
       "<Figure size 432x288 with 1 Axes>"
      ]
     },
     "metadata": {},
     "output_type": "display_data"
    }
   ],
   "source": [
    "### Vẽ biểu đồ\n",
    "df_HireYear.plot.pie()"
   ]
  },
  {
   "cell_type": "code",
   "execution_count": null,
   "metadata": {},
   "outputs": [],
   "source": []
  }
 ],
 "metadata": {
  "kernelspec": {
   "display_name": "Python 3",
   "language": "python",
   "name": "python3"
  },
  "language_info": {
   "codemirror_mode": {
    "name": "ipython",
    "version": 3
   },
   "file_extension": ".py",
   "mimetype": "text/x-python",
   "name": "python",
   "nbconvert_exporter": "python",
   "pygments_lexer": "ipython3",
   "version": "3.6.8"
  }
 },
 "nbformat": 4,
 "nbformat_minor": 2
}
