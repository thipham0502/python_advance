{
 "cells": [
  {
   "cell_type": "code",
   "execution_count": 1,
   "metadata": {},
   "outputs": [],
   "source": [
    "import numpy as np\n",
    "import pandas as pd"
   ]
  },
  {
   "cell_type": "code",
   "execution_count": 7,
   "metadata": {
    "collapsed": true
   },
   "outputs": [
    {
     "name": "stdout",
     "output_type": "stream",
     "text": [
      "i= 1\n",
      "    masv              ho    ten  gioitinh             ngaysinh  \\\n",
      "0  C0001     Khương Thảo   Loan     False  1999-01-04 00:00:00   \n",
      "1  C0002       Đặng Bạch   Ngọc      True  1999-11-11 00:00:00   \n",
      "2  C0003   Phạm Văn Minh  Thiện      True  1999-11-23 00:00:00   \n",
      "3  C0004  Đinh Thị Thanh   Dung     False  1999-01-19 00:00:00   \n",
      "4  C0005       Trần Mạnh  Thiện      True  1999-08-19 00:00:00   \n",
      "\n",
      "                email     didong          cmnd  hocbong makh  \n",
      "0    ktloan@gmail.com  987314518  586900775484  2000000   CN  \n",
      "1    dbngoc@gmail.com  987587327  274387352269        0   CN  \n",
      "2  pvmthien@gmail.com  987858734  835772714136        0   CN  \n",
      "3   dttdung@gmail.com  987508413  373064334392  1000000   CN  \n",
      "4   tmthien@gmail.com  987579776  233384596844  1000000   CN  \n",
      "(100, 10)\n",
      "i= 2\n",
      "      masv           ho   ten  gioitinh             ngaysinh  \\\n",
      "100  C0101  Khương Thảo  Dung     False  1999-04-05 00:00:00   \n",
      "101  C0102      Mã Thảo    Ly     False  1999-05-11 00:00:00   \n",
      "102  C0103    Vương Văn  Hiệu      True  1999-07-07 00:00:00   \n",
      "103  C0104       Lê Nam   Huy      True  1999-04-14 00:00:00   \n",
      "104  C0105   Hoàng Vĩnh   Tân      True  1999-10-11 00:00:00   \n",
      "\n",
      "                email     didong          cmnd  hocbong makh  \n",
      "100  ktdung@gmail.com  168490255  818383527641        0   CN  \n",
      "101    mtly@gmail.com  913155875  222824361015  3000000   CN  \n",
      "102  vvhieu@gmail.com  913040177  423261991223        0   CN  \n",
      "103   lnhuy@gmail.com  987378557  882696553923  2000000   CN  \n",
      "104   hvtan@gmail.com  168442133  755741396622  3000000   CN  \n",
      "(100, 10)\n",
      "i= 3\n",
      "      masv               ho     ten  gioitinh             ngaysinh  \\\n",
      "200  C0201          Lý Vĩnh    Sang      True  1999-01-29 00:00:00   \n",
      "201  C0202          Lê Thảo     Nga     False  1999-02-25 00:00:00   \n",
      "202  C0203     Khương Thanh  Phương     False  1999-06-01 00:00:00   \n",
      "203  C0204  Khương Văn Minh     Tân      True  1999-08-10 00:00:00   \n",
      "204  C0205          Cao Văn   Phong      True  1999-04-10 00:00:00   \n",
      "\n",
      "                  email     didong          cmnd  hocbong makh  \n",
      "200    lvsang@gmail.com  168458283  116681821024        0   CN  \n",
      "201     ltnga@gmail.com  913399918  622956823559  2000000   CN  \n",
      "202  ktphuong@gmail.com  913257653  813464485434  2000000   CN  \n",
      "203    kvmtan@gmail.com  987186154  680791265074  3000000   CN  \n",
      "204   cvphong@gmail.com  913513318  467601440437  2000000   CN  \n",
      "(100, 10)\n",
      "i= 4\n",
      "      masv             ho    ten  gioitinh             ngaysinh  \\\n",
      "300  C0301  Bạch Văn Minh    Bảo      True  1999-02-16 00:00:00   \n",
      "301  C0302       Đặng Thị  Nhung     False  1999-02-03 00:00:00   \n",
      "302  C0303  Đặng Văn Minh  Phong      True  1999-01-11 00:00:00   \n",
      "303  C0304        Văn Phú    Thu     False  1999-03-19 00:00:00   \n",
      "304  C0305        Lê Ngọc   Ngân     False  1999-09-09 00:00:00   \n",
      "\n",
      "                  email     didong          cmnd  hocbong makh  \n",
      "300    bvmbao@gmail.com  168340188  567057612357        0   CN  \n",
      "301   dtnhung@gmail.com  168434753  865782549233        0   CN  \n",
      "302  dvmphong@gmail.com  168221742  321731414280  1000000   CN  \n",
      "303     vpthu@gmail.com  987617367  431068204211  3000000   CN  \n",
      "304    lnngan@gmail.com  913120844  825417777847        0   CN  \n",
      "(100, 10)\n",
      "i= 5\n",
      "      masv            ho    ten  gioitinh             ngaysinh  \\\n",
      "400  C0401     Bạch Bạch     Mỹ      True  1999-12-14 00:00:00   \n",
      "401  C0402  Đàm Văn Minh  Thiệu      True  1999-06-25 00:00:00   \n",
      "402  C0403      Phạm Văn  Thiện      True  1999-06-17 00:00:00   \n",
      "403  C0404        Mã Phú   Ngân      True  1999-07-15 00:00:00   \n",
      "404  C0405      Trần Văn  Thiện      True  1999-06-04 00:00:00   \n",
      "\n",
      "                  email     didong          cmnd  hocbong makh  \n",
      "400      bbmy@gmail.com  913696887  966406308632  2000000   CN  \n",
      "401  dvmthieu@gmail.com  168547454  269426565563        0   CN  \n",
      "402   pvthien@gmail.com  168528593  495604827305  3000000   CN  \n",
      "403    mpngan@gmail.com  913437123  664955067082  1000000   CN  \n",
      "404   tvthien@gmail.com  168147443  419623773784        0   CN  \n",
      "(100, 10)\n"
     ]
    }
   ],
   "source": [
    "# Mỗi lần chỉ đọc 100 chunk (100 dòng)\n",
    "c_size = 100\n",
    "i = 1\n",
    "\n",
    "for df_chunk in pd.read_csv('thuc_hanh_1/sinh_vien_CN.csv', chunksize = c_size):\n",
    "    print('i=',i)\n",
    "    print(df_chunk.head())\n",
    "    print(df_chunk.shape)\n",
    "    i += 1"
   ]
  },
  {
   "cell_type": "code",
   "execution_count": null,
   "metadata": {},
   "outputs": [],
   "source": [
    "# Mỗi lần chỉ đọc 100 chunk\n",
    "c_size = 100\n",
    "data = []\n",
    "\n",
    "for df_chunk in pd.read_csv('thuc_hanh_1/sinh_vien_CN.csv', chunksize = c_size):\n",
    "    data.append(df_chunk)"
   ]
  }
 ],
 "metadata": {
  "kernelspec": {
   "display_name": "Python 3",
   "language": "python",
   "name": "python3"
  },
  "language_info": {
   "codemirror_mode": {
    "name": "ipython",
    "version": 3
   },
   "file_extension": ".py",
   "mimetype": "text/x-python",
   "name": "python",
   "nbconvert_exporter": "python",
   "pygments_lexer": "ipython3",
   "version": "3.6.8"
  }
 },
 "nbformat": 4,
 "nbformat_minor": 2
}
