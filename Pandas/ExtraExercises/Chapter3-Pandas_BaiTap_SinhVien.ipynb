{
 "cells": [
  {
   "cell_type": "markdown",
   "metadata": {},
   "source": [
    "## Đọc file chứa thông tin và kết quả học tập của sinh viên các khoa CNTT, Toán. VLý"
   ]
  },
  {
   "cell_type": "code",
   "execution_count": 1,
   "metadata": {},
   "outputs": [],
   "source": [
    "import pandas as pd"
   ]
  },
  {
   "cell_type": "code",
   "execution_count": 2,
   "metadata": {},
   "outputs": [
    {
     "name": "stdout",
     "output_type": "stream",
     "text": [
      "(500, 10)\n"
     ]
    }
   ],
   "source": [
    "# Đọc file 'sinh_vien_CN.csv' trong thư mục thuc_hanh_1\n",
    "df_CN = pd.read_csv('thuc_hanh_1/sinh_vien_CN.csv')\n",
    "# df_CN\n",
    "print(df_CN.shape)\n",
    "# print(df_CN.columns)\n",
    "# print(df_CN.head()) # mặc định lấy 5 dòng đầu tiên"
   ]
  },
  {
   "cell_type": "code",
   "execution_count": 3,
   "metadata": {},
   "outputs": [
    {
     "name": "stdout",
     "output_type": "stream",
     "text": [
      "(100, 10)\n"
     ]
    }
   ],
   "source": [
    "# Đọc file 'sinh_vien_TO.csv' trong thư mục thuc_hanh_1\n",
    "df_TO = pd.read_csv('thuc_hanh_1/sinh_vien_TO.csv')\n",
    "# df_TO\n",
    "print(df_TO.shape)\n",
    "# print(df_TO.columns)\n",
    "# print(df_TO.head()) # mặc định lấy 5 dòng đầu tiên"
   ]
  },
  {
   "cell_type": "code",
   "execution_count": 4,
   "metadata": {},
   "outputs": [
    {
     "name": "stdout",
     "output_type": "stream",
     "text": [
      "(400, 10)\n"
     ]
    }
   ],
   "source": [
    "# Đọc file 'sinh_vien_VL.csv' trong thư mục thuc_hanh_1\n",
    "df_VL = pd.read_csv('thuc_hanh_1/sinh_vien_VL.csv')\n",
    "# df_VL\n",
    "print(df_VL.shape)\n",
    "# print(df_VL.columns)\n",
    "# print(df_VL.head()) # mặc định lấy 5 dòng đầu tiên"
   ]
  },
  {
   "cell_type": "code",
   "execution_count": 5,
   "metadata": {
    "collapsed": true
   },
   "outputs": [
    {
     "name": "stdout",
     "output_type": "stream",
     "text": [
      "(1000, 10)\n",
      "<class 'pandas.core.frame.DataFrame'>\n",
      "RangeIndex: 1000 entries, 0 to 999\n",
      "Data columns (total 10 columns):\n",
      "masv        1000 non-null object\n",
      "ho          1000 non-null object\n",
      "ten         1000 non-null object\n",
      "gioitinh    1000 non-null bool\n",
      "ngaysinh    1000 non-null object\n",
      "email       1000 non-null object\n",
      "didong      1000 non-null int64\n",
      "cmnd        1000 non-null int64\n",
      "hocbong     1000 non-null int64\n",
      "makh        1000 non-null object\n",
      "dtypes: bool(1), int64(3), object(6)\n",
      "memory usage: 71.4+ KB\n",
      "None\n"
     ]
    }
   ],
   "source": [
    "# Ghép các df trên lại thành 1 dataframe -> dùng concat\n",
    "df_SV = pd.concat([df_CN,df_TO,df_VL]) # index vẫn giữ nguyên trong các df cũ\n",
    "# df_SV\n",
    "print(df_SV.shape)\n",
    "# print(df_SV.columns)\n",
    "# print(df_SV.head()) # mặc định lấy 5 dòng đầu tiên\n",
    "# print(df_SV.tail()) # mặc định lấy 5 dòng cuối cùng\n",
    "\n",
    "# Set lại index\n",
    "df_SV.index = range(df_SV.shape[0])\n",
    "# print(df_SV.tail()) # mặc định lấy 5 dòng cuối cùng\n",
    "print(df_SV.info())"
   ]
  },
  {
   "cell_type": "code",
   "execution_count": 6,
   "metadata": {
    "collapsed": true
   },
   "outputs": [
    {
     "name": "stdout",
     "output_type": "stream",
     "text": [
      "(10000, 3)\n",
      "Index(['masv', 'mamh', 'diem'], dtype='object')\n",
      "    masv  mamh  diem\n",
      "0  C0001  CSD1   7.0\n",
      "1  C0001  CSD2   6.0\n",
      "2  C0001  CTDL   9.0\n",
      "3  C0001  KTLT   5.5\n",
      "4  C0001  LQL1   7.0\n"
     ]
    }
   ],
   "source": [
    "# Đọc file ket_qua.csv trong thư mục thuc_hanh_1\n",
    "df_KQ = pd.read_csv('thuc_hanh_1/ket_qua.csv')\n",
    "# df_KQ\n",
    "print(df_KQ.shape)\n",
    "print(df_KQ.columns)\n",
    "print(df_KQ.head()) # mặc định lấy 5 dòng đầu tiên"
   ]
  },
  {
   "cell_type": "markdown",
   "metadata": {},
   "source": [
    "## Tính điểm trung bình"
   ]
  },
  {
   "cell_type": "code",
   "execution_count": 20,
   "metadata": {},
   "outputs": [
    {
     "name": "stdout",
     "output_type": "stream",
     "text": [
      "<class 'pandas.core.frame.DataFrame'>\n",
      "    masv              ho    ten  gioitinh             ngaysinh  \\\n",
      "0  C0001     Khương Thảo   Loan     False  1999-01-04 00:00:00   \n",
      "1  C0002       Đặng Bạch   Ngọc      True  1999-11-11 00:00:00   \n",
      "2  C0003   Phạm Văn Minh  Thiện      True  1999-11-23 00:00:00   \n",
      "3  C0004  Đinh Thị Thanh   Dung     False  1999-01-19 00:00:00   \n",
      "4  C0005       Trần Mạnh  Thiện      True  1999-08-19 00:00:00   \n",
      "\n",
      "                email     didong          cmnd  hocbong makh  diem  \n",
      "0    ktloan@gmail.com  987314518  586900775484  2000000   CN   6.5  \n",
      "1    dbngoc@gmail.com  987587327  274387352269        0   CN   7.2  \n",
      "2  pvmthien@gmail.com  987858734  835772714136        0   CN   7.7  \n",
      "3   dttdung@gmail.com  987508413  373064334392  1000000   CN   6.9  \n",
      "4   tmthien@gmail.com  987579776  233384596844  1000000   CN   7.7  \n"
     ]
    }
   ],
   "source": [
    "# Group by theo mã sv và tính điểm trung bình\n",
    "### Cách 1:\n",
    "series_DiemTB = df_KQ.groupby('masv')['diem'].mean()\n",
    "# print(series_DiemTB.head())\n",
    "df_DiemTB = pd.DataFrame(series_DiemTB)\n",
    "# print(df_DiemTB)\n",
    "\n",
    "### Cách 2:\n",
    "## Group by theo mã sv -> dùng as_index=False để các nhãn trong df xuất hiện trong kết quả group by\n",
    "df_SV_GroupByMaSV = df_KQ.groupby('masv', as_index=False)\n",
    "# print(df_SV_GroupByMaSV)\n",
    "\n",
    "## Lấy ra cột điểm\n",
    "df_Diem = df_SV_GroupByMaSV['diem'] # hoặc df_Diem = df_SV_GroupByMaSV.diem\n",
    "# print(df_Diem.head())\n",
    "\n",
    "## Tính điểm trung bình\n",
    "df_DiemTB = df_Diem.mean()\n",
    "# print(df_DiemTB.head())\n",
    "print(type(df_DiemTB))\n",
    "\n",
    "## Ghép series điểm trung bình vào df_SV\n",
    "df_SV_DiemTB = pd.merge(df_SV,df_DiemTB,on = 'masv') # chỉ định cột dựa vào để ghép\n",
    "print(df_SV_DiemTB.head())"
   ]
  },
  {
   "cell_type": "code",
   "execution_count": 21,
   "metadata": {},
   "outputs": [
    {
     "name": "stdout",
     "output_type": "stream",
     "text": [
      "      masv              ho     ten  gioitinh             ngaysinh  \\\n",
      "43   C0044        Bạch Thị    Thúy     False  1999-11-09 00:00:00   \n",
      "51   C0052     Lê Thị Thảo      Ly     False  1999-02-14 00:00:00   \n",
      "59   C0060         Văn Thị     Lan     False  1999-05-20 00:00:00   \n",
      "70   C0071    Khương Thanh   Thanh     False  1999-03-13 00:00:00   \n",
      "72   C0073       Trần Thảo    Hạnh     False  1999-03-23 00:00:00   \n",
      "79   C0080      Bạch Thanh   Thanh     False  1999-01-04 00:00:00   \n",
      "108  C0109        Bạch Thị     Hoa     False  1999-10-14 00:00:00   \n",
      "131  C0132  Phạm Thị Thanh    Dung     False  1999-09-07 00:00:00   \n",
      "139  C0140        Đàm Vĩnh   Thăng      True  1999-12-02 00:00:00   \n",
      "153  C0154    Cao Văn Minh     Bảo      True  1999-05-11 00:00:00   \n",
      "159  C0160       Phạm Thảo     Mai     False  1999-12-19 00:00:00   \n",
      "189  C0190    Văn Thị Thảo    Loan     False  1999-07-21 00:00:00   \n",
      "197  C0198     Lê Văn Minh   Thiện      True  1999-06-27 00:00:00   \n",
      "205  C0206       Hoàng Nam    Tuấn      True  1999-08-13 00:00:00   \n",
      "215  C0216      Đinh Thanh   Thanh     False  1999-04-09 00:00:00   \n",
      "250  C0251        Thái Nam   Thăng      True  1999-07-03 00:00:00   \n",
      "260  C0261          Mã Nam   Thiệu      True  1999-02-04 00:00:00   \n",
      "266  C0267        Văn Thảo     Đào     False  1999-06-17 00:00:00   \n",
      "271  C0272        Thái Nam    Dũng      True  1999-08-12 00:00:00   \n",
      "292  C0293        Đàm Ngọc      Mỹ     False  1999-01-05 00:00:00   \n",
      "293  C0294        Phạm Nam     Bảo      True  1999-12-30 00:00:00   \n",
      "296  C0297         Lý Vĩnh   Phong      True  1999-03-17 00:00:00   \n",
      "306  C0307        Trần Phú    Ngân      True  1999-07-13 00:00:00   \n",
      "317  C0318          Lê Nam    Tuấn      True  1999-07-19 00:00:00   \n",
      "319  C0320       Bạch Vĩnh     Tân      True  1999-06-27 00:00:00   \n",
      "322  C0323         Lý Thảo    Thúy     False  1999-03-14 00:00:00   \n",
      "348  C0349   Bạch Văn Minh   Trọng      True  1999-11-20 00:00:00   \n",
      "354  C0355         Văn Thị     Mai     False  1999-11-10 00:00:00   \n",
      "356  C0357          Lê Thị     Hoa     False  1999-08-24 00:00:00   \n",
      "367  C0368      Hoàng Minh  Phương      True  1999-04-19 00:00:00   \n",
      "371  C0372        Phạm Văn   Phong      True  1999-10-08 00:00:00   \n",
      "384  C0385        Văn Minh  Phương      True  1999-06-04 00:00:00   \n",
      "386  C0387         Lê Bạch    Ngân     False  1999-04-29 00:00:00   \n",
      "387  C0388      Đàm Phương  Phương      True  1999-05-16 00:00:00   \n",
      "418  C0419         Đàm Phú     Thu     False  1999-07-05 00:00:00   \n",
      "435  C0436   Lâm Thị Thanh    Dung     False  1999-11-24 00:00:00   \n",
      "456  C0457  Bạch Thị Thanh    Hạnh     False  1999-05-10 00:00:00   \n",
      "482  C0483         Lý Vĩnh   Thiệu      True  1999-06-21 00:00:00   \n",
      "497  C0498         Lê Thảo    Thúy     False  1999-09-09 00:00:00   \n",
      "\n",
      "                  email     didong          cmnd  hocbong makh  diem  \n",
      "43     btthuy@gmail.com  987681542  483340458851        0   CN  8.05  \n",
      "51      lttly@gmail.com  168434476  874368763621  1000000   CN  8.55  \n",
      "59      vtlan@gmail.com  913926778  772255381968  3000000   CN  8.00  \n",
      "70    ktthanh@gmail.com  168852812  942543336435        0   CN  8.30  \n",
      "72     tthanh@gmail.com  987718558  451357224741  1000000   CN  8.00  \n",
      "79    btthanh@gmail.com  913843497  169614465950  3000000   CN  8.30  \n",
      "108     bthoa@gmail.com  913174720  347889227616  1000000   CN  8.20  \n",
      "131   pttdung@gmail.com  913172326   42648721276  2000000   CN  8.00  \n",
      "139   dvthang@gmail.com  913063278  681253422515        0   CN  8.25  \n",
      "153    cvmbao@gmail.com  913598140  530460808272  3000000   CN  8.60  \n",
      "159     ptmai@gmail.com  987316732  791319761675        0   CN  8.25  \n",
      "189   vttloan@gmail.com  913178556  344276294087  2000000   CN  8.00  \n",
      "197  lvmthien@gmail.com  913495078  163946544228  2000000   CN  8.10  \n",
      "205    hntuan@gmail.com  168277247  563185517187        0   CN  8.00  \n",
      "215   dtthanh@gmail.com  987705817  531437738832  1000000   CN  8.40  \n",
      "250   tnthang@gmail.com  987143032  493601403416  1000000   CN  8.35  \n",
      "260   mnthieu@gmail.com  168256599  192854188738  3000000   CN  8.30  \n",
      "266     vtdao@gmail.com  913841754  135538101757        0   CN  8.05  \n",
      "271    tndung@gmail.com  913486853  701413814886        0   CN  8.20  \n",
      "292      dnmy@gmail.com  987240790  631403439411        0   CN  8.30  \n",
      "293     pnbao@gmail.com  987586638  968772828515  1000000   CN  8.05  \n",
      "296   lvphong@gmail.com  987478501  443223214141  1000000   CN  8.05  \n",
      "306    tpngan@gmail.com  987660853  550458718916  2000000   CN  8.05  \n",
      "317    lntuan@gmail.com  987833368  225891886981  2000000   CN  8.35  \n",
      "319     bvtan@gmail.com  168757418  391475170745  1000000   CN  8.15  \n",
      "322    ltthuy@gmail.com  913254961  262183313635  2000000   CN  8.00  \n",
      "348  bvmtrong@gmail.com  168553907  416412832724  1000000   CN  8.25  \n",
      "354     vtmai@gmail.com  987327541  855354458643        0   CN  8.75  \n",
      "356     lthoa@gmail.com  168168028  407376423068  3000000   CN  8.10  \n",
      "367  hmphuong@gmail.com  913851747   11899180155  1000000   CN  8.00  \n",
      "371   pvphong@gmail.com  168302791  766963468652  3000000   CN  8.05  \n",
      "384  vmphuong@gmail.com  987447780  634872681822  3000000   CN  8.05  \n",
      "386    lbngan@gmail.com  913158437  647119351103        0   CN  8.70  \n",
      "387  dpphuong@gmail.com  913576289  330183766453  1000000   CN  8.05  \n",
      "418     dpthu@gmail.com  987548311  261617747295  2000000   CN  8.15  \n",
      "435   lttdung@gmail.com  168753165  971746450069  2000000   CN  8.20  \n",
      "456   btthanh@gmail.com  168268210  645933502115  1000000   CN  8.05  \n",
      "482   lvthieu@gmail.com  913453657  432742077115        0   CN  8.70  \n",
      "497    ltthuy@gmail.com  987282354  722901735535  1000000   CN  8.10  \n"
     ]
    }
   ],
   "source": [
    "# Cho biết các sv khoa CN có điểm trung bình >= 8\n",
    "print(df_SV_DiemTB[(df_SV_DiemTB['diem'] >= 8) & (df_SV_DiemTB['makh'] == 'CN')])"
   ]
  },
  {
   "cell_type": "code",
   "execution_count": 9,
   "metadata": {
    "collapsed": true
   },
   "outputs": [
    {
     "name": "stdout",
     "output_type": "stream",
     "text": [
      "      masv                ho     ten  gioitinh             ngaysinh  \\\n",
      "354  C0355           Văn Thị     Mai     False  1999-11-10 00:00:00   \n",
      "482  C0483           Lý Vĩnh   Thiệu      True  1999-06-21 00:00:00   \n",
      "386  C0387           Lê Bạch    Ngân     False  1999-04-29 00:00:00   \n",
      "845  V0846            Lê Văn     Lộc      True  1999-10-31 00:00:00   \n",
      "153  C0154      Cao Văn Minh     Bảo      True  1999-05-11 00:00:00   \n",
      "51   C0052       Lê Thị Thảo      Ly     False  1999-02-14 00:00:00   \n",
      "798  V0799          Thái Nam    Tuấn      True  1999-03-07 00:00:00   \n",
      "746  V0747            Mã Phú     Tâm      True  1999-08-25 00:00:00   \n",
      "699  V0700          Cao Thảo      Ly     False  1999-11-06 00:00:00   \n",
      "986  V0987         Trần Mạnh   Thiệu      True  1999-08-26 00:00:00   \n",
      "807  V0808       Khương Vĩnh     Huy      True  1999-04-30 00:00:00   \n",
      "946  V0947        Phạm Thanh    Ngân     False  1999-09-01 00:00:00   \n",
      "215  C0216        Đinh Thanh   Thanh     False  1999-04-09 00:00:00   \n",
      "913  V0914        Vương Vĩnh     Bảo      True  1999-07-30 00:00:00   \n",
      "250  C0251          Thái Nam   Thăng      True  1999-07-03 00:00:00   \n",
      "317  C0318            Lê Nam    Tuấn      True  1999-07-19 00:00:00   \n",
      "507  T0508     Trần Thị Thảo   Nhung     False  1999-11-10 00:00:00   \n",
      "292  C0293          Đàm Ngọc      Mỹ     False  1999-01-05 00:00:00   \n",
      "70   C0071      Khương Thanh   Thanh     False  1999-03-13 00:00:00   \n",
      "892  V0893        Vương Thảo    Dung     False  1999-04-14 00:00:00   \n",
      "698  V0699           Lê Vĩnh     Hòa      True  1999-06-12 00:00:00   \n",
      "79   C0080        Bạch Thanh   Thanh     False  1999-01-04 00:00:00   \n",
      "865  V0866         Đặng Thảo     Đào     False  1999-11-02 00:00:00   \n",
      "260  C0261            Mã Nam   Thiệu      True  1999-02-04 00:00:00   \n",
      "736  V0737          Đinh Thị    Trúc     False  1999-03-16 00:00:00   \n",
      "139  C0140          Đàm Vĩnh   Thăng      True  1999-12-02 00:00:00   \n",
      "159  C0160         Phạm Thảo     Mai     False  1999-12-19 00:00:00   \n",
      "583  T0584          Đàm Bạch    Ngân      True  1999-04-28 00:00:00   \n",
      "536  T0537           Văn Văn      Vỹ      True  1999-09-22 00:00:00   \n",
      "678  V0679         Phạm Bạch    Minh      True  1999-04-26 00:00:00   \n",
      "..     ...               ...     ...       ...                  ...   \n",
      "410  C0411       Nguyễn Thảo    Loan     False  1999-04-15 00:00:00   \n",
      "379  C0380         Phạm Thảo     Đào     False  1999-10-21 00:00:00   \n",
      "151  C0152    Đặng Thị Thanh     Lan     False  1999-09-24 00:00:00   \n",
      "39   C0040         Thái Thảo     Hoa     False  1999-02-03 00:00:00   \n",
      "831  V0832      Mã Thị Thanh    Loan     False  1999-04-09 00:00:00   \n",
      "601  V0602  Khương Thị Thanh    Thúy     False  1999-06-03 00:00:00   \n",
      "605  V0606            Mã Nam   Thiệu      True  1999-06-15 00:00:00   \n",
      "579  T0580          Bạch Nam   Phong      True  1999-11-24 00:00:00   \n",
      "308  C0309   Vương Thị Thanh    Thúy     False  1999-02-17 00:00:00   \n",
      "472  C0473         Đặng Thảo   Nhung     False  1999-03-18 00:00:00   \n",
      "95   C0096          Văn Ngọc    Ngọc     False  1999-11-22 00:00:00   \n",
      "298  C0299          Đặng Văn   Thiện      True  1999-05-10 00:00:00   \n",
      "679  V0680         Thái Bạch  Phương     False  1999-02-21 00:00:00   \n",
      "264  C0265    Trần Thị Thanh     Nga     False  1999-07-12 00:00:00   \n",
      "262  C0263          Văn Mạnh    Tuấn      True  1999-10-04 00:00:00   \n",
      "713  V0714           Cao Phú    Ngân     False  1999-10-01 00:00:00   \n",
      "231  C0232          Phạm Nam   Trọng      True  1999-12-15 00:00:00   \n",
      "289  C0290          Phạm Phú      Mỹ      True  1999-03-15 00:00:00   \n",
      "373  C0374          Cao Ngọc     Tâm     False  1999-05-25 00:00:00   \n",
      "826  V0827    Đặng Thị Thanh     Mai     False  1999-12-17 00:00:00   \n",
      "419  C0420          Lê Thanh    Ngọc      True  1999-05-17 00:00:00   \n",
      "793  V0794    Đinh Thị Thanh    Dung     False  1999-03-02 00:00:00   \n",
      "75   C0076      Nguyễn Thanh  Phương      True  1999-02-20 00:00:00   \n",
      "470  C0471           Mã Thảo     Mai     False  1999-07-03 00:00:00   \n",
      "981  V0982          Văn Bạch     Tâm      True  1999-05-05 00:00:00   \n",
      "244  C0245          Cao Minh     Thu     False  1999-11-20 00:00:00   \n",
      "938  V0939           Cao Nam   Phong      True  1999-11-23 00:00:00   \n",
      "245  C0246       Lý Văn Minh     Huy      True  1999-06-16 00:00:00   \n",
      "620  V0621   Vương Thị Thanh    Thúy     False  1999-08-12 00:00:00   \n",
      "832  V0833          Trần Phú    Minh     False  1999-05-24 00:00:00   \n",
      "\n",
      "                  email     didong          cmnd  hocbong makh  diem  \n",
      "354     vtmai@gmail.com  987327541  855354458643        0   CN  8.75  \n",
      "482   lvthieu@gmail.com  913453657  432742077115        0   CN  8.70  \n",
      "386    lbngan@gmail.com  913158437  647119351103        0   CN  8.70  \n",
      "845     lvloc@gmail.com  913128685  658180634180  3000000   VL  8.65  \n",
      "153    cvmbao@gmail.com  913598140  530460808272  3000000   CN  8.60  \n",
      "51      lttly@gmail.com  168434476  874368763621  1000000   CN  8.55  \n",
      "798    tntuan@gmail.com  913950748  166625619025  1000000   VL  8.45  \n",
      "746     mptam@gmail.com  168643676  335571036603  3000000   VL  8.45  \n",
      "699      ctly@gmail.com  168435083  830725613394  3000000   VL  8.45  \n",
      "986   tmthieu@gmail.com  913149120  558722018236  2000000   VL  8.45  \n",
      "807     kvhuy@gmail.com  913122480  210928825992        0   VL  8.40  \n",
      "946    ptngan@gmail.com  168368388  760277315137  2000000   VL  8.40  \n",
      "215   dtthanh@gmail.com  987705817  531437738832  1000000   CN  8.40  \n",
      "913     vvbao@gmail.com  913662153  643275668728  3000000   VL  8.35  \n",
      "250   tnthang@gmail.com  987143032  493601403416  1000000   CN  8.35  \n",
      "317    lntuan@gmail.com  987833368  225891886981  2000000   CN  8.35  \n",
      "507  tttnhung@gmail.com  987228466  988514148472  1000000   TO  8.35  \n",
      "292      dnmy@gmail.com  987240790  631403439411        0   CN  8.30  \n",
      "70    ktthanh@gmail.com  168852812  942543336435        0   CN  8.30  \n",
      "892    vtdung@gmail.com  913472119  371836218595  2000000   VL  8.30  \n",
      "698     lvhoa@gmail.com  168737918  139811131045        0   VL  8.30  \n",
      "79    btthanh@gmail.com  913843497  169614465950  3000000   CN  8.30  \n",
      "865     dtdao@gmail.com  168523669  371361215553        0   VL  8.30  \n",
      "260   mnthieu@gmail.com  168256599  192854188738  3000000   CN  8.30  \n",
      "736    dttruc@gmail.com  168028643  746195421351  2000000   VL  8.30  \n",
      "139   dvthang@gmail.com  913063278  681253422515        0   CN  8.25  \n",
      "159     ptmai@gmail.com  987316732  791319761675        0   CN  8.25  \n",
      "583    dbngan@gmail.com  168535534  165541702107        0   TO  8.25  \n",
      "536      vvvy@gmail.com  913735282  876167216537  2000000   TO  8.25  \n",
      "678    pbminh@gmail.com  168447385  160067722343        0   VL  8.25  \n",
      "..                  ...        ...           ...      ...  ...   ...  \n",
      "410    ntloan@gmail.com  987313288  904298249266        0   CN  6.15  \n",
      "379     ptdao@gmail.com  168946061  165023447739  1000000   CN  6.15  \n",
      "151    dttlan@gmail.com  913216005  326354418416  1000000   CN  6.15  \n",
      "39      tthoa@gmail.com  913128448  470038563157        0   CN  6.10  \n",
      "831   mttloan@gmail.com  913867284  885033740365  2000000   VL  6.10  \n",
      "601   kttthuy@gmail.com  168682471  690435500843  3000000   VL  6.10  \n",
      "605   mnthieu@gmail.com  913378668  354721534223        0   VL  6.10  \n",
      "579   bnphong@gmail.com  913654072   43893703782        0   TO  6.10  \n",
      "308   vttthuy@gmail.com  987328783  684097855865  1000000   CN  6.10  \n",
      "472   dtnhung@gmail.com  168516133  812432511898  2000000   CN  6.10  \n",
      "95     vnngoc@gmail.com  913166025  337766688433  3000000   CN  6.05  \n",
      "298   dvthien@gmail.com  987417864  466344267402  3000000   CN  6.05  \n",
      "679  tbphuong@gmail.com  987422280  146609464494  1000000   VL  6.05  \n",
      "264    tttnga@gmail.com  913246228  743834971334  3000000   CN  6.05  \n",
      "262    vmtuan@gmail.com  168146172  476452288745        0   CN  6.05  \n",
      "713    cpngan@gmail.com  168684574  184258839727        0   VL  6.00  \n",
      "231   pntrong@gmail.com  168666184  273278687887  3000000   CN  6.00  \n",
      "289      ppmy@gmail.com  913723178  517937343803        0   CN  5.95  \n",
      "373     cntam@gmail.com  913022063  954521697456  2000000   CN  5.95  \n",
      "826    dttmai@gmail.com  168886895  728216565566  1000000   VL  5.95  \n",
      "419    ltngoc@gmail.com  987762034  466762388281        0   CN  5.95  \n",
      "793   dttdung@gmail.com  987535817  862321557580  2000000   VL  5.85  \n",
      "75   ntphuong@gmail.com  913347446  287315632735  3000000   CN  5.80  \n",
      "470     mtmai@gmail.com  168192483  211413632627  1000000   CN  5.80  \n",
      "981     vbtam@gmail.com  913330731   15324169436  3000000   VL  5.75  \n",
      "244     cmthu@gmail.com  913165000  776823107760  3000000   CN  5.55  \n",
      "938   cnphong@gmail.com  168121214  419940564175  1000000   VL  5.55  \n",
      "245    lvmhuy@gmail.com  168415361  578635737915  1000000   CN  5.50  \n",
      "620   vttthuy@gmail.com  987668123  752985556125  1000000   VL  5.50  \n",
      "832    tpminh@gmail.com  168861731  190672558617  2000000   VL  5.15  \n",
      "\n",
      "[1000 rows x 11 columns]\n",
      "    masv              ho    ten  gioitinh             ngaysinh  \\\n",
      "0  C0001     Khương Thảo   Loan     False  1999-01-04 00:00:00   \n",
      "1  C0002       Đặng Bạch   Ngọc      True  1999-11-11 00:00:00   \n",
      "2  C0003   Phạm Văn Minh  Thiện      True  1999-11-23 00:00:00   \n",
      "3  C0004  Đinh Thị Thanh   Dung     False  1999-01-19 00:00:00   \n",
      "4  C0005       Trần Mạnh  Thiện      True  1999-08-19 00:00:00   \n",
      "\n",
      "                email     didong          cmnd  hocbong makh  diem  \n",
      "0    ktloan@gmail.com  987314518  586900775484  2000000   CN   6.5  \n",
      "1    dbngoc@gmail.com  987587327  274387352269        0   CN   7.2  \n",
      "2  pvmthien@gmail.com  987858734  835772714136        0   CN   7.7  \n",
      "3   dttdung@gmail.com  987508413  373064334392  1000000   CN   6.9  \n",
      "4   tmthien@gmail.com  987579776  233384596844  1000000   CN   7.7  \n"
     ]
    }
   ],
   "source": [
    "# Sắp xếp theo điểm trung bình giảm dần các sv\n",
    "print(df_SV_DiemTB.sort_values(by='diem', ascending=False))\n",
    "\n",
    "### Sắp xếp và gán vào df gốc mà ko cần gán lại -> dùng inplace=True\n",
    "# df_SV_DiemTB.sort_values(by='diem', ascending=False, inplace=True)\n",
    "print(df_SV_DiemTB.head())"
   ]
  },
  {
   "cell_type": "code",
   "execution_count": 12,
   "metadata": {},
   "outputs": [
    {
     "name": "stdout",
     "output_type": "stream",
     "text": [
      "      masv            ho    ten  gioitinh             ngaysinh  \\\n",
      "354  C0355       Văn Thị    Mai     False  1999-11-10 00:00:00   \n",
      "386  C0387       Lê Bạch   Ngân     False  1999-04-29 00:00:00   \n",
      "482  C0483       Lý Vĩnh  Thiệu      True  1999-06-21 00:00:00   \n",
      "153  C0154  Cao Văn Minh    Bảo      True  1999-05-11 00:00:00   \n",
      "51   C0052   Lê Thị Thảo     Ly     False  1999-02-14 00:00:00   \n",
      "\n",
      "                 email     didong          cmnd  hocbong makh  diem  \n",
      "354    vtmai@gmail.com  987327541  855354458643        0   CN  8.75  \n",
      "386   lbngan@gmail.com  913158437  647119351103        0   CN  8.70  \n",
      "482  lvthieu@gmail.com  913453657  432742077115        0   CN  8.70  \n",
      "153   cvmbao@gmail.com  913598140  530460808272  3000000   CN  8.60  \n",
      "51     lttly@gmail.com  168434476  874368763621  1000000   CN  8.55  \n"
     ]
    }
   ],
   "source": [
    "# Sắp xếp điểm trung bình giảm dần của các sv khoa CN\n",
    "### Trích ra các sv khoa CN\n",
    "df_CN = df_SV_DiemTB[df_SV_DiemTB['makh'] == 'CN']\n",
    "# print(df_CN.head())\n",
    "\n",
    "### Sort giảm dần theo điểm trung bình\n",
    "df_CN_sort = df_CN.sort_values(by='diem', ascending=False)\n",
    "print(df_CN_sort.head())"
   ]
  },
  {
   "cell_type": "code",
   "execution_count": null,
   "metadata": {},
   "outputs": [],
   "source": []
  }
 ],
 "metadata": {
  "kernelspec": {
   "display_name": "Python 3",
   "language": "python",
   "name": "python3"
  },
  "language_info": {
   "codemirror_mode": {
    "name": "ipython",
    "version": 3
   },
   "file_extension": ".py",
   "mimetype": "text/x-python",
   "name": "python",
   "nbconvert_exporter": "python",
   "pygments_lexer": "ipython3",
   "version": "3.6.8"
  }
 },
 "nbformat": 4,
 "nbformat_minor": 2
}
