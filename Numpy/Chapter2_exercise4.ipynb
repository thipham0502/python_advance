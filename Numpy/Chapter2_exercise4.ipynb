{
 "cells": [
  {
   "cell_type": "code",
   "execution_count": 1,
   "metadata": {},
   "outputs": [],
   "source": [
    "import numpy as np"
   ]
  },
  {
   "cell_type": "code",
   "execution_count": 2,
   "metadata": {},
   "outputs": [
    {
     "name": "stdout",
     "output_type": "stream",
     "text": [
      "['74' '180' '74' ... '190' '73' '195']\n",
      "(2030,)\n"
     ]
    }
   ],
   "source": [
    "# Đọc file baseball_2D.txt\n",
    "### Đọc dữ liệu và đưa vào mảng 1 chiều\n",
    "f = open('DuLieu/baseball_2D.txt')\n",
    "data = f.read()\n",
    "f.close()\n",
    "# print(data)\n",
    "\n",
    "data = data.split(',')\n",
    "# print(data)\n",
    "data = [item.strip().strip('[').strip(']') for item in data]\n",
    "# print(data)\n",
    "\n",
    "data = np.array(data)\n",
    "print(data)\n",
    "print(data.shape)"
   ]
  },
  {
   "cell_type": "code",
   "execution_count": 4,
   "metadata": {},
   "outputs": [
    {
     "name": "stdout",
     "output_type": "stream",
     "text": [
      "[['74' '180']\n",
      " ['74' '215']\n",
      " ['72' '210']\n",
      " ...\n",
      " ['75' '205']\n",
      " ['75' '190']\n",
      " ['73' '195']]\n"
     ]
    }
   ],
   "source": [
    "# Chuyển thành mảng 2 chiều, cột 1: cân nặng, cột 2: chiều cao\n",
    "data_baseball = []\n",
    "for i in range(0,len(data),2):\n",
    "        weight_item = data[i]\n",
    "        height_item = data[i+1]\n",
    "        data_baseball = np.append(data_baseball, np.array([weight_item, height_item]))\n",
    "        \n",
    "data_baseball = data_baseball.reshape(-1,2)\n",
    "print(data_baseball)"
   ]
  },
  {
   "cell_type": "code",
   "execution_count": 5,
   "metadata": {},
   "outputs": [
    {
     "name": "stdout",
     "output_type": "stream",
     "text": [
      "['74' '74' '72' ... '75' '75' '73']\n"
     ]
    }
   ],
   "source": [
    "# Trích ra cột cân nặng\n",
    "weight = data_baseball[:,0]\n",
    "print(weight)"
   ]
  },
  {
   "cell_type": "code",
   "execution_count": null,
   "metadata": {},
   "outputs": [],
   "source": []
  }
 ],
 "metadata": {
  "kernelspec": {
   "display_name": "Python 3",
   "language": "python",
   "name": "python3"
  },
  "language_info": {
   "codemirror_mode": {
    "name": "ipython",
    "version": 3
   },
   "file_extension": ".py",
   "mimetype": "text/x-python",
   "name": "python",
   "nbconvert_exporter": "python",
   "pygments_lexer": "ipython3",
   "version": "3.7.3"
  }
 },
 "nbformat": 4,
 "nbformat_minor": 2
}
