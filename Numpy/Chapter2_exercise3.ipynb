{
 "cells": [
  {
   "cell_type": "code",
   "execution_count": 4,
   "metadata": {},
   "outputs": [
    {
     "name": "stdout",
     "output_type": "stream",
     "text": [
      "[[ True  True  True]\n",
      " [ True  True  True]\n",
      " [ True  True  True]]\n"
     ]
    }
   ],
   "source": [
    "import numpy as np\n",
    "\n",
    "# Câu 1: Khởi tạo array 3x3 với tất cả giá trị là True => Hàm np.ones\n",
    "a = np.ones((3,3), dtype = bool)\n",
    "print(a)"
   ]
  },
  {
   "cell_type": "code",
   "execution_count": 5,
   "metadata": {},
   "outputs": [
    {
     "name": "stdout",
     "output_type": "stream",
     "text": [
      "[0 1 2 3 4 5 6 7 8]\n",
      "[[0 1 2]\n",
      " [3 4 5]\n",
      " [6 7 8]]\n",
      "[[0 1 2]\n",
      " [3 4 5]\n",
      " [6 7 8]]\n",
      "[[2 1 0]\n",
      " [5 4 3]\n",
      " [8 7 6]]\n",
      "[[2 1 0]\n",
      " [5 4 3]\n",
      " [8 7 6]]\n"
     ]
    }
   ],
   "source": [
    "# Câu 2:\n",
    "## Khởi tạo array 1 chiều 0-8\n",
    "b = np.arange(0, 9)\n",
    "print(b)\n",
    "\n",
    "## Chuyển b thành array 3x3\n",
    "b = b.reshape(3,3)\n",
    "print(b)\n",
    "# Hoặc\n",
    "b.shape = (3,3)\n",
    "print(b)\n",
    "\n",
    "## Tạo array mới đảo cột 1 của array b thành cột 3\n",
    "## => xuất tất cả dòng (:)\n",
    "## => xuất các cột theo thứ tự: cột 2 -> 1 -> 0\n",
    "b1 = b[:, [2,1,0]]\n",
    "print(b1)\n",
    "\n",
    "# Cách 2: swap\n",
    "b2 = np.array(b)\n",
    "temp = np.array(b2[:,0])\n",
    "b2[:,0] = b2[:,2]\n",
    "b2[:,2] = temp\n",
    "print(b2)"
   ]
  },
  {
   "cell_type": "code",
   "execution_count": 6,
   "metadata": {},
   "outputs": [
    {
     "name": "stdout",
     "output_type": "stream",
     "text": [
      "[[3 4 5]\n",
      " [0 1 2]\n",
      " [6 7 8]]\n"
     ]
    }
   ],
   "source": [
    "# Câu 3:\n",
    "## Tạo array mới đảo dòng 1 của array b thành dòng 2\n",
    "## => xuất các dòng theo thứ tự: dòng 1 -> 0 -> 2\n",
    "## => xuất tất cả cột (:)\n",
    "b3 = b[[1,0,2],:]\n",
    "print(b3)"
   ]
  },
  {
   "cell_type": "code",
   "execution_count": 7,
   "metadata": {},
   "outputs": [
    {
     "name": "stdout",
     "output_type": "stream",
     "text": [
      "[[0 1 2]\n",
      " [3 4 5]\n",
      " [6 7 8]]\n",
      "[[6 7 8]\n",
      " [3 4 5]\n",
      " [0 1 2]]\n"
     ]
    }
   ],
   "source": [
    "# Câu 4: Đảo ngược dòng của array b\n",
    "b4 = b[::-1, :]\n",
    "print(b)\n",
    "print(b4)"
   ]
  },
  {
   "cell_type": "code",
   "execution_count": 8,
   "metadata": {},
   "outputs": [
    {
     "name": "stdout",
     "output_type": "stream",
     "text": [
      "[[0 1 2]\n",
      " [3 4 5]\n",
      " [6 7 8]]\n",
      "[[2 1 0]\n",
      " [5 4 3]\n",
      " [8 7 6]]\n"
     ]
    }
   ],
   "source": [
    "# Câu 5: Đảo ngược cột của array b\n",
    "b5 = b[:, ::-1]\n",
    "print(b)\n",
    "print(b5)"
   ]
  },
  {
   "cell_type": "code",
   "execution_count": 9,
   "metadata": {},
   "outputs": [
    {
     "name": "stdout",
     "output_type": "stream",
     "text": [
      "[[ 1.  2.  3.]\n",
      " [nan  5.  6.]\n",
      " [ 7. nan  9.]\n",
      " [ 4.  5.  6.]]\n",
      "[[False False False]\n",
      " [ True False False]\n",
      " [False  True False]\n",
      " [False False False]]\n",
      "True\n",
      "False\n"
     ]
    }
   ],
   "source": [
    "# Câu 6:\n",
    "h = np.array([[1,2,3],[np.NaN,5,6],[7,np.NaN,9],[4,5,6]])\n",
    "print(h)\n",
    "\n",
    "## Kiểm tra h có giá trị rỗng (NaN) nào ko =>  np.isnan(h)\n",
    "print(np.isnan(h)) # Tạo array chỉ có True/False (True nếu là NaN)\n",
    "print(np.isnan(h).any()) # Kiểm tra có NaN nào ko (True nêú có tồn tại 1 giá trị NaN)\n",
    "print(np.isnan(h).all()) # Kiểm tra có phải tất cả đều là NaN ko (True nêú toàn NaN)"
   ]
  },
  {
   "cell_type": "code",
   "execution_count": 10,
   "metadata": {},
   "outputs": [
    {
     "name": "stdout",
     "output_type": "stream",
     "text": [
      "[[1. 2. 3.]\n",
      " [0. 5. 6.]\n",
      " [7. 0. 9.]\n",
      " [4. 5. 6.]]\n"
     ]
    }
   ],
   "source": [
    "# Câu 7: Thay thế giá trị NaN bằng 0\n",
    "h[np.isnan(h)] = 0\n",
    "print(h)"
   ]
  },
  {
   "cell_type": "code",
   "execution_count": null,
   "metadata": {},
   "outputs": [],
   "source": []
  }
 ],
 "metadata": {
  "kernelspec": {
   "display_name": "Python 3",
   "language": "python",
   "name": "python3"
  },
  "language_info": {
   "codemirror_mode": {
    "name": "ipython",
    "version": 3
   },
   "file_extension": ".py",
   "mimetype": "text/x-python",
   "name": "python",
   "nbconvert_exporter": "python",
   "pygments_lexer": "ipython3",
   "version": "3.7.3"
  }
 },
 "nbformat": 4,
 "nbformat_minor": 2
}
