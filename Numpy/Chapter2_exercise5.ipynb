{
 "cells": [
  {
   "cell_type": "code",
   "execution_count": 1,
   "metadata": {},
   "outputs": [],
   "source": [
    "import numpy as np"
   ]
  },
  {
   "cell_type": "code",
   "execution_count": 2,
   "metadata": {},
   "outputs": [
    {
     "name": "stdout",
     "output_type": "stream",
     "text": [
      "['GK' 'M' 'A' ... 'D' 'D' 'M']\n",
      "[191 184 185 ... 183 179 179]\n"
     ]
    }
   ],
   "source": [
    "# Đọc file positions.txt (vị trí của các cầu thủ)\n",
    "### Đọc dữ liệu từ file\n",
    "f = open('DuLieu/positions.txt')\n",
    "data1 = f.read()\n",
    "f.close()\n",
    "# print(data1)\n",
    "\n",
    "### Đưa dữ liệu vào mảng 1 chiều\n",
    "data1 = data1.split(',')\n",
    "data1 = [item.strip().strip('[').strip(']').strip(\"'\") for item in data1]\n",
    "# print(data1)\n",
    "positions = np.array(data1)\n",
    "print(positions)\n",
    "\n",
    "# Đọc file heights.txt (chiều cao của các cầu thủ)\n",
    "### Đọc dữ liệu từ file\n",
    "f = open('DuLieu/heights.txt')\n",
    "data2 = f.read()\n",
    "f.close()\n",
    "# print(data2)\n",
    "\n",
    "### Đưa dữ liệu vào mảng 1 chiều\n",
    "data2 = data2.split(',')\n",
    "data2 = [int(item.strip().strip('[').strip(']').strip(\"'\")) for item in data2]\n",
    "# print(data2)\n",
    "heights = np.array(data2)\n",
    "print(heights)"
   ]
  },
  {
   "cell_type": "code",
   "execution_count": 3,
   "metadata": {},
   "outputs": [
    {
     "name": "stdout",
     "output_type": "stream",
     "text": [
      "188.0\n"
     ]
    }
   ],
   "source": [
    "# Tìm chiều cao trung bình của các thủ môn (GK)\n",
    "### Tìm các index của GK\n",
    "GK_indexes = np.where(positions == 'GK')\n",
    "GK_heights = heights[GK_indexes]\n",
    "# print(GK_heights)\n",
    "\n",
    "### Tính median\n",
    "print(np.median(GK_heights))"
   ]
  },
  {
   "cell_type": "code",
   "execution_count": 4,
   "metadata": {},
   "outputs": [
    {
     "name": "stdout",
     "output_type": "stream",
     "text": [
      "181.0\n"
     ]
    }
   ],
   "source": [
    "# Tìm chiều cao trung bình của các cầu thủ khác (ko phải thủ môn)\n",
    "### Tìm các index của GK\n",
    "not_GK_indexes = np.where(positions != 'GK')\n",
    "not_GK_heights = heights[not_GK_indexes]\n",
    "# print(not_GK_heights)\n",
    "\n",
    "### Tính median\n",
    "print(np.median(not_GK_heights))"
   ]
  },
  {
   "cell_type": "code",
   "execution_count": null,
   "metadata": {},
   "outputs": [],
   "source": []
  }
 ],
 "metadata": {
  "kernelspec": {
   "display_name": "Python 3",
   "language": "python",
   "name": "python3"
  },
  "language_info": {
   "codemirror_mode": {
    "name": "ipython",
    "version": 3
   },
   "file_extension": ".py",
   "mimetype": "text/x-python",
   "name": "python",
   "nbconvert_exporter": "python",
   "pygments_lexer": "ipython3",
   "version": "3.7.3"
  }
 },
 "nbformat": 4,
 "nbformat_minor": 2
}
