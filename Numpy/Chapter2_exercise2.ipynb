{
 "cells": [
  {
   "cell_type": "code",
   "execution_count": 20,
   "metadata": {},
   "outputs": [
    {
     "name": "stdout",
     "output_type": "stream",
     "text": [
      "[74 74 72 ... 75 75 73]\n",
      "[180 215 210 ... 205 190 195]\n"
     ]
    }
   ],
   "source": [
    "import numpy as np\n",
    "\n",
    "# Chép dữ liệu trong file heights_1.txt và weights_1.txt\n",
    "# vào 2 array height và weight\n",
    "f_Height = open('DuLieu/heights_1.txt')\n",
    "data_height = f_Height.read()\n",
    "f_Height.close()\n",
    "\n",
    "f_Weight = open('DuLieu/weights_1.txt')\n",
    "data_weight = f_Weight.read()\n",
    "f_Weight.close()\n",
    "\n",
    "# Tách giá trị theo dấu ','\n",
    "data_height = data_height.split(',')\n",
    "data_weight = data_weight.split(',')\n",
    "# print(data_height)\n",
    "# print(data_weight)\n",
    "\n",
    "# Chuyển sang kiểu int\n",
    "data_height = [int(item1) for item1 in data_height]\n",
    "data_weight = [int(item2) for item2 in data_weight]\n",
    "# print(data_height)\n",
    "# print(data_weight)\n",
    "\n",
    "# Chuyển sang numpy array\n",
    "data_height = np.array(data_height)\n",
    "data_weight = np.array(data_weight)\n",
    "print(data_height)\n",
    "print(data_weight)"
   ]
  },
  {
   "cell_type": "code",
   "execution_count": 21,
   "metadata": {},
   "outputs": [
    {
     "name": "stdout",
     "output_type": "stream",
     "text": [
      "[1.8796 1.8796 1.8288 ... 1.905  1.905  1.8542]\n"
     ]
    }
   ],
   "source": [
    "# Đổi chiều cao từ inch -> m bằng cách nhân với 0.0254\n",
    "data_height_m = data_height * 0.0254\n",
    "print(data_height_m)"
   ]
  },
  {
   "cell_type": "code",
   "execution_count": 24,
   "metadata": {},
   "outputs": [
    {
     "name": "stdout",
     "output_type": "stream",
     "text": [
      "[81.64656 97.52228 95.25432 ... 92.98636 86.18248 88.45044]\n"
     ]
    }
   ],
   "source": [
    "# Đổi cân nặng từ pound -> kg bằng cách nhân với 0.453592\n",
    "data_weight_kg = data_weight * 0.453592\n",
    "print(data_weight_kg)"
   ]
  },
  {
   "cell_type": "code",
   "execution_count": 25,
   "metadata": {},
   "outputs": [
    {
     "name": "stdout",
     "output_type": "stream",
     "text": [
      "[23.11037639 27.60406069 28.48080465 ... 25.62295933 23.74810865\n",
      " 25.72686361]\n"
     ]
    }
   ],
   "source": [
    "# Tính BMI:\n",
    "data_bmi = data_weight_kg / (data_height_m ** 2)\n",
    "print(data_bmi)"
   ]
  },
  {
   "cell_type": "code",
   "execution_count": 29,
   "metadata": {},
   "outputs": [
    {
     "name": "stdout",
     "output_type": "stream",
     "text": [
      "[20.54255679 20.54255679 20.69282047 20.69282047 20.34343189 20.34343189\n",
      " 20.69282047 20.15883472 19.4984471  20.69282047 20.9205219 ]\n"
     ]
    }
   ],
   "source": [
    "# Tìm BMI < 21\n",
    "print(data_bmi[data_bmi < 21])"
   ]
  },
  {
   "cell_type": "code",
   "execution_count": 26,
   "metadata": {},
   "outputs": [
    {
     "name": "stdout",
     "output_type": "stream",
     "text": [
      "90.7184\n"
     ]
    }
   ],
   "source": [
    "# weight[50]\n",
    "print(data_weight_kg[50])"
   ]
  },
  {
   "cell_type": "code",
   "execution_count": 28,
   "metadata": {},
   "outputs": [
    {
     "name": "stdout",
     "output_type": "stream",
     "text": [
      "[1.8542 1.8796 1.8288 1.8542 1.7526 1.8288 1.8542 1.905  1.905  1.8542\n",
      " 1.8288]\n"
     ]
    }
   ],
   "source": [
    "# height [100->110] (lấy cả index 110)\n",
    "print(data_height_m[100:111])"
   ]
  },
  {
   "cell_type": "code",
   "execution_count": null,
   "metadata": {},
   "outputs": [],
   "source": []
  }
 ],
 "metadata": {
  "kernelspec": {
   "display_name": "Python 3",
   "language": "python",
   "name": "python3"
  },
  "language_info": {
   "codemirror_mode": {
    "name": "ipython",
    "version": 3
   },
   "file_extension": ".py",
   "mimetype": "text/x-python",
   "name": "python",
   "nbconvert_exporter": "python",
   "pygments_lexer": "ipython3",
   "version": "3.7.3"
  }
 },
 "nbformat": 4,
 "nbformat_minor": 2
}
