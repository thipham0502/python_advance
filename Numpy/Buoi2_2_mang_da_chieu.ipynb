{
 "cells": [
  {
   "cell_type": "code",
   "execution_count": 4,
   "metadata": {},
   "outputs": [
    {
     "name": "stdout",
     "output_type": "stream",
     "text": [
      "[[8, 7, 9], [8.5, 8, 9.5], [9, 8, 7.5], [7.5, 10, 9], [8.5, 6.5, 9.5], [6, 10, 8]]\n",
      "[[ 8.   7.   9. ]\n",
      " [ 8.5  8.   9.5]\n",
      " [ 9.   8.   7.5]\n",
      " [ 7.5 10.   9. ]\n",
      " [ 8.5  6.5  9.5]\n",
      " [ 6.  10.   8. ]]\n"
     ]
    }
   ],
   "source": [
    "## Mảng đa chiều\n",
    "import numpy as np\n",
    "\n",
    "# Khởi tạo mảng 2 chiều\n",
    "data = []\n",
    "data.append([8,7,9])\n",
    "data.append([8.5,8,9.5])\n",
    "data.append([9,8,7.5])\n",
    "data.append([7.5,10,9])\n",
    "data.append([8.5,6.5,9.5])\n",
    "data.append([6,10,8])\n",
    "print(data)\n",
    "\n",
    "mang_diem = np.array(data, dtype = float)\n",
    "print(mang_diem)"
   ]
  },
  {
   "cell_type": "code",
   "execution_count": 10,
   "metadata": {},
   "outputs": [
    {
     "name": "stdout",
     "output_type": "stream",
     "text": [
      "Điểm trung bình của dòng 0 là: 8.000\n",
      "Điểm trung bình của dòng 1 là: 8.667\n",
      "Điểm trung bình của dòng 2 là: 8.167\n",
      "Điểm trung bình của dòng 3 là: 8.833\n",
      "Điểm trung bình của dòng 4 là: 8.167\n",
      "Điểm trung bình của dòng 5 là: 8.000\n",
      "[8.         8.66666667 8.16666667 8.83333333 8.16666667 8.        ]\n"
     ]
    }
   ],
   "source": [
    "# Tính điểm trung bình\n",
    "# Cách 1\n",
    "#print(np.mean(np.array([8,7,9])))\n",
    "for dong in np.arange(mang_diem.shape[0]):\n",
    "    dtb = np.mean(mang_diem[dong])\n",
    "    print('Điểm trung bình của dòng %i là: %.3f' %(dong, dtb))\n",
    "\n",
    "# Cách 2\n",
    "print(np.mean(mang_diem, axis = 1))    "
   ]
  },
  {
   "cell_type": "code",
   "execution_count": 11,
   "metadata": {},
   "outputs": [
    {
     "name": "stdout",
     "output_type": "stream",
     "text": [
      "[ 9.  10.   9.5]\n",
      "9.0\n",
      "[7.  8.  7.5 7.5 6.5 6. ]\n"
     ]
    }
   ],
   "source": [
    "# Tìm max, min theo cột (0), dòng (1)\n",
    "print(np.amax(data, axis = 0))\n",
    "print(np.amax(data, axis = 0)[0])\n",
    "print(np.amin(data, axis = 1))"
   ]
  },
  {
   "cell_type": "code",
   "execution_count": 19,
   "metadata": {},
   "outputs": [
    {
     "name": "stdout",
     "output_type": "stream",
     "text": [
      "[[[1 2]\n",
      "  [3 4]]\n",
      "\n",
      " [[5 6]\n",
      "  [7 8]]]\n",
      "[[7.89745575 9.63285093 6.88618128 7.58314969 7.18895302]\n",
      " [5.23896735 5.39273366 6.28367127 6.23655057 8.54020964]\n",
      " [6.08164154 6.83967501 5.90845334 6.50786258 8.83876344]]\n"
     ]
    }
   ],
   "source": [
    "# Khởi tạo mảng 3 chiều\n",
    "#Cách 1\n",
    "b = np.array([[[1, 2], [3, 4]], [[5, 6], [7, 8]]])\n",
    "print(b)\n",
    "\n",
    "#Cách 2\n",
    "c = np.array(np.random.uniform(5, 10, [3, 5]))\n",
    "print(c)"
   ]
  },
  {
   "cell_type": "code",
   "execution_count": null,
   "metadata": {},
   "outputs": [],
   "source": []
  },
  {
   "cell_type": "code",
   "execution_count": 15,
   "metadata": {},
   "outputs": [
    {
     "name": "stdout",
     "output_type": "stream",
     "text": [
      "1\n",
      "8\n"
     ]
    }
   ],
   "source": [
    "# Tìm min, max của 1 ma trận con trong mảng 3 chiều\n",
    "print(np.amin(b[0]))\n",
    "print(np.amax(b[1]))"
   ]
  },
  {
   "cell_type": "code",
   "execution_count": null,
   "metadata": {},
   "outputs": [],
   "source": []
  }
 ],
 "metadata": {
  "kernelspec": {
   "display_name": "Python 3",
   "language": "python",
   "name": "python3"
  },
  "language_info": {
   "codemirror_mode": {
    "name": "ipython",
    "version": 3
   },
   "file_extension": ".py",
   "mimetype": "text/x-python",
   "name": "python",
   "nbconvert_exporter": "python",
   "pygments_lexer": "ipython3",
   "version": "3.6.8"
  }
 },
 "nbformat": 4,
 "nbformat_minor": 2
}
