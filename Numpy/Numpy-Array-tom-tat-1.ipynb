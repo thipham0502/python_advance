{
 "cells": [
  {
   "cell_type": "code",
   "execution_count": 1,
   "metadata": {},
   "outputs": [],
   "source": [
    "import numpy as np"
   ]
  },
  {
   "cell_type": "code",
   "execution_count": 2,
   "metadata": {},
   "outputs": [
    {
     "name": "stdout",
     "output_type": "stream",
     "text": [
      "[20 40 30 45 32]\n",
      "(5,)\n",
      "5\n",
      "[20 40 30 45 32 45 60]\n",
      "[20 25 27 40 30 45 32 45 60]\n",
      "[27 40 30 45 32 45 60]\n"
     ]
    }
   ],
   "source": [
    "# khoi tao 1\n",
    "a = np.array([20,40,30,45,32])\n",
    "print(a)\n",
    "print(a.shape)\n",
    "print(a.shape[0])\n",
    "# them\n",
    "a = np.append(a,[45,60])\n",
    "print(a)\n",
    "# chen\n",
    "a = np.insert(a,1,[25,27])\n",
    "print(a)\n",
    "# xoa\n",
    "a = np.delete(a,[0,1])\n",
    "print(a)"
   ]
  },
  {
   "cell_type": "code",
   "execution_count": 3,
   "metadata": {},
   "outputs": [
    {
     "name": "stdout",
     "output_type": "stream",
     "text": [
      "[ 0  1  2  3  4  5  6  7  8  9 10 11 12 13 14 15 16 17 18 19]\n",
      "[10 15 20 25 30 35 40 45 50 55 60 65 70 75 80 85 90 95]\n",
      "18\n"
     ]
    }
   ],
   "source": [
    "# khoi tao 2\n",
    "b = np.arange(20)\n",
    "print(b)\n",
    "b = np.arange(10,100,5)\n",
    "print(b)\n",
    "print(b.shape[0])"
   ]
  },
  {
   "cell_type": "code",
   "execution_count": 4,
   "metadata": {},
   "outputs": [
    {
     "name": "stdout",
     "output_type": "stream",
     "text": [
      "[42 39 21 34 31 34 22 21 37 26 23 36 29 34 37 21 39 40 45 32]\n",
      "20\n",
      "45\n",
      "21\n",
      "32.15\n",
      "34.0\n",
      "[21 21 21 22 23 26 29 31 32 34 34 34 36 37 37 39 39 40 42 45]\n",
      "[45 42 40 39 39 37 37 36 34 34 34 32 31 29 26 23 22 21 21 21]\n",
      "[42 39 37 36 37 39 40 45]\n",
      "[36 37 37 39 39 40 42 45]\n"
     ]
    }
   ],
   "source": [
    "# khoi tao 3\n",
    "import random\n",
    "lst = [random.randint(20,50) for i in range(20)]\n",
    "lst = np.random.randint(20,50,20)\n",
    "c = np.array(lst)\n",
    "print(c)\n",
    "print(c.shape[0])\n",
    "# tim max, min\n",
    "print(np.amax(c))\n",
    "print(np.amin(c))\n",
    "print(np.mean(c))\n",
    "mc = np.median(c)\n",
    "print(mc)\n",
    "# sap xep tang\n",
    "print(np.sort(c))\n",
    "# sap xep giam\n",
    "print(-np.sort(-c))\n",
    "#\n",
    "c = np.sort(c)\n",
    "c = c[::-1]\n",
    "# rut trich\n",
    "print(np.extract(c>mc,c))\n",
    "print(np.sort(np.extract(c>mc,c)))"
   ]
  },
  {
   "cell_type": "code",
   "execution_count": 5,
   "metadata": {},
   "outputs": [
    {
     "name": "stdout",
     "output_type": "stream",
     "text": [
      "[(10,) (20,) (30,)]\n",
      "<class 'numpy.ndarray'>\n",
      "[10 20 30]\n",
      "<class 'numpy.ndarray'>\n",
      "3\n",
      "(10,)\n",
      "10\n",
      "[ 10 100  30]\n"
     ]
    }
   ],
   "source": [
    "# khoi tao 4\n",
    "dt = np.dtype([('age','i8')])\n",
    "d = np.array([10,20,30],dtype=dt)\n",
    "print(d)\n",
    "print(type(d))\n",
    "print(d['age'])\n",
    "print(type(d['age']))\n",
    "print(d.shape[0])\n",
    "# tham chieu\n",
    "print(d[0])\n",
    "print(d['age'][0])\n",
    "d['age'][1]=100\n",
    "print(d['age'])"
   ]
  },
  {
   "cell_type": "code",
   "execution_count": null,
   "metadata": {},
   "outputs": [],
   "source": []
  }
 ],
 "metadata": {
  "kernelspec": {
   "display_name": "Python 3",
   "language": "python",
   "name": "python3"
  },
  "language_info": {
   "codemirror_mode": {
    "name": "ipython",
    "version": 3
   },
   "file_extension": ".py",
   "mimetype": "text/x-python",
   "name": "python",
   "nbconvert_exporter": "python",
   "pygments_lexer": "ipython3",
   "version": "3.7.3"
  }
 },
 "nbformat": 4,
 "nbformat_minor": 2
}
