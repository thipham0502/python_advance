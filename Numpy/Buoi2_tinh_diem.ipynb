{
 "cells": [
  {
   "cell_type": "code",
   "execution_count": 1,
   "metadata": {},
   "outputs": [
    {
     "name": "stdout",
     "output_type": "stream",
     "text": [
      "['Thanh Hoang' 'Lan Huong' 'Quoc Bao' 'Minh Tri' 'Kieu Chinh']\n",
      "[7.5 8.  9.5 4.5 6. ]\n"
     ]
    }
   ],
   "source": [
    "import numpy as np\n",
    "ten = np.array(['Thanh Hoang', 'Lan Huong', 'Quoc Bao', 'Minh Tri', 'Kieu Chinh'])\n",
    "diem = np.array([7.5,8.0,9.5,4.5,6.0])\n",
    "print(ten)\n",
    "print(diem)"
   ]
  },
  {
   "cell_type": "code",
   "execution_count": 2,
   "metadata": {},
   "outputs": [
    {
     "name": "stdout",
     "output_type": "stream",
     "text": [
      "Điểm lớn nhất: 9.5\n",
      "Điểm bé nhất: 4.5\n",
      "Điểm trung bình: 7.1\n"
     ]
    }
   ],
   "source": [
    "# Cho biết điểm lớn nhất, nhỏ nhất và DTB\n",
    "diem_max, diem_min, diemTB = np.amax(diem), np.amin(diem), np.mean(diem)\n",
    "print('Điểm lớn nhất:', diem_max)\n",
    "print('Điểm bé nhất:', diem_min)\n",
    "print('Điểm trung bình:', diemTB)"
   ]
  },
  {
   "cell_type": "code",
   "execution_count": 3,
   "metadata": {},
   "outputs": [
    {
     "name": "stdout",
     "output_type": "stream",
     "text": [
      "HS có điểm lớn nhất là ['Quoc Bao'], điểm = 9.50\n",
      "HS có điểm bé nhất là ['Minh Tri'], điểm = 4.50\n"
     ]
    }
   ],
   "source": [
    "# Cho biết tên hs có điểm lớn nhất\n",
    "index_diem_max = np.where(diem == diem_max)\n",
    "hs_diem_max = ten[index_diem_max]\n",
    "print('HS có điểm lớn nhất là %s, điểm = %.2f' %(hs_diem_max, diem_max))\n",
    "\n",
    "# Cho biết tên hs có điểm bé nhất\n",
    "index_diem_min = np.where(diem == diem_min)\n",
    "hs_diem_min = ten[index_diem_min]\n",
    "print('HS có điểm bé nhất là %s, điểm = %.2f' %(hs_diem_min, diem_min))"
   ]
  },
  {
   "cell_type": "code",
   "execution_count": 4,
   "metadata": {},
   "outputs": [
    {
     "name": "stdout",
     "output_type": "stream",
     "text": [
      "4\n"
     ]
    }
   ],
   "source": [
    "# Cho biết có bao nhiêu học sinh có điểm >= 5\n",
    "print(diem[diem >= 5].shape[0])"
   ]
  },
  {
   "cell_type": "code",
   "execution_count": 5,
   "metadata": {},
   "outputs": [
    {
     "name": "stdout",
     "output_type": "stream",
     "text": [
      "1\n"
     ]
    }
   ],
   "source": [
    "# Cho biết có bao nhiêu học sinh có điểm < 5\n",
    "print(diem[diem < 5].shape[0])"
   ]
  },
  {
   "cell_type": "code",
   "execution_count": 6,
   "metadata": {},
   "outputs": [
    {
     "name": "stdout",
     "output_type": "stream",
     "text": [
      "[7.5 8.  9.5]\n",
      "['Thanh Hoang' 'Lan Huong' 'Quoc Bao']\n"
     ]
    }
   ],
   "source": [
    "# Cho biết tên các học sinh có điểm > điểm TB\n",
    "indexes = np.where(diem > diemTB)\n",
    "print(diem[indexes])\n",
    "hs = ten[indexes]\n",
    "print(hs)"
   ]
  },
  {
   "cell_type": "code",
   "execution_count": null,
   "metadata": {},
   "outputs": [],
   "source": []
  }
 ],
 "metadata": {
  "kernelspec": {
   "display_name": "Python 3",
   "language": "python",
   "name": "python3"
  },
  "language_info": {
   "codemirror_mode": {
    "name": "ipython",
    "version": 3
   },
   "file_extension": ".py",
   "mimetype": "text/x-python",
   "name": "python",
   "nbconvert_exporter": "python",
   "pygments_lexer": "ipython3",
   "version": "3.6.8"
  }
 },
 "nbformat": 4,
 "nbformat_minor": 2
}
