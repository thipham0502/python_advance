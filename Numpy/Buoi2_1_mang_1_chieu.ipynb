{
 "cells": [
  {
   "cell_type": "code",
   "execution_count": 2,
   "metadata": {},
   "outputs": [],
   "source": [
    "import numpy as np\n",
    "\n",
    "# Khởi tạo mảng bằng arange\n",
    "a = np.arange(20)\n",
    "b = np.arange(10, 30, 5)"
   ]
  },
  {
   "cell_type": "code",
   "execution_count": 14,
   "metadata": {},
   "outputs": [
    {
     "name": "stdout",
     "output_type": "stream",
     "text": [
      "[26, 13, 29, 21, 21, 18, 22, 13, 15, 27, 10, 20, 17, 11, 23, 14, 21, 19, 25, 17]\n",
      "[26 13 29 21 21 18 22 13 15 27 10 20 17 11 23 14 21 19 25 17]\n"
     ]
    }
   ],
   "source": [
    "import random\n",
    "# Khởi tạo list 20 phần tử có giá trị ngẫu nhiên từ 10 tới 30\n",
    "lst = [random.randint(10, 30) for i in range(20)]\n",
    "print(lst)\n",
    "\n",
    "# Chuyển sang ndarray\n",
    "c = np.array(lst)\n",
    "print(c)"
   ]
  },
  {
   "cell_type": "code",
   "execution_count": 22,
   "metadata": {},
   "outputs": [
    {
     "name": "stdout",
     "output_type": "stream",
     "text": [
      "29\n",
      "10\n",
      "19.1\n",
      "19.5\n"
     ]
    }
   ],
   "source": [
    "# Tìm max, min\n",
    "print(np.amax(c))\n",
    "print(np.amin(c))\n",
    "print(np.mean(c))\n",
    "mc = np.median(c)\n",
    "print(mc)"
   ]
  },
  {
   "cell_type": "code",
   "execution_count": 17,
   "metadata": {},
   "outputs": [
    {
     "name": "stdout",
     "output_type": "stream",
     "text": [
      "[23 10 27]\n"
     ]
    }
   ],
   "source": [
    "# Khởi tạo mảng ndarray 3 phần tử ngẫu nhiên \n",
    "# trong khoảng từ 10 -> 30 bằng np.random.randint\n",
    "lst1 = np.random.randint(10, 30, 3)\n",
    "d = np.array(lst1)\n",
    "print(d)"
   ]
  },
  {
   "cell_type": "code",
   "execution_count": 5,
   "metadata": {},
   "outputs": [
    {
     "name": "stdout",
     "output_type": "stream",
     "text": [
      "[ 0  1  2  3  4  5  6  7  8  9 10 11 12 13 14 15 16 17 18 19]\n",
      "[19 18 17 16 15 14 13 12 11 10  9  8  7  6  5  4  3  2  1  0]\n"
     ]
    }
   ],
   "source": [
    "# Sort tăng dần\n",
    "a = np.sort(a)\n",
    "print(a)\n",
    "\n",
    "# Sort giảm dần\n",
    "a = a[::-1]\n",
    "print(a)"
   ]
  },
  {
   "cell_type": "code",
   "execution_count": 9,
   "metadata": {},
   "outputs": [
    {
     "name": "stdout",
     "output_type": "stream",
     "text": [
      "(array([10, 11, 12, 13, 14, 15, 16, 17, 18, 19], dtype=int64),)\n",
      "[9 8 7 6 5 4 3 2 1 0]\n"
     ]
    }
   ],
   "source": [
    "# Where (tìm index của các phần tử thỏa điều kiện)\n",
    "index = np.where(a < 10)\n",
    "print(index)\n",
    "print(a[index]) # Phan tu tai index do"
   ]
  },
  {
   "cell_type": "code",
   "execution_count": 10,
   "metadata": {},
   "outputs": [
    {
     "name": "stdout",
     "output_type": "stream",
     "text": [
      "[19 18 17 16]\n"
     ]
    }
   ],
   "source": [
    "# Extract (tìm các phần tử thỏa điều kiện)\n",
    "print(np.extract(a > 15, a))"
   ]
  },
  {
   "cell_type": "code",
   "execution_count": null,
   "metadata": {},
   "outputs": [],
   "source": []
  }
 ],
 "metadata": {
  "kernelspec": {
   "display_name": "Python 3",
   "language": "python",
   "name": "python3"
  },
  "language_info": {
   "codemirror_mode": {
    "name": "ipython",
    "version": 3
   },
   "file_extension": ".py",
   "mimetype": "text/x-python",
   "name": "python",
   "nbconvert_exporter": "python",
   "pygments_lexer": "ipython3",
   "version": "3.6.8"
  }
 },
 "nbformat": 4,
 "nbformat_minor": 2
}
