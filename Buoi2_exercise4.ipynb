{
 "cells": [
  {
   "cell_type": "code",
   "execution_count": 1,
   "metadata": {},
   "outputs": [],
   "source": [
    "import numpy as np"
   ]
  },
  {
   "cell_type": "code",
   "execution_count": 19,
   "metadata": {},
   "outputs": [
    {
     "name": "stdout",
     "output_type": "stream",
     "text": [
      "['GK' 'M' 'A' ... 'D' 'D' 'M']\n",
      "(8847,)\n"
     ]
    }
   ],
   "source": [
    "# Đọc file baseball_2D.txt\n",
    "f = open('DuLieu/positions.txt')\n",
    "data = f.read()\n",
    "f.close()\n",
    "# print(data)\n",
    "\n",
    "data = data.split(',')\n",
    "# print(data)\n",
    "data = [item.replace(\"'\", \"\").strip() for item in data]\n",
    "\n",
    "data_baseball = np.array(data)\n",
    "print(data_baseball)\n",
    "print(data_baseball.shape)"
   ]
  },
  {
   "cell_type": "code",
   "execution_count": null,
   "metadata": {},
   "outputs": [],
   "source": []
  }
 ],
 "metadata": {
  "kernelspec": {
   "display_name": "Python 3",
   "language": "python",
   "name": "python3"
  },
  "language_info": {
   "codemirror_mode": {
    "name": "ipython",
    "version": 3
   },
   "file_extension": ".py",
   "mimetype": "text/x-python",
   "name": "python",
   "nbconvert_exporter": "python",
   "pygments_lexer": "ipython3",
   "version": "3.6.8"
  }
 },
 "nbformat": 4,
 "nbformat_minor": 2
}
