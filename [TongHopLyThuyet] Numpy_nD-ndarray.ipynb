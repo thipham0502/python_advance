{
 "cells": [
  {
   "cell_type": "markdown",
   "metadata": {},
   "source": [
    "# Mảng nhiều chiều trong 'numpy'"
   ]
  },
  {
   "cell_type": "code",
   "execution_count": 1,
   "metadata": {},
   "outputs": [],
   "source": [
    "import numpy as np"
   ]
  },
  {
   "cell_type": "markdown",
   "metadata": {},
   "source": [
    "## 1. Khởi tạo mảng ndarray"
   ]
  },
  {
   "cell_type": "markdown",
   "metadata": {},
   "source": [
    "### a) Dùng np.array"
   ]
  },
  {
   "cell_type": "code",
   "execution_count": 2,
   "metadata": {},
   "outputs": [
    {
     "name": "stdout",
     "output_type": "stream",
     "text": [
      "[[1 2 3]\n",
      " [4 5 6]]\n",
      "[[[ 1  2  3]\n",
      "  [ 4  5  6]]\n",
      "\n",
      " [[ 7  8  9]\n",
      "  [10 11 12]]]\n"
     ]
    }
   ],
   "source": [
    "# Khởi tạo mảng 2 chiều từ list\n",
    "list_2D = [[1,2,3], [4,5,6]]\n",
    "arr_2D = np.array(list_2D)\n",
    "print(arr_2D)\n",
    "\n",
    "# Khởi tạo mảng 3 chiều từ list\n",
    "# (mảng 3 chiều chứa các mảng 2 chiều)\n",
    "list_3D = [[[1,2,3], [4,5,6]], [[7,8,9], [10,11,12]]]\n",
    "arr_3D = np.array(list_3D)\n",
    "print(arr_3D)"
   ]
  },
  {
   "cell_type": "markdown",
   "metadata": {},
   "source": [
    "### b) Dùng np.zeros / np.ones"
   ]
  },
  {
   "cell_type": "code",
   "execution_count": 3,
   "metadata": {},
   "outputs": [
    {
     "name": "stdout",
     "output_type": "stream",
     "text": [
      "[[0. 0. 0.]\n",
      " [0. 0. 0.]]\n",
      "[[[1. 1. 1. 1.]\n",
      "  [1. 1. 1. 1.]\n",
      "  [1. 1. 1. 1.]]\n",
      "\n",
      " [[1. 1. 1. 1.]\n",
      "  [1. 1. 1. 1.]\n",
      "  [1. 1. 1. 1.]]]\n"
     ]
    }
   ],
   "source": [
    "# Khởi tạo mảng 2 chiều 2x3, các giá trị đều là 0\n",
    "arr_zeros_2D = np.zeros([2,3])\n",
    "print(arr_zeros_2D)\n",
    "\n",
    "# Khởi tạo mảng 3 chiều gồm: 2 ma trận, mỗi ma trận 3x4, các giá trị đều là 1\n",
    "# (mảng 3 chiều chứa các mảng 2 chiều)\n",
    "arr_ones_3D = np.ones([2,3,4])\n",
    "print(arr_ones_3D)"
   ]
  },
  {
   "cell_type": "markdown",
   "metadata": {},
   "source": [
    "## 2. Tìm kích thước mảng"
   ]
  },
  {
   "cell_type": "code",
   "execution_count": 4,
   "metadata": {},
   "outputs": [
    {
     "name": "stdout",
     "output_type": "stream",
     "text": [
      "[[[ 1  2  3]\n",
      "  [ 4  5  6]]\n",
      "\n",
      " [[ 7  8  9]\n",
      "  [10 11 12]]]\n",
      "(2, 2, 3)\n"
     ]
    }
   ],
   "source": [
    "# Kích thước mảng -> dùng shape\n",
    "print(arr_3D)\n",
    "print(arr_3D.shape) # => trả về tuple (số dòng, số cột)"
   ]
  },
  {
   "cell_type": "markdown",
   "metadata": {},
   "source": [
    "## 3. Cập nhật giá trị của phần tử trong mảng"
   ]
  },
  {
   "cell_type": "code",
   "execution_count": 5,
   "metadata": {},
   "outputs": [
    {
     "name": "stdout",
     "output_type": "stream",
     "text": [
      "[[[  1   2   3]\n",
      "  [  4   5 100]]\n",
      "\n",
      " [[  7   8   9]\n",
      "  [ 10  11  12]]]\n"
     ]
    }
   ],
   "source": [
    "# Cập nhật giá trị phần tử trong mảng\n",
    "arr_3D[0][1][2] = 100\n",
    "print(arr_3D)"
   ]
  },
  {
   "cell_type": "markdown",
   "metadata": {},
   "source": [
    "## 4. Truy xuất phần tử trong mảng"
   ]
  },
  {
   "cell_type": "code",
   "execution_count": 6,
   "metadata": {},
   "outputs": [
    {
     "name": "stdout",
     "output_type": "stream",
     "text": [
      "[8 9]\n"
     ]
    }
   ],
   "source": [
    "# Truy xuất ma trận index = 1, dòng thứ 0, phần tử từ index = 1 đến hết\n",
    "print(arr_3D[1][0][1:])"
   ]
  },
  {
   "cell_type": "markdown",
   "metadata": {},
   "source": [
    "## 5. Thay đổi kích thước (chiều)"
   ]
  },
  {
   "cell_type": "code",
   "execution_count": 7,
   "metadata": {},
   "outputs": [
    {
     "name": "stdout",
     "output_type": "stream",
     "text": [
      "[[ 0  1  2]\n",
      " [ 3  4  5]\n",
      " [ 6  7  8]\n",
      " [ 9 10 11]]\n",
      "[[ 0  1  2  3  4  5]\n",
      " [ 6  7  8  9 10 11]]\n",
      "[[[ 0  1]\n",
      "  [ 2  3]\n",
      "  [ 4  5]]\n",
      "\n",
      " [[ 6  7]\n",
      "  [ 8  9]\n",
      "  [10 11]]]\n"
     ]
    }
   ],
   "source": [
    "# Cách 1: dùng arr.shape = (kích thước mới)\n",
    "a = np.arange(12) # mảng 2 chiều 1x12\n",
    "a.shape = (4,3) # -> mảng 2 chiều 4x3\n",
    "print(a)\n",
    "\n",
    "# Cách 2: dùng arr.reshape(kích thước mới)\n",
    "a = np.arange(12) # mảng 2 chiều 1x12\n",
    "a = a.reshape(2,6) # -> mảng 2 chiều 2x6\n",
    "print(a)\n",
    "\n",
    "a = a.reshape(2,3,2) # -> mảng 3 chiều 2 ma trận 3x2\n",
    "print(a)"
   ]
  },
  {
   "cell_type": "markdown",
   "metadata": {},
   "source": [
    "## 6. Tạo mảng con"
   ]
  },
  {
   "cell_type": "code",
   "execution_count": 8,
   "metadata": {},
   "outputs": [
    {
     "name": "stdout",
     "output_type": "stream",
     "text": [
      "b:\n",
      " [[[ 0  1  2  3  4]\n",
      "  [ 5  6  7  8  9]]\n",
      "\n",
      " [[10 11 12 13 14]\n",
      "  [15 16 17 18 19]]\n",
      "\n",
      " [[20 21 22 23 24]\n",
      "  [25 26 27 28 29]]]\n",
      "\n",
      "b_1:\n",
      " [[[10 11 12 13 14]\n",
      "  [15 16 17 18 19]]\n",
      "\n",
      " [[20 21 22 23 24]\n",
      "  [25 26 27 28 29]]]\n",
      "\n",
      "b_cot_2:\n",
      " [[ 2  7]\n",
      " [12 17]\n",
      " [22 27]]\n",
      "\n",
      "b_mt_1_cot_3:\n",
      " [13 18]\n",
      "\n",
      "b_dong_0:\n",
      " [[ 0  1  2  3  4]\n",
      " [10 11 12 13 14]\n",
      " [20 21 22 23 24]]\n",
      "\n",
      "b_mt_2_dong_1:\n",
      " [25 26 27 28 29]\n",
      "\n",
      "b_16:\n",
      " 16\n",
      "\n"
     ]
    }
   ],
   "source": [
    "b = np.arange(30).reshape(3,2,5) # -> mảng 3 chiều 3 ma trận 2x5\n",
    "print('b:\\n', b)\n",
    "print()\n",
    "\n",
    "# Cú pháp: arr[ma_trận, dòng, cột]\n",
    "\n",
    "# Lấy ma trận index = 1 đến hết\n",
    "b_1 = b[1:]\n",
    "print('b_1:\\n', b_1)\n",
    "print()\n",
    "\n",
    "# Lấy các cột có index = 2 của b\n",
    "## lấy tất cả ma trận -> dùng '0:', lấy tất cả các dòng -> dùng '...'\n",
    "b_cot_2 = b[0:,...,2]\n",
    "print('b_cot_2:\\n', b_cot_2)\n",
    "print()\n",
    "\n",
    "# Lấy cột có index = 3 của ma trận index = 1 trong b\n",
    "## lấy tất cả các dòng -> dùng '...'\n",
    "b_mt_1_cot_3 = b[1,...,3]\n",
    "print('b_mt_1_cot_3:\\n', b_mt_1_cot_3)\n",
    "print()\n",
    "\n",
    "# Lấy các dòng có index = 0 của b\n",
    "## lấy tất cả ma trận -> dùng '0:', lấy tất cả các cột -> dùng '...'\n",
    "b_dong_0 = b[0:,0,...]\n",
    "print('b_dong_0:\\n', b_dong_0)\n",
    "print()\n",
    "\n",
    "# Lấy dòng có index = 1 của ma trận index = 2 trong b\n",
    "## lấy tất cả các cột -> dùng '...'\n",
    "b_mt_2_dong_1 = b[2,1,...]\n",
    "print('b_mt_2_dong_1:\\n', b_mt_2_dong_1)\n",
    "print()\n",
    "\n",
    "# Lấy giá trị 16 trong b\n",
    "## index: ma trận 1, dòng = 1, cột 1\n",
    "b_16 = b[1,1,1]\n",
    "print('b_16:\\n', b_16)\n",
    "print()"
   ]
  },
  {
   "cell_type": "markdown",
   "metadata": {},
   "source": [
    "## 7. Tính toán số học trên mảng"
   ]
  },
  {
   "cell_type": "code",
   "execution_count": 9,
   "metadata": {},
   "outputs": [
    {
     "name": "stdout",
     "output_type": "stream",
     "text": [
      "[[[130 132 134]\n",
      "  [136 138 140]\n",
      "  [142 144 146]\n",
      "  [148 150 152]\n",
      "  [154 156 158]]\n",
      "\n",
      " [[160 162 164]\n",
      "  [166 168 170]\n",
      "  [172 174 176]\n",
      "  [178 180 182]\n",
      "  [184 186 188]]]\n",
      "[[[-130 -130 -130]\n",
      "  [-130 -130 -130]\n",
      "  [-130 -130 -130]\n",
      "  [-130 -130 -130]\n",
      "  [-130 -130 -130]]\n",
      "\n",
      " [[-130 -130 -130]\n",
      "  [-130 -130 -130]\n",
      "  [-130 -130 -130]\n",
      "  [-130 -130 -130]\n",
      "  [-130 -130 -130]]]\n",
      "[[[   0  131  264]\n",
      "  [ 399  536  675]\n",
      "  [ 816  959 1104]\n",
      "  [1251 1400 1551]\n",
      "  [1704 1859 2016]]\n",
      "\n",
      " [[2175 2336 2499]\n",
      "  [2664 2831 3000]\n",
      "  [3171 3344 3519]\n",
      "  [3696 3875 4056]\n",
      "  [4239 4424 4611]]]\n",
      "[[[0.         0.00763359 0.01515152]\n",
      "  [0.02255639 0.02985075 0.03703704]\n",
      "  [0.04411765 0.05109489 0.05797101]\n",
      "  [0.0647482  0.07142857 0.07801418]\n",
      "  [0.08450704 0.09090909 0.09722222]]\n",
      "\n",
      " [[0.10344828 0.10958904 0.11564626]\n",
      "  [0.12162162 0.12751678 0.13333333]\n",
      "  [0.13907285 0.14473684 0.1503268 ]\n",
      "  [0.15584416 0.16129032 0.16666667]\n",
      "  [0.17197452 0.17721519 0.18238994]]]\n"
     ]
    }
   ],
   "source": [
    "# 2 mảng phải giống số chiều\n",
    "c = np.arange(30).reshape(2,5,3)\n",
    "d = np.arange(130,160,1).reshape(2,5,3)\n",
    "\n",
    "print(c+d)\n",
    "print(c-d)\n",
    "print(c*d)\n",
    "print(c/d)"
   ]
  },
  {
   "cell_type": "markdown",
   "metadata": {},
   "source": [
    "## 8. Tính toán thống kê trên mảng"
   ]
  },
  {
   "cell_type": "markdown",
   "metadata": {},
   "source": [
    "### a) Tìm min, max"
   ]
  },
  {
   "cell_type": "code",
   "execution_count": 10,
   "metadata": {},
   "outputs": [
    {
     "name": "stdout",
     "output_type": "stream",
     "text": [
      "[[ 31  22  43  64   5]\n",
      " [ 16  27   8  59 130]\n",
      " [ 11  52  23   4  15]]\n",
      "4\n",
      "130\n",
      "Max theo dòng trong từng ma trận con:\n",
      " [ 64 130  52]\n",
      "Min theo dòng trong từng ma trận con:\n",
      " [5 8 4]\n",
      "Max theo cột trong từng ma trận con:\n",
      " [ 31  52  43  64 130]\n",
      "Min theo cột trong từng ma trận con:\n",
      " [11 22  8  4  5]\n"
     ]
    }
   ],
   "source": [
    "e = np.array([[31,22,43,64,5],[16,27,8,59,130],[11,52,23,4,15]])\n",
    "print(e)\n",
    "\n",
    "# Tìm min, max trên toàn mảng\n",
    "print(np.amin(e))\n",
    "print(np.amax(e))\n",
    "\n",
    "# Tìm min, max theo dòng trong từng ma trận con (axis = 1)\n",
    "print('Max theo dòng trong từng ma trận con:\\n', np.amax(e, axis=1))\n",
    "print('Min theo dòng trong từng ma trận con:\\n', np.amin(e, axis=1))\n",
    "\n",
    "# Tìm min, max theo cột trong từng ma trận con (axis = 0)\n",
    "print('Max theo cột trong từng ma trận con:\\n', np.amax(e, axis=0))\n",
    "print('Min theo cột trong từng ma trận con:\\n', np.amin(e, axis=0))"
   ]
  },
  {
   "cell_type": "markdown",
   "metadata": {},
   "source": [
    "### b) Tìm trung bình cộng (mean)"
   ]
  },
  {
   "cell_type": "code",
   "execution_count": 11,
   "metadata": {},
   "outputs": [
    {
     "name": "stdout",
     "output_type": "stream",
     "text": [
      "34.0\n",
      "[33. 48. 21.]\n",
      "[19.33333333 33.66666667 24.66666667 42.33333333 50.        ]\n"
     ]
    }
   ],
   "source": [
    "# Trên toàn mảng\n",
    "print(np.mean(e))\n",
    "\n",
    "# Trên dòng (axis = 1)\n",
    "print(np.mean(e, axis=1))\n",
    "\n",
    "# Trên cột (axis = 0)\n",
    "print(np.mean(e, axis=0))"
   ]
  },
  {
   "cell_type": "markdown",
   "metadata": {},
   "source": [
    "### c) Tìm trung bình giữa/trung vị (median)"
   ]
  },
  {
   "cell_type": "code",
   "execution_count": 12,
   "metadata": {},
   "outputs": [
    {
     "name": "stdout",
     "output_type": "stream",
     "text": [
      "23.0\n",
      "[31. 27. 15.]\n",
      "[16. 27. 23. 59. 15.]\n"
     ]
    }
   ],
   "source": [
    "# Trên toàn mảng\n",
    "print(np.median(e))\n",
    "\n",
    "# Trên dòng (axis = 1)\n",
    "print(np.median(e, axis=1))\n",
    "\n",
    "# Trên cột (axis = 0)\n",
    "print(np.median(e, axis=0))"
   ]
  },
  {
   "cell_type": "markdown",
   "metadata": {},
   "source": [
    "### d) Tìm độ lệch chuẩn"
   ]
  },
  {
   "cell_type": "code",
   "execution_count": 13,
   "metadata": {},
   "outputs": [
    {
     "name": "stdout",
     "output_type": "stream",
     "text": [
      "31.728010758108784\n",
      "[19.84943324 44.51965858 16.673332  ]\n",
      "[ 8.49836586 13.12334646 14.33720878 27.18251072 56.71566509]\n"
     ]
    }
   ],
   "source": [
    "# Trên toàn mảng\n",
    "print(np.std(e))\n",
    "\n",
    "# Trên dòng (axis = 1)\n",
    "print(np.std(e, axis=1))\n",
    "\n",
    "# Trên cột (axis = 0)\n",
    "print(np.std(e, axis=0))"
   ]
  },
  {
   "cell_type": "markdown",
   "metadata": {},
   "source": [
    "## 9. Sắp xếp mảng"
   ]
  },
  {
   "cell_type": "code",
   "execution_count": 18,
   "metadata": {},
   "outputs": [
    {
     "name": "stdout",
     "output_type": "stream",
     "text": [
      "[[ 13  14  20  52  95]\n",
      " [  9  10  27  80 116]\n",
      " [-31   2  24  47  55]]\n",
      "[[ 13   2 -31   9  10]\n",
      " [ 24  20  52  14  55]\n",
      " [116  27  80  47  95]]\n",
      "[[ 95  52  20  14  13]\n",
      " [116  80  27  10   9]\n",
      " [ 55  47  24   2 -31]]\n",
      "[[ 95  52  20  14  13]\n",
      " [116  80  27  10   9]\n",
      " [ 55  47  24   2 -31]]\n",
      "[[116  27  80  47  95]\n",
      " [ 24  20  52  14  55]\n",
      " [ 13   2 -31   9  10]]\n"
     ]
    }
   ],
   "source": [
    "# Sắp xếp tăng dần -> dùng np.sort(arr)\n",
    "f = np.array([[13,20,52,14,95],[116,27,80,9,10],[24,2,-31,47,55]])\n",
    "f = np.sort(f)\n",
    "# print(f)\n",
    "\n",
    "# Sắp xếp tăng dần theo dòng (axis = 1)\n",
    "f = np.array([[13,20,52,14,95],[116,27,80,9,10],[24,2,-31,47,55]])\n",
    "f = np.sort(f, axis = 1)\n",
    "print(f)\n",
    "\n",
    "# Sắp xếp tăng dần theo cột (axis = 0)\n",
    "f = np.array([[13,20,52,14,95],[116,27,80,9,10],[24,2,-31,47,55]])\n",
    "f = np.sort(f, axis = 0)\n",
    "print(f)\n",
    "\n",
    "# Sắp xếp giảm dần -> dùng dấu '-'\n",
    "f = np.array([[13,20,52,14,95],[116,27,80,9,10],[24,2,-31,47,55]])\n",
    "f = -np.sort(-f)\n",
    "print(f)\n",
    "\n",
    "# Sắp xếp giảm dần theo dòng (axis = 1)\n",
    "f = np.array([[13,20,52,14,95],[116,27,80,9,10],[24,2,-31,47,55]])\n",
    "f = -np.sort(-f, axis = 1)\n",
    "print(f)\n",
    "\n",
    "# Sắp xếp giảm dần theo cột (axis = 0)\n",
    "f = np.array([[13,20,52,14,95],[116,27,80,9,10],[24,2,-31,47,55]])\n",
    "f = -np.sort(-f, axis = 0)\n",
    "print(f)"
   ]
  },
  {
   "cell_type": "markdown",
   "metadata": {},
   "source": [
    "## 10. Tìm vị trí của các phần tử thỏa điều kiện"
   ]
  },
  {
   "cell_type": "code",
   "execution_count": 26,
   "metadata": {},
   "outputs": [
    {
     "name": "stdout",
     "output_type": "stream",
     "text": [
      "(array([0, 0, 0, 1, 1, 2], dtype=int64), array([1, 2, 3, 0, 2, 0], dtype=int64))\n",
      "[ 20  52  14 116  80  24]\n"
     ]
    }
   ],
   "source": [
    "g = np.array([[13,20,52,14,95],[116,27,80,9,10],[24,2,-31,47,55]])\n",
    "\n",
    "# Tìm vị trí (index) những phần tử chẵn lớn hơn 10 trong mảng g\n",
    "# -> dùng np.where(điều_kiện)\n",
    "dieu_kien_1 = (g % 2 == 0) & (g > 10)\n",
    "indexes = np.where(dieu_kien_1)\n",
    "print(indexes)\n",
    "print(g[indexes]) # Đưa index vào để lấy ra giá trị"
   ]
  },
  {
   "cell_type": "markdown",
   "metadata": {},
   "source": [
    "## 11. Lấy ra các phần tử thỏa điều kiện"
   ]
  },
  {
   "cell_type": "code",
   "execution_count": 29,
   "metadata": {},
   "outputs": [
    {
     "name": "stdout",
     "output_type": "stream",
     "text": [
      "[-95 -27 -31]\n"
     ]
    }
   ],
   "source": [
    "g = np.array([[13,20,52,14,-95],[116,-27,-80,9,10],[24,2,-31,47,55]])\n",
    "\n",
    "# Rút trích những phần tử lẻ và < 0\n",
    "# -> dùng np.extract(điều_kiện, arr)\n",
    "dieu_kien_2 = (g % 2 != 0) & (g < 0)\n",
    "g_1 = np.extract(dieu_kien_2, g)\n",
    "print(g_1)"
   ]
  },
  {
   "cell_type": "markdown",
   "metadata": {},
   "source": [
    "## 12. Kiểm tra trong mảng có giá trị NaN không"
   ]
  },
  {
   "cell_type": "code",
   "execution_count": 33,
   "metadata": {},
   "outputs": [
    {
     "name": "stdout",
     "output_type": "stream",
     "text": [
      "[[False False  True]\n",
      " [ True False  True]]\n",
      "True\n",
      "False\n",
      "False\n",
      "False\n",
      "True\n"
     ]
    }
   ],
   "source": [
    "e = np.array([2,4,np.NaN,np.NaN,22,np.NaN]).reshape(2,3)\n",
    "f = np.array([2,4,5,8,44,6]).reshape(2,3)\n",
    "g = np.array([np.NaN,np.NaN,np.NaN,np.NaN,np.NaN,np.NaN]).reshape(2,3)\n",
    "\n",
    "# Trả về 1 mảng tương đương với mảng cần kiểm tra, nhưng giá trị nào là NaN thì trở thành True, ngược lại là False \n",
    "# -> dùng hàm np.isnan(arr)\n",
    "print(np.isnan(e))\n",
    "\n",
    "# Trả về True nếu có ít nhất 1 giá trị NaN trong mảng, ngược lại trả vè False\n",
    "# -> dùng np.isnan(arr).any()\n",
    "print(np.isnan(e).any())\n",
    "print(np.isnan(f).any())\n",
    "\n",
    "# Trả về True nếu tất cả đều là NaN, ngược lại trả vè False\n",
    "# -> dùng np.isnan(arr).all()\n",
    "print(np.isnan(e).all())\n",
    "print(np.isnan(f).all())\n",
    "print(np.isnan(g).all())"
   ]
  },
  {
   "cell_type": "markdown",
   "metadata": {},
   "source": [
    "## 13. Thay các giá trị NaN bằng 0"
   ]
  },
  {
   "cell_type": "code",
   "execution_count": 34,
   "metadata": {},
   "outputs": [
    {
     "name": "stdout",
     "output_type": "stream",
     "text": [
      "[ 2.  4.  0.  0. 22. 11.  0.]\n"
     ]
    }
   ],
   "source": [
    "e = np.array([2,4,np.NaN,np.NaN,22,11,np.NaN])\n",
    "e[np.isnan(e)] = 0\n",
    "print(e)"
   ]
  },
  {
   "cell_type": "code",
   "execution_count": null,
   "metadata": {},
   "outputs": [],
   "source": []
  }
 ],
 "metadata": {
  "kernelspec": {
   "display_name": "Python 3",
   "language": "python",
   "name": "python3"
  },
  "language_info": {
   "codemirror_mode": {
    "name": "ipython",
    "version": 3
   },
   "file_extension": ".py",
   "mimetype": "text/x-python",
   "name": "python",
   "nbconvert_exporter": "python",
   "pygments_lexer": "ipython3",
   "version": "3.7.3"
  }
 },
 "nbformat": 4,
 "nbformat_minor": 2
}
