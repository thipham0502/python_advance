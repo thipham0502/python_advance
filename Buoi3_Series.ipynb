{
 "cells": [
  {
   "cell_type": "code",
   "execution_count": 3,
   "metadata": {},
   "outputs": [],
   "source": [
    "# Series\n",
    "\n",
    "import numpy as np\n",
    "import pandas as pd"
   ]
  },
  {
   "cell_type": "code",
   "execution_count": null,
   "metadata": {},
   "outputs": [],
   "source": [
    "# Create series from array\n",
    "### Auto index\n",
    "animals = pd.Series(['cat', 'dog', 'mouse', 'duck', 'tiger', 'lion'])\n",
    "print(animals.shape)\n",
    "print(animals)\n",
    "print(animals[4])\n",
    "\n",
    "### Index created by user\n",
    "##### Number index\n",
    "my_index = np.array([20,21,22,23,24])\n",
    "colors = pd.Series(['red', 'green', 'blue', 'yellow', 'pink'], index = my_index)\n",
    "print(colors)\n",
    "print(colors[22])\n",
    "\n",
    "##### String index\n",
    "my_index = np.array(['r','g','b','y','p'])\n",
    "\n",
    "colors = pd.Series(['red', 'green', 'blue', 'yellow', 'pink'], index = my_index)\n",
    "print(colors)\n",
    "print(colors['p'])"
   ]
  },
  {
   "cell_type": "code",
   "execution_count": null,
   "metadata": {},
   "outputs": [],
   "source": [
    "# Create series from dictionary\n",
    "fruits_dict = {'apple': 'Tao', 'orange': 'Cam', 'pear': 'Le'}\n",
    "fruits = pd.Series(fruits_dict)\n",
    "print(fruits)"
   ]
  },
  {
   "cell_type": "code",
   "execution_count": 6,
   "metadata": {},
   "outputs": [
    {
     "name": "stdout",
     "output_type": "stream",
     "text": [
      "0      0\n",
      "1      1\n",
      "2      2\n",
      "3      3\n",
      "4      4\n",
      "5      5\n",
      "6      6\n",
      "7      7\n",
      "8      8\n",
      "9      9\n",
      "10    10\n",
      "11    11\n",
      "12    12\n",
      "13    13\n",
      "14    14\n",
      "15    15\n",
      "16    16\n",
      "17    17\n",
      "18    18\n",
      "19    19\n",
      "dtype: int32\n"
     ]
    }
   ],
   "source": [
    "# Create series from 0 -> 19\n",
    "x = pd.Series(np.arange(20))\n",
    "print(x)"
   ]
  },
  {
   "cell_type": "code",
   "execution_count": 7,
   "metadata": {},
   "outputs": [
    {
     "name": "stdout",
     "output_type": "stream",
     "text": [
      "201    1\n",
      "202    2\n",
      "203    3\n",
      "dtype: int32\n"
     ]
    }
   ],
   "source": [
    "# Create series from 0 -> 19 and index starts from 200\n",
    "my_array = np.arange(20)\n",
    "x = pd.Series(my_array, index=np.arange(200,200+len(my_array),1))\n",
    "print(x[[201,202,203]])"
   ]
  },
  {
   "cell_type": "code",
   "execution_count": null,
   "metadata": {},
   "outputs": [],
   "source": [
    "# Update all elements in series x: map (lambda)\n",
    "x = x.map(lambda i: i ** 2)\n",
    "print(x)"
   ]
  },
  {
   "cell_type": "code",
   "execution_count": null,
   "metadata": {},
   "outputs": [],
   "source": [
    "# Append new element: set new index\n",
    "x[0] = 1000\n",
    "print(x)"
   ]
  },
  {
   "cell_type": "code",
   "execution_count": null,
   "metadata": {},
   "outputs": [],
   "source": [
    "# Update 1 element:\n",
    "x[201] = 500\n",
    "print(x)"
   ]
  },
  {
   "cell_type": "code",
   "execution_count": 8,
   "metadata": {},
   "outputs": [
    {
     "name": "stdout",
     "output_type": "stream",
     "text": [
      "[Int64Index([200, 201, 202, 203, 204, 205, 206, 207, 208, 209, 210, 211, 212,\n",
      "            213, 214, 215, 216, 217, 218, 219],\n",
      "           dtype='int64')]\n"
     ]
    }
   ],
   "source": [
    "# Get row aixs label (get all indexes)\n",
    "print(x.axes)"
   ]
  },
  {
   "cell_type": "code",
   "execution_count": 10,
   "metadata": {},
   "outputs": [
    {
     "name": "stdout",
     "output_type": "stream",
     "text": [
      "1\n"
     ]
    }
   ],
   "source": [
    "# Dimension\n",
    "print(x.ndim)"
   ]
  },
  {
   "cell_type": "code",
   "execution_count": 11,
   "metadata": {},
   "outputs": [
    {
     "name": "stdout",
     "output_type": "stream",
     "text": [
      "20\n"
     ]
    }
   ],
   "source": [
    "# Size\n",
    "print(x.size)"
   ]
  },
  {
   "cell_type": "code",
   "execution_count": 13,
   "metadata": {},
   "outputs": [
    {
     "name": "stdout",
     "output_type": "stream",
     "text": [
      "[ 0  1  2  3  4  5  6  7  8  9 10 11 12 13 14 15 16 17 18 19]\n"
     ]
    }
   ],
   "source": [
    "# List of values\n",
    "print(x.values)"
   ]
  },
  {
   "cell_type": "code",
   "execution_count": 16,
   "metadata": {},
   "outputs": [
    {
     "name": "stdout",
     "output_type": "stream",
     "text": [
      "200    0\n",
      "201    1\n",
      "202    2\n",
      "dtype: int32\n",
      "217    17\n",
      "218    18\n",
      "219    19\n",
      "dtype: int32\n"
     ]
    }
   ],
   "source": [
    "# Get 3 first rows\n",
    "print(x.head(3))\n",
    "\n",
    "# Get 6 last rows\n",
    "print(x.tail(3))"
   ]
  },
  {
   "cell_type": "code",
   "execution_count": 20,
   "metadata": {},
   "outputs": [
    {
     "name": "stdout",
     "output_type": "stream",
     "text": [
      "201     1\n",
      "203     3\n",
      "204     4\n",
      "205     5\n",
      "206     6\n",
      "207     7\n",
      "208     8\n",
      "209     9\n",
      "210    10\n",
      "211    11\n",
      "212    12\n",
      "213    13\n",
      "214    14\n",
      "215    15\n",
      "216    16\n",
      "217    17\n",
      "218    18\n",
      "219    19\n",
      "dtype: int32\n",
      "201     1\n",
      "202     2\n",
      "203     3\n",
      "204     4\n",
      "205     5\n",
      "206     6\n",
      "207     7\n",
      "208     8\n",
      "209     9\n",
      "211    11\n",
      "212    12\n",
      "213    13\n",
      "214    14\n",
      "215    15\n",
      "216    16\n",
      "217    17\n",
      "218    18\n",
      "219    19\n",
      "dtype: int32\n"
     ]
    }
   ],
   "source": [
    "# Drop element by index\n",
    "x1 = x.drop([200, 202])\n",
    "print(x1)\n",
    "\n",
    "# Drop element by index of element 0, 10\n",
    "x2 = x.drop(x.index[[0,10]])\n",
    "print(x2)"
   ]
  },
  {
   "cell_type": "code",
   "execution_count": 27,
   "metadata": {},
   "outputs": [
    {
     "name": "stdout",
     "output_type": "stream",
     "text": [
      "100    5\n",
      "101    7\n",
      "102    9\n",
      "dtype: int64\n"
     ]
    }
   ],
   "source": [
    "# Sum 2 series (same index)\n",
    "a = pd.Series([1,2,3],index=[100,101,102])\n",
    "b = pd.Series([4,5,6],index=[100,101,102])\n",
    "\n",
    "c = a + b\n",
    "print(c)"
   ]
  },
  {
   "cell_type": "code",
   "execution_count": 26,
   "metadata": {},
   "outputs": [
    {
     "name": "stdout",
     "output_type": "stream",
     "text": [
      "100    1\n",
      "101    2\n",
      "102    3\n",
      "103    4\n",
      "104    5\n",
      "105    6\n",
      "dtype: int64\n"
     ]
    }
   ],
   "source": [
    "# Append 2 series (different index)\n",
    "a = pd.Series([1,2,3],index=[100,101,102])\n",
    "b = pd.Series([4,5,6],index=[103,104,105])\n",
    "a = a.append(b)\n",
    "print(a)"
   ]
  },
  {
   "cell_type": "code",
   "execution_count": 28,
   "metadata": {},
   "outputs": [
    {
     "name": "stdout",
     "output_type": "stream",
     "text": [
      "200     0\n",
      "201     5\n",
      "202    10\n",
      "203    15\n",
      "204    20\n",
      "205    25\n",
      "206    30\n",
      "207    35\n",
      "208    40\n",
      "209    45\n",
      "210    50\n",
      "211    55\n",
      "212    60\n",
      "213    65\n",
      "214    70\n",
      "215    75\n",
      "216    80\n",
      "217    85\n",
      "218    90\n",
      "219    95\n",
      "dtype: int64\n"
     ]
    }
   ],
   "source": [
    "# Create new series from series x: map (lambda)\n",
    "x_new = x.map(lambda i: i * 5)\n",
    "print(x_new)"
   ]
  },
  {
   "cell_type": "code",
   "execution_count": 44,
   "metadata": {},
   "outputs": [
    {
     "name": "stdout",
     "output_type": "stream",
     "text": [
      "5\n",
      "1\n",
      "5.6\n",
      "6.0\n",
      "0    2.0\n",
      "dtype: float64\n",
      "0     6.0\n",
      "1     8.0\n",
      "2    10.0\n",
      "3    18.0\n",
      "4    28.0\n",
      "5     NaN\n",
      "dtype: float64\n",
      "0       6.0\n",
      "1      12.0\n",
      "2      24.0\n",
      "3     192.0\n",
      "4    1920.0\n",
      "5       NaN\n",
      "dtype: float64\n"
     ]
    }
   ],
   "source": [
    "# Statistic calculation\n",
    "s = pd.Series([6,2,2,8,10,np.NaN])\n",
    "\n",
    "### count(): đếm số p.tử khác null\n",
    "print(s.count())\n",
    "\n",
    "### count(): đếm số p.tử là null\n",
    "print(s.size - s.count())\n",
    "\n",
    "### mean()\n",
    "print(s.mean())\n",
    "\n",
    "### median()\n",
    "print(s.median())\n",
    "\n",
    "### mode(): Tần suất xuất hiện nhiều nhất\n",
    "print(s.mode())\n",
    "\n",
    "### cumsum(): tổng tích lũy qua từng phần tử\n",
    "print(s.cumsum())\n",
    "\n",
    "### cumprod(): nhân tích lũy qua từng phần tử\n",
    "print(s.cumprod())"
   ]
  },
  {
   "cell_type": "code",
   "execution_count": 54,
   "metadata": {},
   "outputs": [
    {
     "name": "stdout",
     "output_type": "stream",
     "text": [
      "count     6.000000\n",
      "mean     25.500000\n",
      "std      12.755391\n",
      "min      12.000000\n",
      "25%      19.500000\n",
      "50%      21.000000\n",
      "75%      29.250000\n",
      "max      48.000000\n",
      "dtype: float64\n",
      "19.5\n",
      "21.0\n",
      "29.25\n"
     ]
    }
   ],
   "source": [
    "# Thống kê chung\n",
    "s1 = pd.Series([21,12,19,48,21,32])\n",
    "# -> 12,19,21,21,32\n",
    "print(s1.describe())\n",
    "\n",
    "# Cách tính 25%, 50%, 75% trong describe()\n",
    "n_25 = 0.25*(len(s1)-1) \n",
    "# n_25 = 1.25 -> s1[1], s1[2] -> (19,21)\n",
    "# print(n_25)\n",
    "\n",
    "median_25percent = 19 + (21-19)*0.25\n",
    "print(median_25percent)\n",
    "\n",
    "n_50 = 0.5*(len(s1)-1) \n",
    "# n_50 = 2.5 -> -> s1[2], s1[3] -> (21,21)\n",
    "# print(n_50)\n",
    "\n",
    "median_50percent = 21 + (21-21)*0.5\n",
    "print(median_50percent)\n",
    "\n",
    "n_75 = 0.75*(len(s1)-1) \n",
    "# n_75 = 3.75 -> s1[3], s1[4] -> (21,32)\n",
    "# print(n_75)\n",
    "\n",
    "median_75percent = 21 + (32-21)*0.75\n",
    "print(median_75percent)"
   ]
  },
  {
   "cell_type": "code",
   "execution_count": null,
   "metadata": {},
   "outputs": [],
   "source": []
  },
  {
   "cell_type": "code",
   "execution_count": null,
   "metadata": {},
   "outputs": [],
   "source": []
  }
 ],
 "metadata": {
  "kernelspec": {
   "display_name": "Python 3",
   "language": "python",
   "name": "python3"
  },
  "language_info": {
   "codemirror_mode": {
    "name": "ipython",
    "version": 3
   },
   "file_extension": ".py",
   "mimetype": "text/x-python",
   "name": "python",
   "nbconvert_exporter": "python",
   "pygments_lexer": "ipython3",
   "version": "3.6.8"
  }
 },
 "nbformat": 4,
 "nbformat_minor": 2
}
