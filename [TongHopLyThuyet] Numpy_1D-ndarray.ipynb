{
 "cells": [
  {
   "cell_type": "markdown",
   "metadata": {},
   "source": [
    "# Mảng 1 chiều trong 'numpy'"
   ]
  },
  {
   "cell_type": "code",
   "execution_count": 2,
   "metadata": {},
   "outputs": [],
   "source": [
    "import numpy as np"
   ]
  },
  {
   "cell_type": "markdown",
   "metadata": {},
   "source": [
    "## 1. Khởi tạo mảng ndarray"
   ]
  },
  {
   "cell_type": "markdown",
   "metadata": {},
   "source": [
    "### a) Dùng np.array"
   ]
  },
  {
   "cell_type": "code",
   "execution_count": 2,
   "metadata": {},
   "outputs": [
    {
     "name": "stdout",
     "output_type": "stream",
     "text": [
      "[1 2 3 4 5 6]\n",
      "[1.+0.j 2.+0.j 3.+0.j 4.+0.j 5.+0.j 6.+0.j]\n",
      "[1. 2. 3. 4. 5. 6.]\n",
      "[1.+0.j 2.+0.j 3.+0.j 4.+0.j 5.+0.j 6.+0.j]\n",
      "[1. 2. 3. 4. 5. 6.]\n"
     ]
    }
   ],
   "source": [
    "# Khởi tạo từ list, thay đổi kiểu dữ liệu\n",
    "### Kiểu dữ liệu mặc định theo giá trị\n",
    "my_list = [1,2,3,4,5,6] # (số nguyên)\n",
    "arr_int = np.array(my_list)\n",
    "print(arr_int)\n",
    "\n",
    "### Kiểu dữ liệu tự định nghĩa\n",
    "## Cách 1:\n",
    "arr_cplx_1 = np.array(my_list, dtype = np.complex_) # (số phức của np)\n",
    "print(arr_cplx_1)\n",
    "\n",
    "arr_flt_1 = np.array(my_list, dtype = np.float32) # (số thực 4 byte của np)\n",
    "print(arr_flt_1)\n",
    "\n",
    "## Cách 2:\n",
    "arr_cplx_2 = np.array(my_list, dtype = complex) # (số phức của python)\n",
    "print(arr_cplx_2)\n",
    "\n",
    "arr_flt_2 = np.array(my_list, dtype = float) # (số thực của python)\n",
    "print(arr_flt_2)"
   ]
  },
  {
   "cell_type": "code",
   "execution_count": 3,
   "metadata": {},
   "outputs": [
    {
     "name": "stdout",
     "output_type": "stream",
     "text": [
      "[[1 2 3 4 5 6]]\n"
     ]
    }
   ],
   "source": [
    "# Khởi tạo từ list, thay đổi số chiều\n",
    "arr_2D = np.array(my_list, ndmin = 2)\n",
    "print(arr_2D)"
   ]
  },
  {
   "cell_type": "code",
   "execution_count": 4,
   "metadata": {},
   "outputs": [
    {
     "name": "stdout",
     "output_type": "stream",
     "text": [
      "[1 5 0 3]\n"
     ]
    }
   ],
   "source": [
    "# Khởi tạo từ tuple\n",
    "my_tuple = (1,5,0,3)\n",
    "arr_tuple = np.array(my_tuple)\n",
    "print(arr_tuple)"
   ]
  },
  {
   "cell_type": "markdown",
   "metadata": {},
   "source": [
    "### **Gán nhãn và kiểu dữ liệu tự định nghĩa cho array bằng dtype*"
   ]
  },
  {
   "cell_type": "code",
   "execution_count": 5,
   "metadata": {},
   "outputs": [
    {
     "name": "stdout",
     "output_type": "stream",
     "text": [
      "[('Jack',) ('Ken',) ('Dan',)]\n",
      "['Jack' 'Ken' 'Dan']\n",
      "[('Jack', 21) ('Ken', 23) ('Dan', 20)]\n",
      "[21 23 20]\n"
     ]
    }
   ],
   "source": [
    "# Gán nhãn và kiểu dữ liệu tự định nghĩa cho array -> dùng dtype\n",
    "## --- Nhãn 1 thành phần ---\n",
    "### Tạo dtype có nhãn là 'name', kiểu string 10 ký tự (U10)\n",
    "dt_1 = np.dtype([('name','U10')])\n",
    "\n",
    "### Gán dt cho array\n",
    "arr_name = np.array([('Jack',),('Ken',),('Dan',)], dtype = dt_1)\n",
    "print(arr_name)\n",
    "print(arr_name['name']) # Truy xuất theo nhãn\n",
    "\n",
    "## --- Nhãn 2 thành phần ---\n",
    "### Tạo dtype có nhãn là 'name', kiểu string 10 ký tự (S10) và nhãn 'age', kiểu số nguyên 1 byte (np.int8 hoặc 'i1')\n",
    "# dt_2 = np.dtype([('name','U10'), ('age',np.int8)])\n",
    "dt_2 = np.dtype([('name','U10'), ('age','i1')])\n",
    "\n",
    "### Gán dt cho array\n",
    "arr_name_age = np.array([('Jack',21),('Ken',23),('Dan',20)], dtype = dt_2)\n",
    "print(arr_name_age)\n",
    "print(arr_name_age['age']) # Truy xuất theo nhãn"
   ]
  },
  {
   "cell_type": "markdown",
   "metadata": {},
   "source": [
    "### b) Dùng np.asarray"
   ]
  },
  {
   "cell_type": "code",
   "execution_count": 6,
   "metadata": {},
   "outputs": [
    {
     "name": "stdout",
     "output_type": "stream",
     "text": [
      "[2 3 4]\n"
     ]
    }
   ],
   "source": [
    "# Khởi tạo dùng np.asarray\n",
    "arr_asarray = np.asarray([3,4,2])\n",
    "arr_asarray.sort()\n",
    "print(arr_asarray)"
   ]
  },
  {
   "cell_type": "markdown",
   "metadata": {},
   "source": [
    "### c) Dùng np.zeros / np.ones"
   ]
  },
  {
   "cell_type": "code",
   "execution_count": 7,
   "metadata": {},
   "outputs": [
    {
     "name": "stdout",
     "output_type": "stream",
     "text": [
      "[0. 0. 0. 0. 0. 0. 0. 0. 0. 0.]\n",
      "[1. 1. 1. 1. 1.]\n"
     ]
    }
   ],
   "source": [
    "# Khởi tạo 1 mảng gồm n phần tử = 0 -> dùng np.zeros(n)\n",
    "arr_zeros = np.zeros(10)\n",
    "print(arr_zeros)\n",
    "\n",
    "# Khởi tạo 1 mảng gồm n phần tử = 1 -> dùng np.ones(n)\n",
    "arr_ones = np.ones(5)\n",
    "print(arr_ones)"
   ]
  },
  {
   "cell_type": "markdown",
   "metadata": {},
   "source": [
    "### d) Dùng np.arange"
   ]
  },
  {
   "cell_type": "code",
   "execution_count": 8,
   "metadata": {},
   "outputs": [
    {
     "name": "stdout",
     "output_type": "stream",
     "text": [
      "[10 12 14 16 18]\n",
      "[0 1 2 3 4 5 6 7 8 9]\n"
     ]
    }
   ],
   "source": [
    "# Khởi tạo dùng np.arange(start,stop,step,dtype)\n",
    "## Các số chẵn từ 10 tới 18 (ko chạm tới stop)\n",
    "arr_arange_1 = np.arange(10, 20, 2, dtype = np.int8)\n",
    "print(arr_arange_1)\n",
    "\n",
    "## Các số nguyên từ 0 -> 10\n",
    "arr_arange_2 = np.arange(10)\n",
    "print(arr_arange_2)"
   ]
  },
  {
   "cell_type": "markdown",
   "metadata": {},
   "source": [
    "### e) Dùng np.linspace"
   ]
  },
  {
   "cell_type": "code",
   "execution_count": 9,
   "metadata": {},
   "outputs": [
    {
     "name": "stdout",
     "output_type": "stream",
     "text": [
      "[10 12 14 16 18 20 22 24 26 28 30 32 34 36 38 40 42 44 46 48]\n",
      "[10.         10.20408163 10.40816327 10.6122449  10.81632653 11.02040816\n",
      " 11.2244898  11.42857143 11.63265306 11.83673469 12.04081633 12.24489796\n",
      " 12.44897959 12.65306122 12.85714286 13.06122449 13.26530612 13.46938776\n",
      " 13.67346939 13.87755102 14.08163265 14.28571429 14.48979592 14.69387755\n",
      " 14.89795918 15.10204082 15.30612245 15.51020408 15.71428571 15.91836735\n",
      " 16.12244898 16.32653061 16.53061224 16.73469388 16.93877551 17.14285714\n",
      " 17.34693878 17.55102041 17.75510204 17.95918367 18.16326531 18.36734694\n",
      " 18.57142857 18.7755102  18.97959184 19.18367347 19.3877551  19.59183673\n",
      " 19.79591837 20.        ]\n",
      "float64\n",
      "[ 1  2  3  4  5  6  7  8  9 10 11 12 13 14 15 16 17 18 19 20 21 22 23 24\n",
      " 25 26 27 28 29 30 31 32 33 34 35 36 37 38 39 40 41 42 43 44 45 46 47 48\n",
      " 49 50]\n"
     ]
    }
   ],
   "source": [
    "# Khởi tạo dùng np.linspace(start,stop,num,endpoint,dtype) \n",
    "### Mặc định: num = 50, endpoint = True (lấy cả giá trị step), dtype: float\n",
    "\n",
    "## Lấy 20 số từ 10 tới 50 (endpoint = False => ko chạm tới stop)\n",
    "arr_linspace_1 = np.linspace(10, 50, 20, endpoint = False, dtype = np.int8)\n",
    "print(arr_linspace_1)\n",
    "\n",
    "## Các số thực từ 10 -> 20 (mặc định dtype là float, num = 50)\n",
    "arr_linspace_2 = np.linspace(10, 20)\n",
    "print(arr_linspace_2)\n",
    "print(arr_linspace_2.dtype)\n",
    "\n",
    "## Lấy các số nguyên từ 10 -> 200 (num = 50) (cách đều)\n",
    "arr_linspace_3 = np.linspace(1, 51, endpoint = False, dtype = np.int16)\n",
    "print(arr_linspace_3)"
   ]
  },
  {
   "cell_type": "markdown",
   "metadata": {},
   "source": [
    "### f) Dùng np.empty"
   ]
  },
  {
   "cell_type": "code",
   "execution_count": 10,
   "metadata": {},
   "outputs": [
    {
     "name": "stdout",
     "output_type": "stream",
     "text": [
      "[0 0 0 0 0]\n"
     ]
    }
   ],
   "source": [
    "# Khởi tạo mảng gồm những giá trị ngẫu nhiên -> dùng np.empty(kích thước)\n",
    "arr_empty = np.empty(5, dtype = int) # khởi tạo mảng 5 phần tử ngẫu nhiên \n",
    "print(arr_empty)"
   ]
  },
  {
   "cell_type": "markdown",
   "metadata": {},
   "source": [
    "### g) Dùng np.empty_like"
   ]
  },
  {
   "cell_type": "code",
   "execution_count": 11,
   "metadata": {},
   "outputs": [
    {
     "name": "stdout",
     "output_type": "stream",
     "text": [
      "[[1065353216 1073741824 1077936128]\n",
      " [1082130432 1084227584 1086324736]]\n",
      "[0.00000000e+000 0.00000000e+000 1.21411546e-311]\n"
     ]
    }
   ],
   "source": [
    "# Khởi tạo mảng có các thành phần tương tự như trong 1 mảng cho trước (giá trị đc lấy ngẫu nhiên)\n",
    "# -> dùng np.empty_like(mảng làm mẫu)\n",
    "arr_prototype_int = ([1,3,6],[4,3,8]) # mảng làm mẫu là mảng số nguyên 2 chiều 2x3\n",
    "arr_empty_like_int = np.empty_like(arr_prototype_int) # -> mảng mới cũng là mảng số nguyên 2 chiều 2x3 (giá trị lấy ngẫu nhiên)\n",
    "print(arr_empty_like_int)\n",
    "\n",
    "\n",
    "arr_prototype_float = ([5.6, 7.2, 6.0]) # mảng làm mẫu là mảng số thực 1 chiều 3 phần tử\n",
    "arr_empty_like_float = np.empty_like(arr_prototype_float) # -> mảng mới cũng là mảng số thực 1 chiều 3 phần tử (giá trị lấy ngẫu nhiên)\n",
    "print(arr_empty_like_float)"
   ]
  },
  {
   "cell_type": "markdown",
   "metadata": {},
   "source": [
    "### h) Dùng np.full"
   ]
  },
  {
   "cell_type": "code",
   "execution_count": 12,
   "metadata": {},
   "outputs": [
    {
     "name": "stdout",
     "output_type": "stream",
     "text": [
      "[100 100 100 100 100]\n"
     ]
    }
   ],
   "source": [
    "# Khởi tạo mảng gồm những phần tử giống nhau \n",
    "# -> dùng np.full(kích_thước, fill_value, dtype)\n",
    "\n",
    "arr_fill = np.full(5, 100) # khởi tạo mảng 5 phần tử có giá trị 100\n",
    "print(arr_fill)"
   ]
  },
  {
   "cell_type": "markdown",
   "metadata": {},
   "source": [
    "## 2. Tìm kích thước mảng"
   ]
  },
  {
   "cell_type": "code",
   "execution_count": 13,
   "metadata": {},
   "outputs": [
    {
     "name": "stdout",
     "output_type": "stream",
     "text": [
      "[1 2 3 4 5 6]\n",
      "(6,)\n",
      "Mảng có 6 phần tử\n"
     ]
    }
   ],
   "source": [
    "# Kích thước mảng 1 chiều -> dùng shape\n",
    "print(arr_int)\n",
    "print(arr_int.shape) # => trả về tuple (số dòng, số cột)\n",
    "## --> Lấy số phần tử của mảng 1 chiều: arr.shape[0]\n",
    "print('Mảng có', arr_int.shape[0], 'phần tử')"
   ]
  },
  {
   "cell_type": "markdown",
   "metadata": {},
   "source": [
    "## 3. Cập nhật giá trị của phần tử trong mảng"
   ]
  },
  {
   "cell_type": "code",
   "execution_count": 28,
   "metadata": {},
   "outputs": [
    {
     "name": "stdout",
     "output_type": "stream",
     "text": [
      "[  1   2   3   4 100   6]\n"
     ]
    }
   ],
   "source": [
    "# Cập nhật giá trị phần tử trong mảng\n",
    "arr_int[4] = 100\n",
    "print(arr_int)"
   ]
  },
  {
   "cell_type": "markdown",
   "metadata": {},
   "source": [
    "## 4. Truy xuất phần tử trong mảng"
   ]
  },
  {
   "cell_type": "code",
   "execution_count": 15,
   "metadata": {},
   "outputs": [
    {
     "name": "stdout",
     "output_type": "stream",
     "text": [
      "2\n",
      "[ 2  3  4  5  6  7  8  9 10 11 12 13 14 15 16 17 18 19]\n",
      "[2 3 4 5]\n",
      "[0 1 2 3 4 5 6 7 8]\n",
      "[2 3 4 5 6 7 8 9]\n"
     ]
    }
   ],
   "source": [
    "# Truy xuất phần tử\n",
    "my_arr = np.arange(20)\n",
    "\n",
    "## Tại 1 vị trí index = 2\n",
    "print(my_arr[2])\n",
    "\n",
    "## Từ vị trí index = 2 đến hết mảng\n",
    "print(my_arr[2:])\n",
    "\n",
    "## Từ vị trí index = 2 đến vị trí index = 6\n",
    "print(my_arr[2:6])\n",
    "\n",
    "## Truy xuất theo điều kiện: \n",
    "### Lấy những phần tử < 9 trong mảng\n",
    "arr_1 = my_arr[my_arr < 9]\n",
    "print(arr_1)\n",
    "\n",
    "### Lấy những phần tử thỏa: 2 <= phần tử <= 9 trong mảng\n",
    "dieu_kien = (my_arr >= 2) & (my_arr <= 9)\n",
    "arr_2 = my_arr[dieu_kien]\n",
    "print(arr_2)"
   ]
  },
  {
   "cell_type": "code",
   "execution_count": 16,
   "metadata": {},
   "outputs": [
    {
     "name": "stdout",
     "output_type": "stream",
     "text": [
      "[ 0  1  2  3  4  5  6  7  8  9 10 11 12 13 14 15 16 17 18 19]\n",
      "[3 5 7 9]\n",
      "9\n"
     ]
    }
   ],
   "source": [
    "# Truy xuất phần tử -> dùng slice(start,stop,step)\n",
    "index_slice = slice(3,10,2) # -> 3, 5, 7, 9 ==> Lấy các phần tử ở vị trí 3,5,7,9 trong mảng\n",
    "print(my_arr)\n",
    "print(my_arr[index_slice]) # ==> Mảng các phần tử ở vị trí 3,5,7,9 trong mảng\n",
    "print(my_arr[index_slice][3]) # truy xuất như mảng"
   ]
  },
  {
   "cell_type": "markdown",
   "metadata": {},
   "source": [
    "## 5. Thêm/ Chèn phần tử vào mảng"
   ]
  },
  {
   "cell_type": "code",
   "execution_count": 17,
   "metadata": {},
   "outputs": [
    {
     "name": "stdout",
     "output_type": "stream",
     "text": [
      "[  0   1   2   3   4   5   6   7   8   9  10  11  12  13  14  15  16  17\n",
      "  18  19 100 101 102 500]\n"
     ]
    }
   ],
   "source": [
    "# Thêm phần tử\n",
    "### Thêm phần tử vào cuối mảng -> dùng np.append(arr, p.tử) (phần tử có thể là 1 giá trị hoặc 1 mảng)\n",
    "arr_to_append = np.array([100,101,102])\n",
    "my_arr = np.append(my_arr,arr_to_append)\n",
    "my_arr = np.append(my_arr,500)\n",
    "print(my_arr)"
   ]
  },
  {
   "cell_type": "code",
   "execution_count": 18,
   "metadata": {},
   "outputs": [
    {
     "name": "stdout",
     "output_type": "stream",
     "text": [
      "[  0  20  21  22   1 300   2   3   4   5   6   7   8   9  10  11  12  13\n",
      "  14  15  16  17  18  19 100 101 102 500]\n"
     ]
    }
   ],
   "source": [
    "# Chèn phần tử\n",
    "### Chèn phần tử vào 1 vị trí index -> dùng np.insert(arr, index, p.tử) (phần tử có thể là 1 giá trị hoặc 1 mảng)\n",
    "my_arr = np.insert(my_arr, 1, [20,21,22]) # --> Chèn mảng vào vị trí index là 1\n",
    "my_arr = np.insert(my_arr, 5, 300) # --> Chèn phần tử vào vị trí index là 5\n",
    "print(my_arr)"
   ]
  },
  {
   "cell_type": "markdown",
   "metadata": {},
   "source": [
    "## 6. Xóa phần tử trong mảng"
   ]
  },
  {
   "cell_type": "code",
   "execution_count": 19,
   "metadata": {},
   "outputs": [
    {
     "name": "stdout",
     "output_type": "stream",
     "text": [
      "[  0  20  22   1 300   2   3   4   5   6   7   8   9  10  11  12  13  14\n",
      "  15  16  17  18  19 100 101 102 500]\n",
      "[  0  20  21  22   1 300   2   3   4   5   6   7   8   9  10  11  12  13\n",
      "  14  15  16  17  18  19 100 101 102 500]\n"
     ]
    }
   ],
   "source": [
    "# Xóa phần tử tại vị trí index = 2 trong mảng -> dùng np.delete(arr, index)\n",
    "my_arr_delete = np.delete(my_arr, 2)\n",
    "print(my_arr_delete)\n",
    "print(my_arr)"
   ]
  },
  {
   "cell_type": "markdown",
   "metadata": {},
   "source": [
    "## 7. Tính toán số học trên mảng"
   ]
  },
  {
   "cell_type": "code",
   "execution_count": 20,
   "metadata": {},
   "outputs": [
    {
     "name": "stdout",
     "output_type": "stream",
     "text": [
      "[ 5  7  9 11 13]\n",
      "[-5 -5 -5 -5 -5]\n",
      "[ 0  6 14 24 36]\n",
      "[0.         0.16666667 0.28571429 0.375      0.44444444]\n",
      "[30 31 32 33 34]\n",
      "[-20 -19 -18 -17 -16]\n",
      "[  0  40  80 120 160]\n",
      "[0.  0.1 0.2 0.3 0.4]\n"
     ]
    }
   ],
   "source": [
    "# Tính toán giữa 2 mảng\n",
    "a = np.arange(5)\n",
    "b = np.arange(5,10,1)\n",
    "\n",
    "tong = a + b\n",
    "hieu = a - b\n",
    "tich = a * b\n",
    "thuong = a / b\n",
    "\n",
    "print(tong, hieu, tich, thuong, sep = '\\n')\n",
    "\n",
    "# Tính toán giữa 1 mảng và 1 số\n",
    "a_cong = a + 30\n",
    "a_tru = a - 20\n",
    "a_nhan = a * 40\n",
    "a_chia = a / 10\n",
    "\n",
    "print(a_cong, a_tru, a_nhan, a_chia, sep = '\\n')"
   ]
  },
  {
   "cell_type": "markdown",
   "metadata": {},
   "source": [
    "## 8. Tính toán thống kê trên mảng"
   ]
  },
  {
   "cell_type": "markdown",
   "metadata": {},
   "source": [
    "### a) Tìm min, max"
   ]
  },
  {
   "cell_type": "code",
   "execution_count": 21,
   "metadata": {},
   "outputs": [
    {
     "name": "stdout",
     "output_type": "stream",
     "text": [
      "0\n",
      "500\n"
     ]
    }
   ],
   "source": [
    "# Tìm min, max -> dùng np.amax(arr), np.amin(arr)\n",
    "print(np.amin(my_arr))\n",
    "print(np.amax(my_arr))"
   ]
  },
  {
   "cell_type": "markdown",
   "metadata": {},
   "source": [
    "### b) Tìm trung bình cộng (mean)"
   ]
  },
  {
   "cell_type": "code",
   "execution_count": 22,
   "metadata": {},
   "outputs": [
    {
     "name": "stdout",
     "output_type": "stream",
     "text": [
      "48.42857142857143\n"
     ]
    }
   ],
   "source": [
    "# Tìm trung bình cộng -> dùng np.mean(arr)\n",
    "print(np.mean(my_arr))"
   ]
  },
  {
   "cell_type": "markdown",
   "metadata": {},
   "source": [
    "### c) Tìm trung bình giữa (trung vị)\n",
    "*(Tự động sắp xếp tăng dần)*<br>\n",
    "Đối với mảng có số phần tử chẵn -> median là trung bình cộng 2 phần tử ở giữa mảng<br>\n",
    "VD: a = [1,2,3,4] -> median là trung bình cộng của 2, 3 = (2+3)/2 = 2.5\n",
    "\n",
    "Đối với mảng có số phần tử lẻ -> median là phần tử ở chính giữa mảng<br>\n",
    "VD: a = [1,2,3,4,5] -> median là 3 "
   ]
  },
  {
   "cell_type": "code",
   "execution_count": 23,
   "metadata": {},
   "outputs": [
    {
     "name": "stdout",
     "output_type": "stream",
     "text": [
      "2.5\n",
      "3.0\n"
     ]
    }
   ],
   "source": [
    "# Tìm trung bình giữa (trung vị)\n",
    "a = np.array([1,2,3,4]) \n",
    "print(np.median(a))\n",
    "\n",
    "a = np.array([1,2,3,4,5]) \n",
    "print(np.median(a))"
   ]
  },
  {
   "cell_type": "markdown",
   "metadata": {},
   "source": [
    "## 9. Sắp xếp mảng"
   ]
  },
  {
   "cell_type": "code",
   "execution_count": 8,
   "metadata": {},
   "outputs": [
    {
     "name": "stdout",
     "output_type": "stream",
     "text": [
      "[ 0  1  2  4  5  7  9 18 42]\n",
      "[42 18  9  7  5  4  2  1  0]\n",
      "[('Jin', 27) ('RM', 25) ('Suga', 26) ('J-Hope', 25) ('Jimin', 24)\n",
      " ('Jungkook', 22) ('V', 24)]\n",
      "[('J-Hope', 25) ('Jimin', 24) ('Jin', 27) ('Jungkook', 22) ('RM', 25)\n",
      " ('Suga', 26) ('V', 24)]\n",
      "[('Jungkook', 22) ('Jimin', 24) ('V', 24) ('J-Hope', 25) ('RM', 25)\n",
      " ('Suga', 26) ('Jin', 27)]\n",
      "[('V', 24) ('Suga', 26) ('RM', 25) ('Jungkook', 22) ('Jin', 27)\n",
      " ('Jimin', 24) ('J-Hope', 25)]\n",
      "[('Jin', 27) ('Suga', 26) ('RM', 25) ('J-Hope', 25) ('V', 24)\n",
      " ('Jimin', 24) ('Jungkook', 22)]\n"
     ]
    }
   ],
   "source": [
    "# Sắp xếp tăng dần -> dùng np.sort(arr)\n",
    "c = np.array([4,2,5,7,9,0,18,42,1])\n",
    "c = np.sort(c)\n",
    "print(c)\n",
    "\n",
    "# Sắp xếp giảm dần -> sắp xếp tăng dần trước và dùng phép đảo chiều arr[::-1]\n",
    "c = np.array([4,2,5,7,9,0,18,42,1])\n",
    "c = np.sort(c)\n",
    "c = c[::-1]\n",
    "print(c)\n",
    "\n",
    "# Sắp xếp mảng tăng dần theo nhãn -> thêm thuộc tính 'order = tên_nhãn'\n",
    "dt = np.dtype([('name','U10'), ('age','i1')])\n",
    "arr_BTS = np.array([('Jin',27),('RM',25),('Suga',26),('J-Hope',25),('Jimin',24),('Jungkook',22),('V',24)], dtype = dt)\n",
    "print(arr_BTS)\n",
    "print(np.sort(arr_BTS, order='name')) # Sort tăng dần theo tên (thứ tự bảng chữ cái)\n",
    "print(np.sort(arr_BTS, order='age')) # Sort tăng dần theo tuổi\n",
    "\n",
    "# Sắp xếp mảng giảm dần theo nhãn -> sắp xếp tăng dần trước và dùng phép đảo chiều arr[::-1]\n",
    "arr_BTS_name = np.sort(arr_BTS, order='name')\n",
    "print(arr_BTS_name[::-1])\n",
    "arr_BTS_age = np.sort(arr_BTS, order='age')\n",
    "print(arr_BTS_age[::-1])"
   ]
  },
  {
   "cell_type": "markdown",
   "metadata": {},
   "source": [
    "## 10. Tìm vị trí của các phần tử thỏa điều kiện"
   ]
  },
  {
   "cell_type": "code",
   "execution_count": 25,
   "metadata": {},
   "outputs": [
    {
     "name": "stdout",
     "output_type": "stream",
     "text": [
      "(array([4, 7, 8], dtype=int64),)\n",
      "[44 14 22]\n"
     ]
    }
   ],
   "source": [
    "d = np.array([2,4,5,8,44,6,3,14,22,11])\n",
    "\n",
    "# Tìm vị trí những phần tử chẵn lớn hơn 10 trong mảng d\n",
    "# -> dùng np.where(điều_kiện)\n",
    "dieu_kien_1 = ((d % 2 == 0) & (d > 10))\n",
    "indexes = np.where(dieu_kien_1)\n",
    "print(indexes)\n",
    "print(d[indexes]) # Đưa index vào để lấy ra giá trị"
   ]
  },
  {
   "cell_type": "markdown",
   "metadata": {},
   "source": [
    "## 11. Lấy ra các phần tử thỏa điều kiện"
   ]
  },
  {
   "cell_type": "code",
   "execution_count": 26,
   "metadata": {},
   "outputs": [
    {
     "name": "stdout",
     "output_type": "stream",
     "text": [
      "[44 14 22]\n"
     ]
    }
   ],
   "source": [
    "d = np.array([2,4,5,8,44,6,3,14,22,11])\n",
    "\n",
    "# Rút trích những phần tử chẵn lớn hơn 10 trong mảng d\n",
    "# -> dùng np.extract(điều_kiện, arr)\n",
    "d_1 = np.extract(dieu_kien_1, d)\n",
    "print(d_1)"
   ]
  },
  {
   "cell_type": "markdown",
   "metadata": {},
   "source": [
    "## 12. Kiểm tra trong mảng có giá trị NaN không"
   ]
  },
  {
   "cell_type": "code",
   "execution_count": 6,
   "metadata": {},
   "outputs": [
    {
     "name": "stdout",
     "output_type": "stream",
     "text": [
      "[False False  True  True False False  True]\n",
      "True\n",
      "False\n",
      "False\n",
      "False\n",
      "True\n"
     ]
    }
   ],
   "source": [
    "e = np.array([2,4,np.NaN,np.NaN,22,11,np.NaN])\n",
    "f = np.array([2,4,5,8,44,6])\n",
    "g = np.array([np.NaN,np.NaN,np.NaN,np.NaN])\n",
    "\n",
    "# Trả về 1 mảng tương đương với mảng cần kiểm tra, nhưng giá trị nào là NaN thì trở thành True, ngược lại là False \n",
    "# -> dùng hàm np.isnan(arr)\n",
    "print(np.isnan(e))\n",
    "\n",
    "# Trả về True nếu có ít nhất 1 giá trị NaN trong mảng, ngược lại trả vè False\n",
    "# -> dùng np.isnan(arr).any()\n",
    "print(np.isnan(e).any())\n",
    "print(np.isnan(f).any())\n",
    "\n",
    "# Trả về True nếu tất cả đều là NaN, ngược lại trả vè False\n",
    "# -> dùng np.isnan(arr).all()\n",
    "print(np.isnan(e).all())\n",
    "print(np.isnan(f).all())\n",
    "print(np.isnan(g).all())"
   ]
  },
  {
   "cell_type": "markdown",
   "metadata": {},
   "source": [
    "## 13. Thay các giá trị NaN bằng 0"
   ]
  },
  {
   "cell_type": "code",
   "execution_count": 8,
   "metadata": {},
   "outputs": [
    {
     "name": "stdout",
     "output_type": "stream",
     "text": [
      "[ 2.  4.  0.  0. 22. 11.  0.]\n"
     ]
    }
   ],
   "source": [
    "e = np.array([2,4,np.NaN,np.NaN,22,11,np.NaN])\n",
    "e[np.isnan(e)] = 0\n",
    "print(e)"
   ]
  },
  {
   "cell_type": "code",
   "execution_count": null,
   "metadata": {},
   "outputs": [],
   "source": []
  }
 ],
 "metadata": {
  "kernelspec": {
   "display_name": "Python 3",
   "language": "python",
   "name": "python3"
  },
  "language_info": {
   "codemirror_mode": {
    "name": "ipython",
    "version": 3
   },
   "file_extension": ".py",
   "mimetype": "text/x-python",
   "name": "python",
   "nbconvert_exporter": "python",
   "pygments_lexer": "ipython3",
   "version": "3.7.3"
  }
 },
 "nbformat": 4,
 "nbformat_minor": 2
}
