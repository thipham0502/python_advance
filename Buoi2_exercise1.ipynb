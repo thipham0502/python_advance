{
 "cells": [
  {
   "cell_type": "code",
   "execution_count": 1,
   "metadata": {},
   "outputs": [
    {
     "name": "stdout",
     "output_type": "stream",
     "text": [
      "[0 1 2 3 4 5 6 7 8 9]\n",
      "<class 'numpy.ndarray'>\n",
      "(10,)\n"
     ]
    }
   ],
   "source": [
    "import numpy as np\n",
    "\n",
    "# Câu 1: \n",
    "# a. Tạo numpy array có giá trị từ 0-9\n",
    "arr1 = np.arange(0,10)\n",
    "print(arr1)\n",
    "\n",
    "# b. Kiểu dữ liệu (type) của arr1 => numpy.ndarray\n",
    "print(type(arr1))\n",
    "\n",
    "# c. Kích thước (shape) của arr1\n",
    "print(arr1.shape)"
   ]
  },
  {
   "cell_type": "code",
   "execution_count": 2,
   "metadata": {},
   "outputs": [
    {
     "name": "stdout",
     "output_type": "stream",
     "text": [
      "[0 2 4 6 8]\n",
      "[1 3 5 7 9]\n",
      "[0 1 2 3 4 5 6 7 8 9]\n"
     ]
    }
   ],
   "source": [
    "# Câu 2: \n",
    "# a. Tạo numpy array gồm những phần tử chẵn từ arr1\n",
    "arr_even = arr1[arr1 % 2 == 0]\n",
    "print(arr_even)\n",
    "\n",
    "# b. Tạo numpy array gồm những phần tử lẻ từ arr1\n",
    "arr_even = arr1[arr1 % 2 != 0]\n",
    "print(arr_even)\n",
    "\n",
    "print(arr1)"
   ]
  },
  {
   "cell_type": "code",
   "execution_count": 3,
   "metadata": {},
   "outputs": [
    {
     "name": "stdout",
     "output_type": "stream",
     "text": [
      "[  0 100   2 100   4 100   6 100   8 100]\n"
     ]
    }
   ],
   "source": [
    "# Câu 3: Tạo numpy array mà những phần tử lẻ đổi thành 100\n",
    "arr_update_1 = np.array(arr1) # Copy arr1 qua arr_update_1\n",
    "# (ko dùng arr_update_1 = arr1 vì mảng là con trỏ)\n",
    "\n",
    "arr_update_1[arr_update_1 % 2 != 0] = 100 # Gán các phần tử lẻ = 100\n",
    "print(arr_update_1)"
   ]
  },
  {
   "cell_type": "code",
   "execution_count": 4,
   "metadata": {},
   "outputs": [
    {
     "name": "stdout",
     "output_type": "stream",
     "text": [
      "[  0 100   2 100   4 100   6 100   8 100]\n",
      "[0 2 4 6 8]\n"
     ]
    }
   ],
   "source": [
    "# Câu 4: Lấy phần chung (phần giao) của 2 array => Hàm np.intersect1d\n",
    "print(arr_update_1)\n",
    "arr_intersect = np.intersect1d(arr1, arr_update_1)\n",
    "print(arr_intersect)"
   ]
  },
  {
   "cell_type": "code",
   "execution_count": 5,
   "metadata": {},
   "outputs": [
    {
     "name": "stdout",
     "output_type": "stream",
     "text": [
      "[  0 100   2 100   4 100   6 100   8 100]\n",
      "[1 3 5 7 9]\n"
     ]
    }
   ],
   "source": [
    "# Câu 5: Lấy các phần tử chỉ thuộc arr1 mà không thuộc arr_update_1 => Hàm np.setdiff1d\n",
    "print(arr_update_1)\n",
    "arr_setdiff = np.setdiff1d(arr1, arr_update_1)\n",
    "print(arr_setdiff)"
   ]
  },
  {
   "cell_type": "code",
   "execution_count": 13,
   "metadata": {},
   "outputs": [
    {
     "name": "stdout",
     "output_type": "stream",
     "text": [
      "[ 5  6  7  8  9 10]\n",
      "[ 5  6  7  8  9 10]\n"
     ]
    }
   ],
   "source": [
    "# Câu 6: \n",
    "## Cho array e:\n",
    "e = np.arange(20)\n",
    "\n",
    "## Tạo array f chỉ chứa các phần tử có giá trị từ 5-10 của e:\n",
    "# Cách 1:\n",
    "f = e[(e >= 5) & (e <= 10)]\n",
    "print(f)\n",
    "\n",
    "# Cách 2:\n",
    "f = np.extract(((e >= 5) & (e <= 10)), e)\n",
    "print(f)"
   ]
  },
  {
   "cell_type": "code",
   "execution_count": 16,
   "metadata": {},
   "outputs": [
    {
     "name": "stdout",
     "output_type": "stream",
     "text": [
      "[0 0 0 0 0 0 0 0 0 0]\n",
      "[0 0 0 0 0 1 0 0 0 0]\n"
     ]
    }
   ],
   "source": [
    "# Câu 7: Tạo array có 10 phần tử 0\n",
    "arr_0 = np.zeros(10, dtype = int)\n",
    "print(arr_0)\n",
    "\n",
    "# Cập nhật phần tử ở vị trí thứ 5 thành 1\n",
    "arr_0[5] = 1\n",
    "print(arr_0)"
   ]
  },
  {
   "cell_type": "code",
   "execution_count": 33,
   "metadata": {},
   "outputs": [
    {
     "name": "stdout",
     "output_type": "stream",
     "text": [
      "[11 21 12 23 20 22 19 14 23 14 24 19]\n",
      "Ascending: [11 12 14 14 19 19 20 21 22 23 23 24]\n",
      "Descending:  [24 23 23 22 21 20 19 19 14 14 12 11]\n"
     ]
    }
   ],
   "source": [
    "# Câu 8: \n",
    "## Tạo array 12 phần tử có giá trị ngẫu nhiên từ 10 -> 24\n",
    "arr_8 = np.array(np.random.randint(10, 25, 12))\n",
    "print(arr_8)\n",
    "\n",
    "## Sắp xếp giảm dần\n",
    "#### Sắp tăng dần trước:\n",
    "arr_8 = np.sort(arr_8)\n",
    "print('Ascending:', arr_8)\n",
    "\n",
    "#### Đảo ngược lại để thành giảm dần\n",
    "arr_8_reverse = arr_8[::-1]\n",
    "print('Descending: ', arr_8_reverse)"
   ]
  },
  {
   "cell_type": "code",
   "execution_count": 35,
   "metadata": {},
   "outputs": [
    {
     "name": "stdout",
     "output_type": "stream",
     "text": [
      "[ 0  5  2  3  0  4  8  9  1 10  0]\n",
      "[ 5  2  3  4  8  9  1 10]\n",
      "[ 5  2  3  4  8  9  1 10]\n"
     ]
    }
   ],
   "source": [
    "# Câu 9: \n",
    "## Khởi tạo 1 array k gồm 10 phần tử ngẫu nhiên từ 1 -> 30\n",
    "k = np.array([0,5,2,3,0,4,8,9,1,10,0])\n",
    "print(k)\n",
    "\n",
    "## Tạo array L từ k với các phần tử đều khác 0\n",
    "#Cách 1:\n",
    "L = k[k != 0]\n",
    "print(L)\n",
    "\n",
    "#Cách 2: dùng hàm nonzero => trả về index các phần tử khác 0\n",
    "zero_indexes = k.nonzero()\n",
    "L = k[zero_indexes]\n",
    "print(L)"
   ]
  },
  {
   "cell_type": "code",
   "execution_count": 37,
   "metadata": {},
   "outputs": [
    {
     "name": "stdout",
     "output_type": "stream",
     "text": [
      "[ 5  2  3  4  8  9  1 10 10 20]\n"
     ]
    }
   ],
   "source": [
    "# Câu 10: Thêm 2 phần tử 10, 20 vào cuối mảng L\n",
    "L = np.append(L, [10, 20])\n",
    "print(L)"
   ]
  },
  {
   "cell_type": "code",
   "execution_count": 38,
   "metadata": {},
   "outputs": [
    {
     "name": "stdout",
     "output_type": "stream",
     "text": [
      "[ 4  8  9  1 10 10 20]\n"
     ]
    }
   ],
   "source": [
    "# Câu 12: Xóa phần tử index = 0, 1, 2\n",
    "L = np.delete(L, [0,1,2])\n",
    "print(L)"
   ]
  },
  {
   "cell_type": "code",
   "execution_count": null,
   "metadata": {},
   "outputs": [],
   "source": []
  }
 ],
 "metadata": {
  "kernelspec": {
   "display_name": "Python 3",
   "language": "python",
   "name": "python3"
  },
  "language_info": {
   "codemirror_mode": {
    "name": "ipython",
    "version": 3
   },
   "file_extension": ".py",
   "mimetype": "text/x-python",
   "name": "python",
   "nbconvert_exporter": "python",
   "pygments_lexer": "ipython3",
   "version": "3.6.8"
  }
 },
 "nbformat": 4,
 "nbformat_minor": 2
}
