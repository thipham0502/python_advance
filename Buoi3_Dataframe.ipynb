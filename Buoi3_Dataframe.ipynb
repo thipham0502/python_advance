{
 "cells": [
  {
   "cell_type": "code",
   "execution_count": 1,
   "metadata": {},
   "outputs": [],
   "source": [
    "import numpy as np\n",
    "import pandas as pd"
   ]
  },
  {
   "cell_type": "code",
   "execution_count": 2,
   "metadata": {},
   "outputs": [
    {
     "name": "stdout",
     "output_type": "stream",
     "text": [
      "   Name  Age\n",
      "0   Tom   20\n",
      "1  Jack   24\n",
      "2   Joe   25\n"
     ]
    }
   ],
   "source": [
    "# Tạo DataFrame có 2 cột là tên và tuổi (index mặc định)\n",
    "d = [['Tom',20],['Jack',24],['Joe',25]]\n",
    "\n",
    "df1 = pd.DataFrame(d,columns=['Name','Age'])\n",
    "print(df1)"
   ]
  },
  {
   "cell_type": "code",
   "execution_count": 3,
   "metadata": {},
   "outputs": [
    {
     "name": "stdout",
     "output_type": "stream",
     "text": [
      "     Name  Age\n",
      "100   Tom   20\n",
      "101  Jack   24\n",
      "102   Joe   25\n"
     ]
    }
   ],
   "source": [
    "# Tạo DataFrame có 2 cột là tên và tuổi (index tự tạo riêng)\n",
    "df2 = pd.DataFrame(d,columns=['Name','Age'],index=[100,101,102])\n",
    "print(df2)"
   ]
  },
  {
   "cell_type": "code",
   "execution_count": 4,
   "metadata": {},
   "outputs": [
    {
     "name": "stdout",
     "output_type": "stream",
     "text": [
      "      Name  Age\n",
      "100    Tom   20\n",
      "101   Jack   24\n",
      "102    Joe   25\n",
      "103  Kevin   27\n"
     ]
    }
   ],
   "source": [
    "# Thêm 1 dòng vào df2\n",
    "## Hàm loc: lấy dòng ở 1 vị trí (location)\n",
    "df2.loc[103] = ['Kevin', 27]\n",
    "print(df2)"
   ]
  },
  {
   "cell_type": "code",
   "execution_count": 5,
   "metadata": {},
   "outputs": [
    {
     "name": "stdout",
     "output_type": "stream",
     "text": [
      "100      Tom\n",
      "101     Jack\n",
      "102      Joe\n",
      "103    Kevin\n",
      "Name: Name, dtype: object\n"
     ]
    }
   ],
   "source": [
    "# Truy xuất theo cột => dùng tên cột\n",
    "print(df2['Name'])"
   ]
  },
  {
   "cell_type": "code",
   "execution_count": 22,
   "metadata": {},
   "outputs": [
    {
     "data": {
      "text/html": [
       "<div>\n",
       "<style scoped>\n",
       "    .dataframe tbody tr th:only-of-type {\n",
       "        vertical-align: middle;\n",
       "    }\n",
       "\n",
       "    .dataframe tbody tr th {\n",
       "        vertical-align: top;\n",
       "    }\n",
       "\n",
       "    .dataframe thead th {\n",
       "        text-align: right;\n",
       "    }\n",
       "</style>\n",
       "<table border=\"1\" class=\"dataframe\">\n",
       "  <thead>\n",
       "    <tr style=\"text-align: right;\">\n",
       "      <th></th>\n",
       "      <th>Name</th>\n",
       "      <th>Age</th>\n",
       "      <th>Age_10</th>\n",
       "      <th>Gender</th>\n",
       "    </tr>\n",
       "  </thead>\n",
       "  <tbody>\n",
       "    <tr>\n",
       "      <th>102</th>\n",
       "      <td>Joe</td>\n",
       "      <td>25</td>\n",
       "      <td>35</td>\n",
       "      <td>M</td>\n",
       "    </tr>\n",
       "    <tr>\n",
       "      <th>103</th>\n",
       "      <td>Kevin</td>\n",
       "      <td>27</td>\n",
       "      <td>37</td>\n",
       "      <td>F</td>\n",
       "    </tr>\n",
       "  </tbody>\n",
       "</table>\n",
       "</div>"
      ],
      "text/plain": [
       "      Name  Age  Age_10 Gender\n",
       "102    Joe   25      35      M\n",
       "103  Kevin   27      37      F"
      ]
     },
     "execution_count": 22,
     "metadata": {},
     "output_type": "execute_result"
    }
   ],
   "source": [
    "# Truy xuất theo dòng theo index người dùng => dùng .loc\n",
    "print(df2.loc[100])\n",
    "\n",
    "# Truy xuất theo dòng theo index mặc định => dùng .iloc\n",
    "print(df2.iloc[1])\n",
    "\n",
    "# Truy xuất nhiều dòng\n",
    "df2[2:4]"
   ]
  },
  {
   "cell_type": "code",
   "execution_count": 7,
   "metadata": {},
   "outputs": [
    {
     "name": "stdout",
     "output_type": "stream",
     "text": [
      "96\n"
     ]
    }
   ],
   "source": [
    "# Tính tổng cột\n",
    "s = df2['Age'].sum()\n",
    "print(s)"
   ]
  },
  {
   "cell_type": "code",
   "execution_count": 8,
   "metadata": {},
   "outputs": [
    {
     "name": "stdout",
     "output_type": "stream",
     "text": [
      "      Name  Age  Age_10\n",
      "100    Tom   20      30\n",
      "101   Jack   24      34\n",
      "102    Joe   25      35\n",
      "103  Kevin   27      37\n",
      "      Name  Age  Age_10 Gender\n",
      "100    Tom   20      30      F\n",
      "101   Jack   24      34      M\n",
      "102    Joe   25      35      M\n",
      "103  Kevin   27      37      F\n"
     ]
    }
   ],
   "source": [
    "# Thêm cột\n",
    "### Từ các cột có sẵn\n",
    "df2['Age_10'] = df2['Age'] + 10\n",
    "print(df2)\n",
    "\n",
    "### Tự tạo mới (phải trùng index)\n",
    "df2['Gender'] = pd.Series(['F','M','M','F'],index=[100,101,102,103])\n",
    "print(df2)"
   ]
  },
  {
   "cell_type": "code",
   "execution_count": 9,
   "metadata": {},
   "outputs": [],
   "source": [
    "def read_txt(fileName):\n",
    "    f = open(fileName)\n",
    "    data = f.read()\n",
    "    data = data.split(',')\n",
    "    data = [int(item) for item in data]\n",
    "    f.close()\n",
    "    return data"
   ]
  },
  {
   "cell_type": "code",
   "execution_count": 10,
   "metadata": {},
   "outputs": [],
   "source": [
    "series_heights = pd.Series(read_txt('vi_du_04/heights_1.txt'))\n",
    "series_weights = pd.Series(read_txt('vi_du_04/weights_1.txt'))"
   ]
  },
  {
   "cell_type": "code",
   "execution_count": 12,
   "metadata": {},
   "outputs": [
    {
     "name": "stdout",
     "output_type": "stream",
     "text": [
      "   Height  Weight\n",
      "0      74     180\n",
      "1      74     215\n",
      "2      72     210\n",
      "3      72     210\n",
      "4      73     188\n",
      "5      69     176\n",
      "6      69     209\n",
      "7      71     200\n",
      "8      76     231\n",
      "9      71     180\n"
     ]
    }
   ],
   "source": [
    "# Tạo dataframe từ 2 list \n",
    "# (truyền vào dictionary có key là tên các cột, value là list giá trị)\n",
    "df = pd.DataFrame({'Height':series_heights,'Weight':series_weights})\n",
    "print(df.head(10))"
   ]
  },
  {
   "cell_type": "code",
   "execution_count": 26,
   "metadata": {},
   "outputs": [
    {
     "data": {
      "text/html": [
       "<div>\n",
       "<style scoped>\n",
       "    .dataframe tbody tr th:only-of-type {\n",
       "        vertical-align: middle;\n",
       "    }\n",
       "\n",
       "    .dataframe tbody tr th {\n",
       "        vertical-align: top;\n",
       "    }\n",
       "\n",
       "    .dataframe thead th {\n",
       "        text-align: right;\n",
       "    }\n",
       "</style>\n",
       "<table border=\"1\" class=\"dataframe\">\n",
       "  <thead>\n",
       "    <tr style=\"text-align: right;\">\n",
       "      <th></th>\n",
       "      <th>Height</th>\n",
       "      <th>Weight</th>\n",
       "    </tr>\n",
       "  </thead>\n",
       "  <tbody>\n",
       "    <tr>\n",
       "      <th>6</th>\n",
       "      <td>69</td>\n",
       "      <td>209</td>\n",
       "    </tr>\n",
       "    <tr>\n",
       "      <th>37</th>\n",
       "      <td>69</td>\n",
       "      <td>185</td>\n",
       "    </tr>\n",
       "    <tr>\n",
       "      <th>236</th>\n",
       "      <td>69</td>\n",
       "      <td>218</td>\n",
       "    </tr>\n",
       "    <tr>\n",
       "      <th>613</th>\n",
       "      <td>69</td>\n",
       "      <td>200</td>\n",
       "    </tr>\n",
       "    <tr>\n",
       "      <th>756</th>\n",
       "      <td>68</td>\n",
       "      <td>209</td>\n",
       "    </tr>\n",
       "    <tr>\n",
       "      <th>953</th>\n",
       "      <td>68</td>\n",
       "      <td>196</td>\n",
       "    </tr>\n",
       "    <tr>\n",
       "      <th>1006</th>\n",
       "      <td>69</td>\n",
       "      <td>190</td>\n",
       "    </tr>\n",
       "  </tbody>\n",
       "</table>\n",
       "</div>"
      ],
      "text/plain": [
       "      Height  Weight\n",
       "6         69     209\n",
       "37        69     185\n",
       "236       69     218\n",
       "613       69     200\n",
       "756       68     209\n",
       "953       68     196\n",
       "1006      69     190"
      ]
     },
     "execution_count": 26,
     "metadata": {},
     "output_type": "execute_result"
    }
   ],
   "source": [
    "# Tìm những dòng cò height < 70 và weight > 180\n",
    "df1 = df[(df['Height'] < 70) & (df['Weight'] > 180)]\n",
    "df1"
   ]
  },
  {
   "cell_type": "code",
   "execution_count": 31,
   "metadata": {},
   "outputs": [
    {
     "data": {
      "text/html": [
       "<div>\n",
       "<style scoped>\n",
       "    .dataframe tbody tr th:only-of-type {\n",
       "        vertical-align: middle;\n",
       "    }\n",
       "\n",
       "    .dataframe tbody tr th {\n",
       "        vertical-align: top;\n",
       "    }\n",
       "\n",
       "    .dataframe thead th {\n",
       "        text-align: right;\n",
       "    }\n",
       "</style>\n",
       "<table border=\"1\" class=\"dataframe\">\n",
       "  <thead>\n",
       "    <tr style=\"text-align: right;\">\n",
       "      <th></th>\n",
       "      <th>Height</th>\n",
       "      <th>Weight</th>\n",
       "    </tr>\n",
       "  </thead>\n",
       "  <tbody>\n",
       "    <tr>\n",
       "      <th>953</th>\n",
       "      <td>68</td>\n",
       "      <td>196</td>\n",
       "    </tr>\n",
       "    <tr>\n",
       "      <th>756</th>\n",
       "      <td>68</td>\n",
       "      <td>209</td>\n",
       "    </tr>\n",
       "    <tr>\n",
       "      <th>37</th>\n",
       "      <td>69</td>\n",
       "      <td>185</td>\n",
       "    </tr>\n",
       "    <tr>\n",
       "      <th>1006</th>\n",
       "      <td>69</td>\n",
       "      <td>190</td>\n",
       "    </tr>\n",
       "    <tr>\n",
       "      <th>613</th>\n",
       "      <td>69</td>\n",
       "      <td>200</td>\n",
       "    </tr>\n",
       "    <tr>\n",
       "      <th>6</th>\n",
       "      <td>69</td>\n",
       "      <td>209</td>\n",
       "    </tr>\n",
       "    <tr>\n",
       "      <th>236</th>\n",
       "      <td>69</td>\n",
       "      <td>218</td>\n",
       "    </tr>\n",
       "  </tbody>\n",
       "</table>\n",
       "</div>"
      ],
      "text/plain": [
       "      Height  Weight\n",
       "953       68     196\n",
       "756       68     209\n",
       "37        69     185\n",
       "1006      69     190\n",
       "613       69     200\n",
       "6         69     209\n",
       "236       69     218"
      ]
     },
     "execution_count": 31,
     "metadata": {},
     "output_type": "execute_result"
    }
   ],
   "source": [
    "# Sắp xếp tăng dần theo index\n",
    "df_sort_index = df1.sort_index()\n",
    "df_sort_index\n",
    "\n",
    "# Sắp xếp giảm dần theo giá trị 'Weight'\n",
    "df_sort_value = df1.sort_values(by = 'Weight', ascending = False)\n",
    "df_sort_value\n",
    "\n",
    "# Sắp xếp tăng dần theo giá trị 'Height' và Weight'\n",
    "df_sort_value = df1.sort_values(by = ['Height','Weight'])\n",
    "df_sort_value"
   ]
  },
  {
   "cell_type": "code",
   "execution_count": null,
   "metadata": {},
   "outputs": [],
   "source": []
  }
 ],
 "metadata": {
  "kernelspec": {
   "display_name": "Python 3",
   "language": "python",
   "name": "python3"
  },
  "language_info": {
   "codemirror_mode": {
    "name": "ipython",
    "version": 3
   },
   "file_extension": ".py",
   "mimetype": "text/x-python",
   "name": "python",
   "nbconvert_exporter": "python",
   "pygments_lexer": "ipython3",
   "version": "3.6.8"
  }
 },
 "nbformat": 4,
 "nbformat_minor": 2
}
