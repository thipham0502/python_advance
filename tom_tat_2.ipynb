{
 "cells": [
  {
   "cell_type": "code",
   "execution_count": 2,
   "metadata": {},
   "outputs": [],
   "source": [
    "import numpy as np"
   ]
  },
  {
   "cell_type": "code",
   "execution_count": 3,
   "metadata": {},
   "outputs": [
    {
     "name": "stdout",
     "output_type": "stream",
     "text": [
      "[[1 2 3]\n",
      " [4 5 6]]\n",
      "(2, 3)\n",
      "[[[ 1  2  3]\n",
      "  [ 4  5  6]]\n",
      "\n",
      " [[ 7  8  9]\n",
      "  [ 8  9 10]]]\n",
      "(2, 2, 3)\n",
      "6\n",
      "1\n",
      "[4 5 6]\n",
      "[3 6]\n"
     ]
    }
   ],
   "source": [
    "# khoi tao 1\n",
    "a = np.array([[1,2,3],[4,5,6]])\n",
    "print(a)\n",
    "print(a.shape)\n",
    "b = np.array([[[1,2,3],[4,5,6]],[[7,8,9],[8,9,10]]])\n",
    "print(b)\n",
    "print(b.shape)\n",
    "# tim max, min\n",
    "print(np.amax(a))\n",
    "print(np.amin(a))\n",
    "print(np.amax(a,axis=0))\n",
    "print(np.amax(a,axis=1))"
   ]
  },
  {
   "cell_type": "code",
   "execution_count": 4,
   "metadata": {},
   "outputs": [
    {
     "name": "stdout",
     "output_type": "stream",
     "text": [
      "[[5 9 7 9 9]\n",
      " [5 5 7 5 7]\n",
      " [8 6 6 7 9]]\n",
      "(3, 5)\n"
     ]
    }
   ],
   "source": [
    "# khoi tao 2\n",
    "c = np.array(np.random.uniform(5,10,[3,5]), dtype='i')\n",
    "print(c)\n",
    "print(c.shape)"
   ]
  },
  {
   "cell_type": "code",
   "execution_count": 5,
   "metadata": {},
   "outputs": [
    {
     "name": "stdout",
     "output_type": "stream",
     "text": [
      "[b'Tom' b'Jane' b'Jack']\n",
      "[50 30 40]\n",
      "[4.5 1.6 2.7]\n",
      "[(b'Tom', 50, 4.5) (b'Jane', 30, 1.6) (b'Jack', 40, 2.7)]\n",
      "[(b'Jack', 40, 2.7) (b'Jane', 30, 1.6) (b'Tom', 50, 4.5)]\n",
      "[(b'Jane', 30, 1.6) (b'Jack', 40, 2.7) (b'Tom', 50, 4.5)]\n"
     ]
    }
   ],
   "source": [
    "# khoi tao 3\n",
    "dt = np.dtype([(\"name\",\"S10\"),(\"age\",\"i8\"),(\"point\",\"float16\")])\n",
    "d = np.array([(\"Tom\",50,4.5),(\"Jane\",30,1.6),(\"Jack\",40,2.7)], dtype=dt)\n",
    "print(d[\"name\"])\n",
    "print(d[\"age\"])\n",
    "print(d[\"point\"])\n",
    "print(d)\n",
    "# sap tang theo name\n",
    "print(np.sort(d,order='name'))\n",
    "# sap tang theo age\n",
    "print(np.sort(d,order='age'))"
   ]
  },
  {
   "cell_type": "code",
   "execution_count": null,
   "metadata": {},
   "outputs": [],
   "source": []
  }
 ],
 "metadata": {
  "kernelspec": {
   "display_name": "Python 3",
   "language": "python",
   "name": "python3"
  },
  "language_info": {
   "codemirror_mode": {
    "name": "ipython",
    "version": 3
   },
   "file_extension": ".py",
   "mimetype": "text/x-python",
   "name": "python",
   "nbconvert_exporter": "python",
   "pygments_lexer": "ipython3",
   "version": "3.6.8"
  }
 },
 "nbformat": 4,
 "nbformat_minor": 2
}
